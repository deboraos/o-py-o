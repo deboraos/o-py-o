{
  "nbformat": 4,
  "nbformat_minor": 0,
  "metadata": {
    "kernelspec": {
      "display_name": "Python 3",
      "language": "python",
      "name": "python3"
    },
    "language_info": {
      "codemirror_mode": {
        "name": "ipython",
        "version": 3
      },
      "file_extension": ".py",
      "mimetype": "text/x-python",
      "name": "python",
      "nbconvert_exporter": "python",
      "pygments_lexer": "ipython3",
      "version": "3.6.10"
    },
    "colab": {
      "name": "modulo-2-funcoes.ipynb",
      "provenance": []
    }
  },
  "cells": [
    {
      "cell_type": "markdown",
      "metadata": {
        "id": "1l7zEG0eYNnh"
      },
      "source": [
        "<img src=\"https://github.com/deboraos/o-py-o/blob/master/imagens/2.png?raw=1\">\n",
        "\n",
        "## Revisando o conteúdo da semana!"
      ]
    },
    {
      "cell_type": "markdown",
      "metadata": {
        "id": "Bw2RjDjEYNni"
      },
      "source": [
        "1 - Um objeto de função é um valor que pode ser atribuído a uma variável ou passado como argumento. Por exemplo, do_twice é uma função que toma um objeto de função como argumento e o chama duas vezes:"
      ]
    },
    {
      "cell_type": "code",
      "metadata": {
        "id": "jO_XiF3cYNnj"
      },
      "source": [
        "def do_twice(f):\n",
        "    f()\n",
        "    f()"
      ],
      "execution_count": 19,
      "outputs": []
    },
    {
      "cell_type": "markdown",
      "metadata": {
        "id": "XwdF2X-3YNnl"
      },
      "source": [
        "Aqui está um exemplo que usa do_twice para chamar uma função chamada print_spam duas vezes:"
      ]
    },
    {
      "cell_type": "code",
      "metadata": {
        "id": "lO7bwHSQYNnm"
      },
      "source": [
        "def print_spam():\n",
        "    print('spam')"
      ],
      "execution_count": 20,
      "outputs": []
    },
    {
      "cell_type": "code",
      "metadata": {
        "id": "FlwClvt3YNno",
        "outputId": "b220703b-1059-49bd-bc1d-a7b562d84ee2",
        "colab": {
          "base_uri": "https://localhost:8080/",
          "height": 50
        }
      },
      "source": [
        "do_twice(print_spam)"
      ],
      "execution_count": 21,
      "outputs": [
        {
          "output_type": "stream",
          "text": [
            "spam\n",
            "spam\n"
          ],
          "name": "stdout"
        }
      ]
    },
    {
      "cell_type": "markdown",
      "metadata": {
        "id": "S1TZXUlHYNnr"
      },
      "source": [
        "a) Altere `do_twice` para que receba dois argumentos, um objeto de função e um valor, e chame a função duas vezes, passando o valor como um argumento."
      ]
    },
    {
      "cell_type": "code",
      "metadata": {
        "id": "AhHBniFRYNnr"
      },
      "source": [
        "def do_twice(f, valor):\n",
        "    print(valor)\n",
        "    print(valor)"
      ],
      "execution_count": 26,
      "outputs": []
    },
    {
      "cell_type": "markdown",
      "metadata": {
        "id": "bOnGxqPeYNnu"
      },
      "source": [
        "b) Use a versão alterada de `do_twice` para chamar `print_twice` duas vezes, passando 'spam' como um argumento."
      ]
    },
    {
      "cell_type": "code",
      "metadata": {
        "id": "so1sDjbJYNnu",
        "outputId": "5dc67f24-af88-4dee-8b27-c3136a5d4373",
        "colab": {
          "base_uri": "https://localhost:8080/",
          "height": 50
        }
      },
      "source": [
        "do_twice(print_spam, 'spam')"
      ],
      "execution_count": 27,
      "outputs": [
        {
          "output_type": "stream",
          "text": [
            "spam\n",
            "spam\n"
          ],
          "name": "stdout"
        }
      ]
    },
    {
      "cell_type": "markdown",
      "metadata": {
        "id": "_TaTDiZfYNnw"
      },
      "source": [
        "c) Defina uma função nova chamada `do_four` que receba um objeto de função e um valor e chame a função quatro vezes, passando o valor como um parâmetro. Deve haver só duas afirmações no corpo desta função, não quatro."
      ]
    },
    {
      "cell_type": "code",
      "metadata": {
        "id": "XcGzeOGOYNnw",
        "outputId": "30584205-b9a5-4bd9-eacb-be8936adcc8e",
        "colab": {
          "base_uri": "https://localhost:8080/",
          "height": 84
        }
      },
      "source": [
        "def do_four(f, valor):\n",
        "    do_twice(f, valor)\n",
        "    do_twice(f, valor)\n",
        "\n",
        "do_four(print_spam, 'spam')"
      ],
      "execution_count": 29,
      "outputs": [
        {
          "output_type": "stream",
          "text": [
            "spam\n",
            "spam\n",
            "spam\n",
            "spam\n"
          ],
          "name": "stdout"
        }
      ]
    },
    {
      "cell_type": "markdown",
      "metadata": {
        "id": "i8kkya7xYNnz"
      },
      "source": [
        "2 - Escreva uma função que desenhe uma grade como a seguinte:"
      ]
    },
    {
      "cell_type": "code",
      "metadata": {
        "id": "SBKyeJnPYNnz"
      },
      "source": [
        "+ - - - - + - - - - +\n",
        "|         |         |\n",
        "|         |         |\n",
        "|         |         |\n",
        "|         |         |\n",
        "+ - - - - + - - - - +\n",
        "|         |         |\n",
        "|         |         |\n",
        "|         |         |\n",
        "|         |         |\n",
        "+ - - - - + - - - - +"
      ],
      "execution_count": null,
      "outputs": []
    },
    {
      "cell_type": "markdown",
      "metadata": {
        "id": "INcpsuiZYNn1"
      },
      "source": [
        "Dica: para exibir mais de um valor em uma linha, podemos usar uma sequência de valores separados por vírgula:"
      ]
    },
    {
      "cell_type": "code",
      "metadata": {
        "id": "qGNocx_EYNn2",
        "outputId": "904d9554-c750-4dd9-dfbf-555430b88ae6",
        "colab": {
          "base_uri": "https://localhost:8080/",
          "height": 34
        }
      },
      "source": [
        "print('+', '-')"
      ],
      "execution_count": 1,
      "outputs": [
        {
          "output_type": "stream",
          "text": [
            "+ -\n"
          ],
          "name": "stdout"
        }
      ]
    },
    {
      "cell_type": "markdown",
      "metadata": {
        "id": "RVvi8l61YNn4"
      },
      "source": [
        "*Comentário:*\n",
        "Por padrão, print avança para a linha seguinte, mas podemos ignorar esse comportamento e inserir um espaço no fim, desta forma:"
      ]
    },
    {
      "cell_type": "code",
      "metadata": {
        "id": "tmF89-iFYNn4",
        "outputId": "fa60119b-5f97-4ec3-e4d5-2cd353907cac",
        "colab": {
          "base_uri": "https://localhost:8080/",
          "height": 34
        }
      },
      "source": [
        "print('+', end=' ')\n",
        "print('-')"
      ],
      "execution_count": 30,
      "outputs": [
        {
          "output_type": "stream",
          "text": [
            "+ -\n"
          ],
          "name": "stdout"
        }
      ]
    },
    {
      "cell_type": "code",
      "metadata": {
        "id": "lr1hbPWAbZw_",
        "outputId": "4ba6cef0-96cc-4b67-9a41-54485b6d4928",
        "colab": {
          "base_uri": "https://localhost:8080/",
          "height": 202
        }
      },
      "source": [
        "def do_twice(f):\n",
        "    f()\n",
        "    f()\n",
        "\n",
        "def do_four(f):\n",
        "    do_twice(f)\n",
        "    do_twice(f)\n",
        "\n",
        "def print_parede():\n",
        "    print('+ - - - -', end=' ')\n",
        "  \n",
        "def print_pipe():\n",
        "    print('|        ', end=' ')\n",
        "\n",
        "def print_mais():\n",
        "    do_twice(print_parede)\n",
        "    print('+')\n",
        "\n",
        "def print_pipes():\n",
        "    do_twice(print_pipe)\n",
        "    print('|')\n",
        "\n",
        "def print_linha():\n",
        "    print_mais()\n",
        "    do_four(print_pipes)\n",
        "\n",
        "def print_grade():\n",
        "    do_twice(print_linha)\n",
        "    print_mais()\n",
        "\n",
        "print_grade()"
      ],
      "execution_count": 34,
      "outputs": [
        {
          "output_type": "stream",
          "text": [
            "+ - - - - + - - - - +\n",
            "|         |         |\n",
            "|         |         |\n",
            "|         |         |\n",
            "|         |         |\n",
            "+ - - - - + - - - - +\n",
            "|         |         |\n",
            "|         |         |\n",
            "|         |         |\n",
            "|         |         |\n",
            "+ - - - - + - - - - +\n"
          ],
          "name": "stdout"
        }
      ]
    },
    {
      "cell_type": "markdown",
      "metadata": {
        "id": "e7f1fGjyYNn6"
      },
      "source": [
        "3 - Um número a é uma potência de b se for divisível por b e a/b for uma potência de b. Escreva uma função chamada `is_power` que receba os parâmetros a e b e retorne True se a for uma potência de b."
      ]
    },
    {
      "cell_type": "code",
      "metadata": {
        "id": "af4YngBAYNn7",
        "outputId": "72d01c16-3e2f-40ec-b867-eddff7849e14",
        "colab": {
          "base_uri": "https://localhost:8080/",
          "height": 50
        }
      },
      "source": [
        "def is_power(a, b):\n",
        "  if a % b == 0:\n",
        "      if a == b:\n",
        "          return True\n",
        "      else:\n",
        "          return is_power(a/b, b)\n",
        "  return False\n",
        "\n",
        "print(is_power(6, 2))\n",
        "print(is_power(8, 2))"
      ],
      "execution_count": 41,
      "outputs": [
        {
          "output_type": "stream",
          "text": [
            "False\n",
            "True\n"
          ],
          "name": "stdout"
        }
      ]
    },
    {
      "cell_type": "markdown",
      "metadata": {
        "id": "LpALppkSYNn9"
      },
      "source": [
        "---\n",
        "\n",
        "## Quais são as outras formas de praticar esses conceitos?\n",
        "\n",
        "<img src=\"https://media1.tenor.com/images/325243df1673b884f9a044797c1cfd00/tenor.gif\" align=\"left\">"
      ]
    },
    {
      "cell_type": "markdown",
      "metadata": {
        "id": "M5yanKgfYNn9"
      },
      "source": [
        "<Adicionar atividade de sua preferência para aplicação dos conceitos>"
      ]
    }
  ]
}