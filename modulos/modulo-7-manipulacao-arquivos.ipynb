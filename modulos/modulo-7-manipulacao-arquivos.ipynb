{
  "nbformat": 4,
  "nbformat_minor": 0,
  "metadata": {
    "kernelspec": {
      "display_name": "Python 3",
      "language": "python",
      "name": "python3"
    },
    "language_info": {
      "codemirror_mode": {
        "name": "ipython",
        "version": 3
      },
      "file_extension": ".py",
      "mimetype": "text/x-python",
      "name": "python",
      "nbconvert_exporter": "python",
      "pygments_lexer": "ipython3",
      "version": "3.6.10"
    },
    "colab": {
      "name": "modulo-7-manipulacao-arquivos.ipynb",
      "provenance": []
    }
  },
  "cells": [
    {
      "cell_type": "markdown",
      "metadata": {
        "id": "162SpSvWnTC8"
      },
      "source": [
        "<img src=\"https://github.com/deboraos/o-py-o/blob/master/imagens/7.png?raw=1\">\n",
        "\n",
        "## Revisando o conteúdo da semana!"
      ]
    },
    {
      "cell_type": "markdown",
      "metadata": {
        "id": "MwGXyH0znTC9"
      },
      "source": [
        "1. Escreva uma função chamada sed que receba como argumentos uma string-padrão, uma string de substituição e dois nomes de arquivo; ela deve ler o primeiro arquivo e escrever o conteúdo no segundo arquivo (criando-o, se necessário). Se a string-padrão aparecer em algum lugar do arquivo, ela deve ser substituída pela string de substituição. Se ocorrer um erro durante a abertura, leitura, escrita ou fechamento dos arquivos, seu programa deve capturar a exceção, exibir uma mensagem de erro e encerrar."
      ]
    },
    {
      "cell_type": "code",
      "metadata": {
        "id": "ZH4M1PfrnTC-"
      },
      "source": [
        "def sed(padrao, substituir, origem, destino):\n",
        "    o = open(origem, 'r')\n",
        "    d = open(destino, 'w')\n",
        "\n",
        "    for linha in o:\n",
        "        linha = linha.replace(padrao, substituir)\n",
        "        d.write(line)\n",
        "\n",
        "    o.close()\n",
        "    d.close()"
      ],
      "execution_count": 4,
      "outputs": []
    },
    {
      "cell_type": "markdown",
      "metadata": {
        "id": "Zq5atAZYnTDB"
      },
      "source": [
        "---\n",
        "\n",
        "## Quais são as outras formas de praticar esses conceitos?\n",
        "\n",
        "<img src=\"https://media.giphy.com/media/45dPIJaV9AYOZUZ0nQ/giphy.gif\" align=\"left\">\n"
      ]
    },
    {
      "cell_type": "markdown",
      "metadata": {
        "id": "vS5j_suInTDC"
      },
      "source": [
        "<Adicionar atividade de sua preferência para aplicação dos conceitos>"
      ]
    }
  ]
}