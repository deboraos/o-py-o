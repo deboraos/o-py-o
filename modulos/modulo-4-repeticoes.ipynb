{
  "nbformat": 4,
  "nbformat_minor": 0,
  "metadata": {
    "kernelspec": {
      "display_name": "Python 3",
      "language": "python",
      "name": "python3"
    },
    "language_info": {
      "codemirror_mode": {
        "name": "ipython",
        "version": 3
      },
      "file_extension": ".py",
      "mimetype": "text/x-python",
      "name": "python",
      "nbconvert_exporter": "python",
      "pygments_lexer": "ipython3",
      "version": "3.6.10"
    },
    "colab": {
      "name": "modulo-4-repeticoes.ipynb",
      "provenance": []
    }
  },
  "cells": [
    {
      "cell_type": "markdown",
      "metadata": {
        "id": "rvs40kFQfBf9"
      },
      "source": [
        "<img src=\"https://github.com/deboraos/o-py-o/blob/master/imagens/4.png?raw=1\">\n",
        "\n",
        "## Revisando o conteúdo da semana!"
      ]
    },
    {
      "cell_type": "markdown",
      "metadata": {
        "id": "i0rJ_99JfBf-"
      },
      "source": [
        "1 - A função integrada eval toma uma string e a avalia, usando o interpretador do Python. Por exemplo:"
      ]
    },
    {
      "cell_type": "code",
      "metadata": {
        "id": "wp7WSmegfBf-",
        "outputId": "43a4be17-5de4-4b11-b8e2-ad4aa58ecac0",
        "colab": {
          "base_uri": "https://localhost:8080/"
        }
      },
      "source": [
        "eval('1 + 2 * 3')"
      ],
      "execution_count": 6,
      "outputs": [
        {
          "output_type": "execute_result",
          "data": {
            "text/plain": [
              "7"
            ]
          },
          "metadata": {
            "tags": []
          },
          "execution_count": 6
        }
      ]
    },
    {
      "cell_type": "code",
      "metadata": {
        "id": "fG2Szz7nfBgB"
      },
      "source": [
        "import math"
      ],
      "execution_count": 7,
      "outputs": []
    },
    {
      "cell_type": "code",
      "metadata": {
        "id": "v6IW8CO7fBgD",
        "outputId": "72904a09-ab71-4005-b62e-decfb0ead7a0",
        "colab": {
          "base_uri": "https://localhost:8080/"
        }
      },
      "source": [
        "eval('math.sqrt(5)')"
      ],
      "execution_count": 8,
      "outputs": [
        {
          "output_type": "execute_result",
          "data": {
            "text/plain": [
              "2.23606797749979"
            ]
          },
          "metadata": {
            "tags": []
          },
          "execution_count": 8
        }
      ]
    },
    {
      "cell_type": "code",
      "metadata": {
        "id": "uPVZVY0gfBgF",
        "outputId": "5380eaf5-8a85-4a54-9802-e46fd19365a6",
        "colab": {
          "base_uri": "https://localhost:8080/"
        }
      },
      "source": [
        "eval('type(math.pi)')"
      ],
      "execution_count": 9,
      "outputs": [
        {
          "output_type": "execute_result",
          "data": {
            "text/plain": [
              "float"
            ]
          },
          "metadata": {
            "tags": []
          },
          "execution_count": 9
        }
      ]
    },
    {
      "cell_type": "markdown",
      "metadata": {
        "id": "OuB0Be1HfBgH"
      },
      "source": [
        "Escreva uma função chamada `eval_loop` que iterativamente peça uma entrada ao usuário, a avalie usando eval e exiba o resultado.\n",
        "\n",
        "Ela deve continuar até que o usuário digite **done**; então deverá exibir o valor da última expressão avaliada."
      ]
    },
    {
      "cell_type": "code",
      "metadata": {
        "id": "6P8Se6E1fBgH"
      },
      "source": [
        "def eval_loop():\n",
        "  while True:\n",
        "    entrada = eval(input())\n",
        "    if entrada == 'done':\n",
        "        break\n",
        "    print(entrada)\n",
        "\n",
        "eval_loop()"
      ],
      "execution_count": null,
      "outputs": []
    },
    {
      "cell_type": "markdown",
      "metadata": {
        "id": "f4Fd5CgefBgK"
      },
      "source": [
        "2 - Há um método de string chamado `count`, que é semelhante à função em “Loop e contagem”. O count sempre acompanhado de uma string, tem como objetivo contar um caracter ou um conjunto de caracteres de uma string. Escreva uma invocação que conte o número de letras **'a'** em **‘banana’**."
      ]
    },
    {
      "cell_type": "code",
      "metadata": {
        "id": "QKnKRIEBfBgK"
      },
      "source": [
        ""
      ],
      "execution_count": null,
      "outputs": []
    },
    {
      "cell_type": "markdown",
      "metadata": {
        "id": "hC4JSTnsfBgN"
      },
      "source": [
        "3 - As seguintes funções pretendem verificar se uma string contém alguma letra minúscula, mas algumas delas estão erradas. Para cada função, identifique o que ela faz (assumindo que o parâmetro seja uma string)."
      ]
    },
    {
      "cell_type": "code",
      "metadata": {
        "id": "9PcWRRAsfBgN"
      },
      "source": [
        "def any_lowercase1(s):\n",
        "    for c in s:\n",
        "        if c.islower():\n",
        "            return True\n",
        "        else:\n",
        "            return False"
      ],
      "execution_count": null,
      "outputs": []
    },
    {
      "cell_type": "code",
      "metadata": {
        "id": "fc8LXHS4fBgP"
      },
      "source": [
        ""
      ],
      "execution_count": null,
      "outputs": []
    },
    {
      "cell_type": "code",
      "metadata": {
        "id": "evQMUT96fBgR"
      },
      "source": [
        "def any_lowercase2(s):\n",
        "    for c in s:\n",
        "        if 'c'.islower():\n",
        "            return 'True'\n",
        "        else:\n",
        "            return 'False'"
      ],
      "execution_count": null,
      "outputs": []
    },
    {
      "cell_type": "code",
      "metadata": {
        "id": "Vk22G9npfBgT"
      },
      "source": [
        ""
      ],
      "execution_count": null,
      "outputs": []
    },
    {
      "cell_type": "code",
      "metadata": {
        "id": "P9nkVZKufBgV"
      },
      "source": [
        "def any_lowercase3(s):\n",
        "    for c in s:\n",
        "        flag = c.islower()\n",
        "    return flag"
      ],
      "execution_count": null,
      "outputs": []
    },
    {
      "cell_type": "code",
      "metadata": {
        "id": "Udp5iulJfBgX"
      },
      "source": [
        ""
      ],
      "execution_count": null,
      "outputs": []
    },
    {
      "cell_type": "code",
      "metadata": {
        "id": "rWinDpRTfBgZ"
      },
      "source": [
        "def any_lowercase4(s):\n",
        "    flag = False\n",
        "    for c in s:\n",
        "        flag = flag or c.islower()\n",
        "    return flag"
      ],
      "execution_count": null,
      "outputs": []
    },
    {
      "cell_type": "code",
      "metadata": {
        "id": "Wkqs_jRVfBgb"
      },
      "source": [
        ""
      ],
      "execution_count": null,
      "outputs": []
    },
    {
      "cell_type": "code",
      "metadata": {
        "id": "GR_5z7nrfBgd"
      },
      "source": [
        "def any_lowercase5(s):\n",
        "    for c in s:\n",
        "        if not c.islower():\n",
        "            return False\n",
        "    return True"
      ],
      "execution_count": null,
      "outputs": []
    },
    {
      "cell_type": "code",
      "metadata": {
        "id": "MnfmJR3YfBgf"
      },
      "source": [
        ""
      ],
      "execution_count": null,
      "outputs": []
    },
    {
      "cell_type": "markdown",
      "metadata": {
        "id": "FFPszC4dfBgg"
      },
      "source": [
        "---\n",
        "\n",
        "## Quais são as outras formas de praticar esses conceitos?\n",
        "\n",
        "<img src=\"https://media.giphy.com/media/3gPLPJzFi8a3vhLTtw/giphy.gif\" align=\"left\">"
      ]
    },
    {
      "cell_type": "markdown",
      "metadata": {
        "id": "JiHy1XIvfBgh"
      },
      "source": [
        "<Adicionar atividade de sua preferência para aplicação dos conceitos>"
      ]
    }
  ]
}