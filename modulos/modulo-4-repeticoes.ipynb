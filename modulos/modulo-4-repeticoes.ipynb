{
  "nbformat": 4,
  "nbformat_minor": 0,
  "metadata": {
    "kernelspec": {
      "display_name": "Python 3",
      "language": "python",
      "name": "python3"
    },
    "language_info": {
      "codemirror_mode": {
        "name": "ipython",
        "version": 3
      },
      "file_extension": ".py",
      "mimetype": "text/x-python",
      "name": "python",
      "nbconvert_exporter": "python",
      "pygments_lexer": "ipython3",
      "version": "3.6.10"
    },
    "colab": {
      "name": "modulo-4-repeticoes.ipynb",
      "provenance": []
    }
  },
  "cells": [
    {
      "cell_type": "markdown",
      "metadata": {
        "id": "rvs40kFQfBf9"
      },
      "source": [
        "<img src=\"https://github.com/deboraos/o-py-o/blob/master/imagens/4.png?raw=1\">\n",
        "\n",
        "## Revisando o conteúdo da semana!"
      ]
    },
    {
      "cell_type": "markdown",
      "metadata": {
        "id": "i0rJ_99JfBf-"
      },
      "source": [
        "1 - A função integrada eval toma uma string e a avalia, usando o interpretador do Python. Por exemplo:"
      ]
    },
    {
      "cell_type": "code",
      "metadata": {
        "id": "wp7WSmegfBf-",
        "outputId": "43a4be17-5de4-4b11-b8e2-ad4aa58ecac0",
        "colab": {
          "base_uri": "https://localhost:8080/"
        }
      },
      "source": [
        "eval('1 + 2 * 3')"
      ],
      "execution_count": null,
      "outputs": [
        {
          "output_type": "execute_result",
          "data": {
            "text/plain": [
              "7"
            ]
          },
          "metadata": {
            "tags": []
          },
          "execution_count": 6
        }
      ]
    },
    {
      "cell_type": "code",
      "metadata": {
        "id": "fG2Szz7nfBgB"
      },
      "source": [
        "import math"
      ],
      "execution_count": null,
      "outputs": []
    },
    {
      "cell_type": "code",
      "metadata": {
        "id": "v6IW8CO7fBgD",
        "outputId": "72904a09-ab71-4005-b62e-decfb0ead7a0",
        "colab": {
          "base_uri": "https://localhost:8080/"
        }
      },
      "source": [
        "eval('math.sqrt(5)')"
      ],
      "execution_count": null,
      "outputs": [
        {
          "output_type": "execute_result",
          "data": {
            "text/plain": [
              "2.23606797749979"
            ]
          },
          "metadata": {
            "tags": []
          },
          "execution_count": 8
        }
      ]
    },
    {
      "cell_type": "code",
      "metadata": {
        "id": "uPVZVY0gfBgF",
        "outputId": "5380eaf5-8a85-4a54-9802-e46fd19365a6",
        "colab": {
          "base_uri": "https://localhost:8080/"
        }
      },
      "source": [
        "eval('type(math.pi)')"
      ],
      "execution_count": null,
      "outputs": [
        {
          "output_type": "execute_result",
          "data": {
            "text/plain": [
              "float"
            ]
          },
          "metadata": {
            "tags": []
          },
          "execution_count": 9
        }
      ]
    },
    {
      "cell_type": "markdown",
      "metadata": {
        "id": "OuB0Be1HfBgH"
      },
      "source": [
        "Escreva uma função chamada `eval_loop` que iterativamente peça uma entrada ao usuário, a avalie usando eval e exiba o resultado.\n",
        "\n",
        "Ela deve continuar até que o usuário digite **done**; então deverá exibir o valor da última expressão avaliada."
      ]
    },
    {
      "cell_type": "code",
      "metadata": {
        "id": "6P8Se6E1fBgH",
        "outputId": "016dea39-1946-4f97-b57e-fdbdd91cdc0a",
        "colab": {
          "base_uri": "https://localhost:8080/",
          "height": 101
        }
      },
      "source": [
        "def eval_loop():\n",
        "  while True:\n",
        "    entrada = input()\n",
        "    if entrada == 'done':\n",
        "        break\n",
        "    print (eval(entrada))\n",
        "\n",
        "eval_loop()"
      ],
      "execution_count": null,
      "outputs": [
        {
          "output_type": "stream",
          "text": [
            "1 + 2\n",
            "3\n",
            "2 + 3\n",
            "5\n",
            "done\n"
          ],
          "name": "stdout"
        }
      ]
    },
    {
      "cell_type": "markdown",
      "metadata": {
        "id": "f4Fd5CgefBgK"
      },
      "source": [
        "2 - Há um método de string chamado `count`, que é semelhante à função em “Loop e contagem”. O count sempre acompanhado de uma string, tem como objetivo contar um caracter ou um conjunto de caracteres de uma string. Escreva uma invocação que conte o número de letras **'a'** em **‘banana’**."
      ]
    },
    {
      "cell_type": "code",
      "metadata": {
        "id": "QKnKRIEBfBgK",
        "outputId": "3e6249a0-6c06-4525-b3c7-b5505e36d33e",
        "colab": {
          "base_uri": "https://localhost:8080/",
          "height": 67
        }
      },
      "source": [
        "palavra = 'banana'\n",
        "count = 0\n",
        "for letra in palavra:\n",
        "    if letra == 'a':\n",
        "        count = count + 1\n",
        "print(count)\n",
        "\n",
        "print('----')\n",
        "\n",
        "print(palavra.count('a'))"
      ],
      "execution_count": null,
      "outputs": [
        {
          "output_type": "stream",
          "text": [
            "3\n",
            "----\n",
            "3\n"
          ],
          "name": "stdout"
        }
      ]
    },
    {
      "cell_type": "markdown",
      "metadata": {
        "id": "hC4JSTnsfBgN"
      },
      "source": [
        "3 - As seguintes funções pretendem verificar se uma string contém alguma letra minúscula, mas algumas delas estão erradas. Para cada função, identifique o que ela faz (assumindo que o parâmetro seja uma string)."
      ]
    },
    {
      "cell_type": "code",
      "metadata": {
        "id": "9PcWRRAsfBgN",
        "outputId": "0bb0b2c1-1233-48fa-9ac1-ab91d1fb0b44",
        "colab": {
          "base_uri": "https://localhost:8080/"
        }
      },
      "source": [
        "def any_lowercase1(s):\n",
        "    for c in s:\n",
        "        if c.islower():\n",
        "            return True\n",
        "        else:\n",
        "            return False\n",
        "\n",
        "print(any_lowercase1('olapyladies'))\n",
        "print(any_lowercase1('Olapyladies'))"
      ],
      "execution_count": null,
      "outputs": [
        {
          "output_type": "stream",
          "text": [
            "True\n",
            "False\n"
          ],
          "name": "stdout"
        }
      ]
    },
    {
      "cell_type": "code",
      "metadata": {
        "id": "fc8LXHS4fBgP"
      },
      "source": [
        "# Verdadeiro se a primeira letra for minúscula"
      ],
      "execution_count": null,
      "outputs": []
    },
    {
      "cell_type": "code",
      "metadata": {
        "id": "evQMUT96fBgR",
        "outputId": "bf93553a-c3c0-45d5-8308-7f9585a191e3",
        "colab": {
          "base_uri": "https://localhost:8080/"
        }
      },
      "source": [
        "def any_lowercase2(s):\n",
        "    for c in s:\n",
        "        if 'c'.islower():\n",
        "            return 'True'\n",
        "        else:\n",
        "            return 'False'\n",
        "\n",
        "print(any_lowercase2('olapyladies'))\n",
        "print(any_lowercase2('OlaPyladies'))"
      ],
      "execution_count": null,
      "outputs": [
        {
          "output_type": "stream",
          "text": [
            "True\n",
            "True\n"
          ],
          "name": "stdout"
        }
      ]
    },
    {
      "cell_type": "code",
      "metadata": {
        "id": "Vk22G9npfBgT"
      },
      "source": [
        "# Sempre retornará verdadeiro pois verifica apenas se a string 'c' é minúscula."
      ],
      "execution_count": null,
      "outputs": []
    },
    {
      "cell_type": "code",
      "metadata": {
        "id": "P9nkVZKufBgV",
        "outputId": "dee4027b-ef10-440a-a5b6-821da42fe8f7",
        "colab": {
          "base_uri": "https://localhost:8080/"
        }
      },
      "source": [
        "def any_lowercase3(s):\n",
        "    for c in s:\n",
        "        flag = c.islower()\n",
        "    return flag\n",
        "\n",
        "print(any_lowercase3('olapyladies'))\n",
        "print(any_lowercase3('OlaPyladieS'))"
      ],
      "execution_count": null,
      "outputs": [
        {
          "output_type": "stream",
          "text": [
            "True\n",
            "False\n"
          ],
          "name": "stdout"
        }
      ]
    },
    {
      "cell_type": "code",
      "metadata": {
        "id": "Udp5iulJfBgX"
      },
      "source": [
        "# Percorre o for todo e atribui a ultima letra da string para verificar se é minúscula"
      ],
      "execution_count": null,
      "outputs": []
    },
    {
      "cell_type": "code",
      "metadata": {
        "id": "rWinDpRTfBgZ",
        "outputId": "d0dd61ca-f17a-45eb-df31-542b6c9659f7",
        "colab": {
          "base_uri": "https://localhost:8080/"
        }
      },
      "source": [
        "def any_lowercase4(s):\n",
        "    flag = False\n",
        "    for c in s:\n",
        "        flag = flag or c.islower()\n",
        "    return flag\n",
        "\n",
        "print(any_lowercase4('olapyladies'))\n",
        "print(any_lowercase4('OLAPYLADIES'))"
      ],
      "execution_count": null,
      "outputs": [
        {
          "output_type": "stream",
          "text": [
            "True\n",
            "False\n"
          ],
          "name": "stdout"
        }
      ]
    },
    {
      "cell_type": "code",
      "metadata": {
        "id": "Wkqs_jRVfBgb"
      },
      "source": [
        "# Falso apenas se todas as letras forem maiúsculas"
      ],
      "execution_count": null,
      "outputs": []
    },
    {
      "cell_type": "code",
      "metadata": {
        "id": "GR_5z7nrfBgd",
        "outputId": "16614479-6494-4a35-cb66-f3d36d07cb9b",
        "colab": {
          "base_uri": "https://localhost:8080/"
        }
      },
      "source": [
        "def any_lowercase5(s):\n",
        "    for c in s:\n",
        "        if not c.islower():\n",
        "            return False\n",
        "    return True\n",
        "\n",
        "print(any_lowercase5('olapyladies'))\n",
        "print(any_lowercase5('olaPyladies'))"
      ],
      "execution_count": null,
      "outputs": [
        {
          "output_type": "stream",
          "text": [
            "True\n",
            "False\n"
          ],
          "name": "stdout"
        }
      ]
    },
    {
      "cell_type": "code",
      "metadata": {
        "id": "MnfmJR3YfBgf"
      },
      "source": [
        "# Verdadeiro apenas se todas as letras forem minusculas"
      ],
      "execution_count": null,
      "outputs": []
    },
    {
      "cell_type": "markdown",
      "metadata": {
        "id": "FFPszC4dfBgg"
      },
      "source": [
        "---\n",
        "\n",
        "## Quais são as outras formas de praticar esses conceitos?\n",
        "\n",
        "<img src=\"https://media.giphy.com/media/3gPLPJzFi8a3vhLTtw/giphy.gif\" align=\"left\">"
      ]
    },
    {
      "cell_type": "markdown",
      "metadata": {
        "id": "JiHy1XIvfBgh"
      },
      "source": [
        "\n",
        "<Adicionar atividade de sua preferência para aplicação dos conceitos>"
      ]
    },
    {
      "cell_type": "code",
      "metadata": {
        "id": "rD0B6X1asG8s",
        "outputId": "7906fd21-9631-439b-cb5a-4b7f2503ec9b",
        "colab": {
          "base_uri": "https://localhost:8080/",
          "height": 50
        }
      },
      "source": [
        "def soma(numeros):\n",
        "  total = 0\n",
        "  for valor in numeros:\n",
        "    total = total + valor\n",
        "  return total\n",
        "\n",
        "print(soma([0,1,2,3,4,5,6,7,8,9]))\n",
        "\n",
        "\n",
        "def soma(numero):\n",
        "  total = 0\n",
        "  for valor in range(numero):\n",
        "    total = total + valor\n",
        "  return total\n",
        "\n",
        "print(soma(10))"
      ],
      "execution_count": 21,
      "outputs": [
        {
          "output_type": "stream",
          "text": [
            "45\n",
            "45\n"
          ],
          "name": "stdout"
        }
      ]
    }
  ]
}