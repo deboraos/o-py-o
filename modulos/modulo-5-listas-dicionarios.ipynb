{
  "nbformat": 4,
  "nbformat_minor": 0,
  "metadata": {
    "kernelspec": {
      "display_name": "Python 3",
      "language": "python",
      "name": "python3"
    },
    "language_info": {
      "codemirror_mode": {
        "name": "ipython",
        "version": 3
      },
      "file_extension": ".py",
      "mimetype": "text/x-python",
      "name": "python",
      "nbconvert_exporter": "python",
      "pygments_lexer": "ipython3",
      "version": "3.6.10"
    },
    "colab": {
      "name": "modulo-5-listas-dicionarios.ipynb",
      "provenance": []
    }
  },
  "cells": [
    {
      "cell_type": "markdown",
      "metadata": {
        "id": "Ut11JG5UQH6I"
      },
      "source": [
        "<img src=\"https://github.com/deboraos/o-py-o/blob/master/imagens/5.png?raw=1\">\n",
        "\n",
        "## Revisando o conteúdo da semana!"
      ]
    },
    {
      "cell_type": "markdown",
      "metadata": {
        "id": "RT2jPB9RQH6J"
      },
      "source": [
        "1 - Escreva uma função chamada `nested_sum` que receba uma lista de listas de números inteiros e adicione os elementos de todas as listas aninhadas. Por exemplo:"
      ]
    },
    {
      "cell_type": "markdown",
      "metadata": {
        "id": "yO13K1jQQH6K"
      },
      "source": [
        "```python\n",
        "t = [[1, 2], [3], [4, 5, 6]]\n",
        "nested_sum(t)\n",
        "21\n",
        "```"
      ]
    },
    {
      "cell_type": "code",
      "metadata": {
        "id": "3ZvnYf6vQH6K",
        "outputId": "e89289c4-ffb6-44b3-dd07-f33623141c3d",
        "colab": {
          "base_uri": "https://localhost:8080/",
          "height": 34
        }
      },
      "source": [
        "def nested_sum(lista):\n",
        "  somatorio = 0\n",
        "  for numero in lista:\n",
        "    somatorio = somatorio + sum(numero) \n",
        "  return somatorio\n",
        "\n",
        "t = [[1, 2], [3], [4, 5, 6]]\n",
        "nested_sum(t)"
      ],
      "execution_count": 2,
      "outputs": [
        {
          "output_type": "execute_result",
          "data": {
            "text/plain": [
              "21"
            ]
          },
          "metadata": {
            "tags": []
          },
          "execution_count": 2
        }
      ]
    },
    {
      "cell_type": "markdown",
      "metadata": {
        "id": "bxaK2zprQH6N"
      },
      "source": [
        "2 - Escreva uma função chamada `is_sorted` que tome uma lista como parâmetro e retorne **True** se a lista estiver classificada em ordem ascendente, e False se não for o caso. Por exemplo:"
      ]
    },
    {
      "cell_type": "markdown",
      "metadata": {
        "id": "rMm8i0OvQH6O"
      },
      "source": [
        "```python\n",
        "is_sorted([1, 2, 2])\n",
        "True\n",
        "is_sorted(['b', 'a'])\n",
        "False\n",
        "```"
      ]
    },
    {
      "cell_type": "code",
      "metadata": {
        "id": "tz3zUzQqQH6P",
        "outputId": "433fc054-1663-45b9-db0c-11cb22465f28",
        "colab": {
          "base_uri": "https://localhost:8080/",
          "height": 50
        }
      },
      "source": [
        "def is_sorted(lista):\n",
        "  if (lista == sorted(lista)):\n",
        "    return True\n",
        "  return False\n",
        "\n",
        "print(is_sorted([0, 0, 6]))\n",
        "print(is_sorted(['e', 'a']))"
      ],
      "execution_count": 4,
      "outputs": [
        {
          "output_type": "stream",
          "text": [
            "True\n",
            "False\n"
          ],
          "name": "stdout"
        }
      ]
    },
    {
      "cell_type": "markdown",
      "metadata": {
        "id": "4-GC2V0PQH6T"
      },
      "source": [
        "3 - Escreva uma função chamada `has_duplicates` que tome uma lista e retorne **True** se houver algum elemento que apareça mais de uma vez. Ela não deve modificar a lista original."
      ]
    },
    {
      "cell_type": "code",
      "metadata": {
        "id": "XKMvLr5jQH6T",
        "outputId": "04652e08-b4c0-4b44-f1ae-0675735d68f5",
        "colab": {
          "base_uri": "https://localhost:8080/",
          "height": 50
        }
      },
      "source": [
        "def has_duplicates(lista):\n",
        "  lista_set = set(lista)\n",
        "  has_duplicates = len(lista_set) != len(lista)\n",
        "  print(has_duplicates)\n",
        "\n",
        "has_duplicates([0, 0, 6])\n",
        "has_duplicates(['e', 'a'])"
      ],
      "execution_count": 8,
      "outputs": [
        {
          "output_type": "stream",
          "text": [
            "True\n",
            "False\n"
          ],
          "name": "stdout"
        }
      ]
    },
    {
      "cell_type": "markdown",
      "metadata": {
        "id": "nm0x8bn8QH6V"
      },
      "source": [
        "4 - Você já tem uma função chamada `has_duplicates`, que recebe uma lista como parâmetro e retorna True se houver algum objeto que aparece mais de uma vez na lista. Use um dicionário para escrever uma versão mais rápida e simples de has_duplicates."
      ]
    },
    {
      "cell_type": "code",
      "metadata": {
        "id": "VLMvCAqaQH6W",
        "outputId": "321ebc96-9682-46bb-cbdd-80f5e8d0b4b5",
        "colab": {
          "base_uri": "https://localhost:8080/",
          "height": 50
        }
      },
      "source": [
        "def has_duplicates2(dicionario):\n",
        "  return len(set(dicionario)) < len(dicionario)\n",
        "\n",
        "print(has_duplicates2([0, 0, 6]))\n",
        "print(has_duplicates2(['e', 'a']))"
      ],
      "execution_count": null,
      "outputs": [
        {
          "output_type": "stream",
          "text": [
            "True\n",
            "False\n"
          ],
          "name": "stdout"
        }
      ]
    },
    {
      "cell_type": "markdown",
      "metadata": {
        "id": "mZOJLookQH6Y"
      },
      "source": [
        "---\n",
        "\n",
        "## Quais são as outras formas de praticar esses conceitos?\n",
        "<img src=\"https://media.giphy.com/media/Ta1zCPgNNr2GQ/giphy.gif\" align=\"left\">\n"
      ]
    },
    {
      "cell_type": "markdown",
      "metadata": {
        "id": "NPM0D1ShQH6Y"
      },
      "source": [
        "<Adicionar atividade de sua preferência para aplicação dos conceitos>"
      ]
    }
  ]
}