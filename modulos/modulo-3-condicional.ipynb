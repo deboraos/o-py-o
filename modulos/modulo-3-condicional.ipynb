{
  "nbformat": 4,
  "nbformat_minor": 0,
  "metadata": {
    "kernelspec": {
      "display_name": "Python 3",
      "language": "python",
      "name": "python3"
    },
    "language_info": {
      "codemirror_mode": {
        "name": "ipython",
        "version": 3
      },
      "file_extension": ".py",
      "mimetype": "text/x-python",
      "name": "python",
      "nbconvert_exporter": "python",
      "pygments_lexer": "ipython3",
      "version": "3.6.10"
    },
    "colab": {
      "name": "modulo-3-condicional.ipynb",
      "provenance": []
    }
  },
  "cells": [
    {
      "cell_type": "markdown",
      "metadata": {
        "id": "gpTwXFhI9Qjl"
      },
      "source": [
        "<img src=\"https://github.com/deboraos/o-py-o/blob/master/imagens/3.png?raw=1\">\n",
        "\n",
        "## Revisando o conteúdo da semana!"
      ]
    },
    {
      "cell_type": "markdown",
      "metadata": {
        "id": "1VlRBqXA9Qjm"
      },
      "source": [
        "1 - O módulo time fornece uma função, também chamada time, que devolve a Hora Média de Greenwich na “época”, que é um momento arbitrário usado como ponto de referência. Em sistemas UNIX, a época é primeiro de janeiro de 1970."
      ]
    },
    {
      "cell_type": "code",
      "metadata": {
        "id": "HbVfiH_H9Qjn"
      },
      "source": [
        "import time"
      ],
      "execution_count": 1,
      "outputs": []
    },
    {
      "cell_type": "code",
      "metadata": {
        "id": "rlusVA3d9Qjp",
        "outputId": "603b794e-8bea-4df1-c149-8552ca3efae4",
        "colab": {
          "base_uri": "https://localhost:8080/",
          "height": 34
        }
      },
      "source": [
        "time.time()"
      ],
      "execution_count": 8,
      "outputs": [
        {
          "output_type": "execute_result",
          "data": {
            "text/plain": [
              "1601343883.0945232"
            ]
          },
          "metadata": {
            "tags": []
          },
          "execution_count": 8
        }
      ]
    },
    {
      "cell_type": "markdown",
      "metadata": {
        "id": "nkRblins9Qjs"
      },
      "source": [
        "Escreva um script que leia a hora atual e a converta em um tempo em horas, minutos e segundos, mais o número de dias desde a época."
      ]
    },
    {
      "cell_type": "code",
      "metadata": {
        "id": "I92GJH_79Qjs",
        "outputId": "21066a75-2d64-4ba2-ed43-25161601e81c",
        "colab": {
          "base_uri": "https://localhost:8080/",
          "height": 67
        }
      },
      "source": [
        "t = time.time()\n",
        "print (time.strftime(\"%H:%M:%S\"))\n",
        "print (time.strftime(\"%d/%m/%Y\"))\n",
        "print (time.strftime(\"%c\"))"
      ],
      "execution_count": 18,
      "outputs": [
        {
          "output_type": "stream",
          "text": [
            "01:54:51\n",
            "29/09/2020\n",
            "Tue Sep 29 01:54:51 2020\n"
          ],
          "name": "stdout"
        }
      ]
    },
    {
      "cell_type": "markdown",
      "metadata": {
        "id": "mBiUtzez9Qju"
      },
      "source": [
        "2 - O último teorema de Fermat diz que não existem números inteiros a, b e c tais que `a**n + b**n == c**n` para quaisquer valores de n maiores que 2."
      ]
    },
    {
      "cell_type": "markdown",
      "metadata": {
        "id": "dcuS0dnK9Qjv"
      },
      "source": [
        "a) Escreva uma função chamada check_fermat que receba quatro parâmetros – a, b, c e n – e verifique se o teorema de Fermat se mantém. Se n for maior que 2 e `a**n + b**n == c**n` o programa deve imprimir, **“Holy smokes, Fermat was wrong!”** Senão o programa deve exibir **“No, that doesn’t work.”**"
      ]
    },
    {
      "cell_type": "code",
      "metadata": {
        "id": "qWwJSG279Qjv",
        "outputId": "ca63500a-407f-4394-d683-21c5fda040ad",
        "colab": {
          "base_uri": "https://localhost:8080/",
          "height": 50
        }
      },
      "source": [
        "def check_fermat(a,b,c,n):\n",
        "  if (n > 2 and a**n + b**n == c**n):\n",
        "    print ('Holy smokes, Fermat was wrong')\n",
        "  else:\n",
        "    print ('No, that doesn’t work.')\n",
        "\n",
        "check_fermat(3,4,5,3)\n",
        "check_fermat(3,4,5,2)"
      ],
      "execution_count": 32,
      "outputs": [
        {
          "output_type": "stream",
          "text": [
            "No, that doesn’t work.\n",
            "No, that doesn’t work.\n"
          ],
          "name": "stdout"
        }
      ]
    },
    {
      "cell_type": "markdown",
      "metadata": {
        "id": "K_0CtmcL9Qjx"
      },
      "source": [
        "3 - Se você tiver três gravetos, pode ser que consiga arranjá-los em um triângulo ou não. Por exemplo, se um dos gravetos tiver 12 polegadas de comprimento e outros dois tiverem uma polegada de comprimento, não será possível fazer com que os gravetos curtos se encontrem no meio. Há um teste simples para ver se é possível formar um triângulo para quaisquer três comprimentos:\n",
        "\n",
        "Se algum dos três comprimentos for maior que a soma dos outros dois, então você não pode formar um triângulo. Senão, você pode. (Se a soma de dois comprimentos igualar o terceiro, eles formam um triângulo chamado “degenerado”.)"
      ]
    },
    {
      "cell_type": "markdown",
      "metadata": {
        "id": "wyPGW6m59Qjy"
      },
      "source": [
        "a) Escreva uma função chamada `is_triangle` que receba três números inteiros como argumentos, e que imprima “Yes” ou “No”, dependendo da possibilidade de formar ou não um triângulo de gravetos com os comprimentos dados."
      ]
    },
    {
      "cell_type": "code",
      "metadata": {
        "id": "GIQ4vt-k9Qjy",
        "outputId": "bf18d321-223a-447b-c38c-4cededa386c4",
        "colab": {
          "base_uri": "https://localhost:8080/",
          "height": 50
        }
      },
      "source": [
        "def is_triangle(ladoa,ladob,ladoc):\n",
        "  ab = ladoa + ladob\n",
        "  bc = ladob + ladoc\n",
        "  ca = ladoc + ladoa\n",
        "  if (ladoc > ab or ladoa > bc or ladob > ca):\n",
        "    print('No')\n",
        "  else:\n",
        "    print('Yes')\n",
        "\n",
        "is_triangle(12,1,1)\n",
        "is_triangle(16,20,30)"
      ],
      "execution_count": 46,
      "outputs": [
        {
          "output_type": "stream",
          "text": [
            "No\n",
            "Yes\n"
          ],
          "name": "stdout"
        }
      ]
    },
    {
      "cell_type": "markdown",
      "metadata": {
        "id": "HpcfBe8V9Qj0"
      },
      "source": [
        "b) Escreva uma função que peça ao usuário para digitar três comprimentos de gravetos, os converta em números inteiros e use `is_triangle` para verificar se os gravetos com os comprimentos dados podem formar um triângulo."
      ]
    },
    {
      "cell_type": "code",
      "metadata": {
        "id": "UcmrlwPW9Qj1",
        "outputId": "ae85b78b-8135-4cbd-bed6-3677160552d2",
        "colab": {
          "base_uri": "https://localhost:8080/",
          "height": 84
        }
      },
      "source": [
        "def is_triangle2():\n",
        "  a = int(input(\"Digite o valor do lado a: \"))\n",
        "  b = int(input(\"Digite o valor do lado b: \"))\n",
        "  c = int(input(\"Digite o valor do lado c: \"))\n",
        "  is_triangle(a,b,c)\n",
        "\n",
        "is_triangle2()"
      ],
      "execution_count": 49,
      "outputs": [
        {
          "output_type": "stream",
          "text": [
            "Digite o valor do lado a: 16\n",
            "Digite o valor do lado b: 20\n",
            "Digite o valor do lado c: 30\n",
            "Yes\n"
          ],
          "name": "stdout"
        }
      ]
    },
    {
      "cell_type": "markdown",
      "metadata": {
        "id": "5nOdycOf9Qj3"
      },
      "source": [
        "---\n",
        "\n",
        "## Quais são as outras formas de praticar esses conceitos?\n",
        "\n",
        "<img src=\"https://media.giphy.com/media/LqZZp4y9ANZIcQzuXC/giphy.gif\" align=\"left\">"
      ]
    },
    {
      "cell_type": "code",
      "metadata": {
        "id": "Fdk4PxFn9Qj4"
      },
      "source": [
        "<Adicionar atividade de sua preferência para aplicação dos conceitos>"
      ],
      "execution_count": null,
      "outputs": []
    },
    {
      "cell_type": "code",
      "metadata": {
        "id": "-f0CFhH8vnX1",
        "outputId": "416474ef-be51-40aa-efbb-83119514f777",
        "colab": {
          "base_uri": "https://localhost:8080/",
          "height": 50
        }
      },
      "source": [
        "def paridade(a):\n",
        "  if (a % 2) == 0:\n",
        "    print('par')\n",
        "  else:\n",
        "    print('ímpar')\n",
        "\n",
        "paridade(5)\n",
        "paridade(2)"
      ],
      "execution_count": 56,
      "outputs": [
        {
          "output_type": "stream",
          "text": [
            "ímpar\n",
            "par\n"
          ],
          "name": "stdout"
        }
      ]
    },
    {
      "cell_type": "code",
      "metadata": {
        "id": "qhaI-GZawkXU",
        "outputId": "eac03d65-b2f2-4c72-83c0-8031fdc97ea8",
        "colab": {
          "base_uri": "https://localhost:8080/",
          "height": 50
        }
      },
      "source": [
        "def bhaskara(a,b,c):\n",
        "  import math\n",
        "\n",
        "  delta = (b ** 2) - (4 * ( a * c ))\n",
        "\n",
        "  if delta < 0:\n",
        "      print(\"esta equação não possui raízes reais\")\n",
        "  else:\n",
        "      raiz1 = (-b + math.sqrt(delta)) / (2 * a)\n",
        "      if delta == 0:\n",
        "          print(\"a raiz desta equação é\", raiz1)\n",
        "      else:\n",
        "          raiz2 = (-b - math.sqrt(delta)) / (2 * a)\n",
        "          if (raiz1 < raiz2):\n",
        "              print(\"as raízes da equação são\", raiz1, \"e\", raiz2)\n",
        "          else:\n",
        "              print(\"as raízes da equação são\", raiz2, \"e\", raiz1)\n",
        "\n",
        "bhaskara(5,3,2)\n",
        "bhaskara(1,-1,-6)"
      ],
      "execution_count": 61,
      "outputs": [
        {
          "output_type": "stream",
          "text": [
            "esta equação não possui raízes reais\n",
            "as raízes da equação são -2.0 e 3.0\n"
          ],
          "name": "stdout"
        }
      ]
    }
  ]
}