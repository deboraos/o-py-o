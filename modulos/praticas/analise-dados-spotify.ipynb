{
 "cells": [
  {
   "cell_type": "markdown",
   "metadata": {
    "id": "phEer7UJsVJT"
   },
   "source": [
    "<img src=\"../../imagens/bemvindas.png\">\n",
    "\n",
    "# Musicou toda!\n",
    "\n",
    "A partir do material [Análise de Dados e Forró](https://dandaramcsousa.github.io/2020/05/26/dados-e-forro-vol-1.html) de [Dandara Sousa](https://dandaramcsousa.github.io/about/) e [dos exemplos do Spotipy](https://github.com/plamere/spotipy/tree/master/examples), tomamos coragem e resolvemos também brincar com o SpotyPy.\n",
    "\n",
    "> *A ideia aqui é revisar o que aprendemos explorando uma conexão com o aplicativo Spotify e a biblioteca Pandas para a análise de dados.*\n",
    "\n",
    "## O que já vimos até aqui?\n",
    "\n",
    "- Funções\n",
    "- Condicionais\n",
    "- Laços de repetição\n",
    "- Listas e dicionários\n",
    "\n",
    "## O que faremos hoje?\n",
    "\n",
    "1. Preparando o terreno: [Credenciais e App](https://developer.spotify.com/dashboard/login)\n",
    "2. Pesquisando *uma artista* no Spotify\n",
    "3. Pesquisando *um álbum* no Spotify\n",
    "4. E *as músicas* dos álbuns?\n",
    "5. Pegandos nossas informações no Spotify\n",
    "\n",
    "### Outros Links:\n",
    "- [Documentação spotipy](https://spotipy.readthedocs.io/en/2.16.0/)"
   ]
  },
  {
   "cell_type": "markdown",
   "metadata": {},
   "source": [
    "### 1º Preparando o terreno "
   ]
  },
  {
   "cell_type": "code",
   "execution_count": null,
   "metadata": {},
   "outputs": [],
   "source": [
    "!pip install spotipy"
   ]
  },
  {
   "cell_type": "code",
   "execution_count": null,
   "metadata": {
    "colab": {
     "base_uri": "https://localhost:8080/",
     "height": 134
    },
    "id": "idNgvoO9XP34",
    "outputId": "58b2056a-f93d-4ad7-c18b-51bf0f0acbf0"
   },
   "outputs": [],
   "source": [
    "from spotipy.oauth2 import SpotifyClientCredentials\n",
    "import spotipy\n",
    "import sys\n",
    "import csv\n",
    "\n",
    "client_id=\"Seu Client ID\"\n",
    "client_secret=\"Seu Secret ID\"\n",
    "                 \n",
    "sp = spotipy.Spotify(client_credentials_manager = SpotifyClientCredentials(client_id, client_secret))"
   ]
  },
  {
   "cell_type": "markdown",
   "metadata": {},
   "source": [
    "### 2º Pesquisando uma artista"
   ]
  },
  {
   "cell_type": "code",
   "execution_count": null,
   "metadata": {},
   "outputs": [],
   "source": [
    "results = sp.search(\"Chave de busca\")\n",
    "type(results)"
   ]
  },
  {
   "cell_type": "markdown",
   "metadata": {},
   "source": [
    "*Como podemos saber o que tem dentro desse dicionário?*"
   ]
  },
  {
   "cell_type": "code",
   "execution_count": null,
   "metadata": {},
   "outputs": [],
   "source": [
    "results.keys()"
   ]
  },
  {
   "cell_type": "code",
   "execution_count": null,
   "metadata": {},
   "outputs": [],
   "source": [
    "results.get('tracks')"
   ]
  },
  {
   "cell_type": "code",
   "execution_count": null,
   "metadata": {},
   "outputs": [],
   "source": [
    "results.get('tracks').keys()"
   ]
  },
  {
   "cell_type": "code",
   "execution_count": null,
   "metadata": {},
   "outputs": [],
   "source": [
    "results.get('tracks').get(\"items\").get('keys')"
   ]
  },
  {
   "cell_type": "code",
   "execution_count": null,
   "metadata": {},
   "outputs": [],
   "source": [
    "results.get('tracks').get(\"items\")[0].get('artists')"
   ]
  },
  {
   "cell_type": "markdown",
   "metadata": {},
   "source": [
    "*E se quisermos fazer outra busca agora? Facilita se criarmos uma função, né?*"
   ]
  },
  {
   "cell_type": "code",
   "execution_count": null,
   "metadata": {
    "id": "2D3aGeApXcDo"
   },
   "outputs": [],
   "source": [
    "def get_artist(name):\n",
    "    results = sp.search(q='artist:' + name, type='artist')\n",
    "    items = results.get('artists').get('items')\n",
    "    \n",
    "    return items[0] if len(items) else None"
   ]
  },
  {
   "cell_type": "markdown",
   "metadata": {},
   "source": [
    "*Como a execução a seguir funciona?*"
   ]
  },
  {
   "cell_type": "code",
   "execution_count": null,
   "metadata": {},
   "outputs": [],
   "source": [
    "get_artist(\"Sorriso Maroto\").get('genres')"
   ]
  },
  {
   "cell_type": "markdown",
   "metadata": {},
   "source": [
    "### 3º Pesquisando um album no Spotify"
   ]
  },
  {
   "cell_type": "code",
   "execution_count": null,
   "metadata": {},
   "outputs": [],
   "source": [
    "id = get_artist(\"Sorriso Maroto\").get('id')"
   ]
  },
  {
   "cell_type": "code",
   "execution_count": null,
   "metadata": {},
   "outputs": [],
   "source": [
    "albums = sp.artist_albums(id, album_type='album')"
   ]
  },
  {
   "cell_type": "code",
   "execution_count": null,
   "metadata": {},
   "outputs": [],
   "source": [
    "albums.get('items')[0].keys()"
   ]
  },
  {
   "cell_type": "code",
   "execution_count": null,
   "metadata": {},
   "outputs": [],
   "source": [
    "search = 'Por Você Ao Vivo'\n",
    "full_albumn = {}\n",
    "\n",
    "for album in albums.get('items'):\n",
    "    if album.get('name') == search:\n",
    "        full_albumn = album\n",
    "        print(full_albumn)\n",
    "        break"
   ]
  },
  {
   "cell_type": "code",
   "execution_count": null,
   "metadata": {},
   "outputs": [],
   "source": [
    "full_albumn.get('id')"
   ]
  },
  {
   "cell_type": "markdown",
   "metadata": {},
   "source": [
    "*Como a gente transforma isso em uma função?*\n",
    "\n",
    "#### #ColaboraAquiMana"
   ]
  },
  {
   "cell_type": "code",
   "execution_count": null,
   "metadata": {},
   "outputs": [],
   "source": [
    "def ..."
   ]
  },
  {
   "cell_type": "markdown",
   "metadata": {},
   "source": [
    "### 4º E as músicas dos álbuns?"
   ]
  },
  {
   "cell_type": "code",
   "execution_count": null,
   "metadata": {},
   "outputs": [],
   "source": [
    "tracks = sp.album_tracks(album_id='0nax8M9StAXGx54wYprGHN')\n",
    "type(tracks)"
   ]
  },
  {
   "cell_type": "code",
   "execution_count": null,
   "metadata": {},
   "outputs": [],
   "source": [
    "tracks.get('items')[0].keys()"
   ]
  },
  {
   "cell_type": "markdown",
   "metadata": {},
   "source": [
    "### *é agora hein...*"
   ]
  },
  {
   "cell_type": "code",
   "execution_count": 235,
   "metadata": {},
   "outputs": [
    {
     "name": "stdout",
     "output_type": "stream",
     "text": [
      "Ainda Gosto de Você - Me Espera - Coração Deserto\n",
      "Engano\n",
      "Já Era\n",
      "Eu Vacilei\n",
      "Estrela Maior\n",
      "E Agora? - Cadê Você\n",
      "Adivinha O Quê?\n",
      "Me Olha Nos Olhos\n",
      "Diz Que Quer Ficar\n",
      "Disfarça\n",
      "Por Você\n",
      "Pra Sempre\n",
      "Aprendi e Quero Amar\n",
      "Nada de Pensar Em Despedida - Marque um Lugar - Preciso Viver\n"
     ]
    }
   ],
   "source": [
    "for track in tracks.get('items'):\n",
    "    print(track.get('name'))"
   ]
  },
  {
   "cell_type": "markdown",
   "metadata": {},
   "source": [
    "<img src=\"https://media.giphy.com/media/6Q3M4BIK0lX44/giphy.gif\">"
   ]
  },
  {
   "cell_type": "code",
   "execution_count": null,
   "metadata": {},
   "outputs": [],
   "source": [
    "import pandas as pd\n",
    "\n",
    "por_voce_list = []\n",
    "\n",
    "for track in tracks.get('items'):\n",
    "    track_dict = {\n",
    "        'name': track.get('name'),\n",
    "        'duration_ms': track.get('duration_ms')\n",
    "    }\n",
    "    por_voce_list.append(track_dict)\n",
    "    \n",
    "por_voce_df = pd.DataFrame(por_voce_list)\n",
    "por_voce_df.head()"
   ]
  },
  {
   "cell_type": "markdown",
   "metadata": {},
   "source": [
    "*Agora que temos essa \"tabela\" o pandas nos permite ordenar os valores com facilidade.*"
   ]
  },
  {
   "cell_type": "code",
   "execution_count": null,
   "metadata": {},
   "outputs": [],
   "source": [
    "por_voce_df.sort_values('duration_ms', ascending=False)"
   ]
  },
  {
   "cell_type": "markdown",
   "metadata": {},
   "source": [
    "### 5º Pegandos nossas informações no Spotify"
   ]
  },
  {
   "cell_type": "code",
   "execution_count": null,
   "metadata": {},
   "outputs": [],
   "source": [
    "import spotipy\n",
    "from spotipy.oauth2 import SpotifyOAuth\n",
    "\n",
    "sp = spotipy.Spotify(auth_manager=SpotifyOAuth(client_id,\n",
    "                                               client_secret,\n",
    "                                               redirect_uri=\"SUA URI\",\n",
    "                                               scope=\"user-top-read\"))"
   ]
  },
  {
   "cell_type": "code",
   "execution_count": null,
   "metadata": {
    "colab": {
     "base_uri": "https://localhost:8080/",
     "height": 421
    },
    "id": "JrsigLjzwBRG",
    "outputId": "29967c81-c44e-43b2-99a8-e69215d3f0da"
   },
   "outputs": [],
   "source": [
    "tracks_short_term = sp.current_user_top_tracks(time_range='short_term', limit=10)\n",
    "tracks_medium_term = sp.current_user_top_tracks(time_range='medium_term', limit=10)\n",
    "tracks_long_term = sp.current_user_top_tracks(time_range='long_term', limit=10)"
   ]
  },
  {
   "cell_type": "code",
   "execution_count": null,
   "metadata": {},
   "outputs": [],
   "source": [
    "my_musics = tracks_short_term.get('items') + tracks_medium_term.get('items') + tracks_long_term.get('items')"
   ]
  },
  {
   "cell_type": "code",
   "execution_count": null,
   "metadata": {},
   "outputs": [],
   "source": [
    "my_musics[0].keys()"
   ]
  },
  {
   "cell_type": "code",
   "execution_count": null,
   "metadata": {},
   "outputs": [],
   "source": [
    "my_musics_df = pd.json_normalize(my_musics)\n",
    "my_musics_df.head()"
   ]
  },
  {
   "cell_type": "markdown",
   "metadata": {},
   "source": [
    "*E se fosse com o `my_musics_df = pd.DataFrame(my_musics)`?*  \n",
    "\n",
    "#### #ColaboraAquiMana: Adiciona o exemplo de como seria e uma descrição sobre a diferença entre as duas formas `pd.json_normalize()` e `pd.DataFrame()`."
   ]
  },
  {
   "cell_type": "code",
   "execution_count": null,
   "metadata": {},
   "outputs": [],
   "source": [
    "..."
   ]
  },
  {
   "cell_type": "markdown",
   "metadata": {},
   "source": [
    "---\n",
    "\n",
    "### *O que o Pandas tem a oferecer?*"
   ]
  },
  {
   "cell_type": "markdown",
   "metadata": {},
   "source": [
    "#### Filtrando linhas"
   ]
  },
  {
   "cell_type": "code",
   "execution_count": null,
   "metadata": {},
   "outputs": [],
   "source": [
    "my_musics_df.loc[my_musics_df['name'] == 'Nome']"
   ]
  },
  {
   "cell_type": "markdown",
   "metadata": {},
   "source": [
    "#### Agrupando dados"
   ]
  },
  {
   "cell_type": "code",
   "execution_count": null,
   "metadata": {
    "scrolled": true
   },
   "outputs": [],
   "source": [
    "my_musics_df.groupby(['name', 'id']).size().reset_index(name='qtd')"
   ]
  },
  {
   "cell_type": "markdown",
   "metadata": {},
   "source": [
    "#### Filtrando com o query"
   ]
  },
  {
   "cell_type": "code",
   "execution_count": null,
   "metadata": {},
   "outputs": [],
   "source": [
    "my_musics_df.groupby(['name', 'id']).size().reset_index(name='qtd').query('qtd > 1')"
   ]
  },
  {
   "cell_type": "markdown",
   "metadata": {},
   "source": [
    "#### Filtrando com o Lambda \n",
    "\n",
    "#### #ColaboraAquiMana: Tenta fazer esse filtro usando o *lambda* - pesquisa por \"apply and Lambda usage in pandas\"."
   ]
  },
  {
   "cell_type": "code",
   "execution_count": null,
   "metadata": {},
   "outputs": [],
   "source": [
    "..."
   ]
  },
  {
   "cell_type": "markdown",
   "metadata": {},
   "source": [
    "#### Lidando com registros repetidos"
   ]
  },
  {
   "cell_type": "code",
   "execution_count": null,
   "metadata": {},
   "outputs": [],
   "source": [
    "len(my_musics_df)"
   ]
  },
  {
   "cell_type": "code",
   "execution_count": null,
   "metadata": {},
   "outputs": [],
   "source": [
    "my_musics_df = my_musics_df.drop_duplicates('id')\n",
    "len(my_musics_df)"
   ]
  },
  {
   "cell_type": "markdown",
   "metadata": {},
   "source": [
    "#### Ordenando e exibindo dados"
   ]
  },
  {
   "cell_type": "code",
   "execution_count": null,
   "metadata": {},
   "outputs": [],
   "source": [
    "my_musics_df.columns"
   ]
  },
  {
   "cell_type": "code",
   "execution_count": null,
   "metadata": {},
   "outputs": [],
   "source": [
    "my_musics_df.sort_values('popularity', ascending=False)[['name', 'popularity', 'album.name', 'duration_ms']]"
   ]
  },
  {
   "cell_type": "code",
   "execution_count": null,
   "metadata": {},
   "outputs": [],
   "source": [
    "!pip install altair"
   ]
  },
  {
   "cell_type": "code",
   "execution_count": null,
   "metadata": {},
   "outputs": [],
   "source": [
    "import altair as alt\n",
    "\n",
    "popularidade = my_musics_df.sort_values('popularity', ascending = False)\n",
    "\n",
    "alt.Chart(popularidade).mark_circle(color = '#FF9138', opacity = 1).encode(\n",
    "    y = alt.Y('name', axis = alt.Axis(title='Música'), sort = None),\n",
    "    x = alt.X('popularity', axis = alt.Axis(title = \"Popularidade\")),\n",
    "    tooltip = ['name', 'popularity', 'album.name'])"
   ]
  },
  {
   "cell_type": "markdown",
   "metadata": {},
   "source": [
    "## É isso! Obrigada! <3"
   ]
  },
  {
   "cell_type": "markdown",
   "metadata": {},
   "source": [
    "<img src=\"https://media.giphy.com/media/l4Ep71LWjYR1eCPXq/giphy.gif\">"
   ]
  }
 ],
 "metadata": {
  "colab": {
   "name": "Estudo Spotify.ipynb",
   "provenance": []
  },
  "kernelspec": {
   "display_name": "Python 3",
   "language": "python",
   "name": "python3"
  },
  "language_info": {
   "codemirror_mode": {
    "name": "ipython",
    "version": 3
   },
   "file_extension": ".py",
   "mimetype": "text/x-python",
   "name": "python",
   "nbconvert_exporter": "python",
   "pygments_lexer": "ipython3",
   "version": "3.6.10"
  }
 },
 "nbformat": 4,
 "nbformat_minor": 1
}
