{
  "nbformat": 4,
  "nbformat_minor": 0,
  "metadata": {
    "kernelspec": {
      "display_name": "Python 3",
      "language": "python",
      "name": "python3"
    },
    "language_info": {
      "codemirror_mode": {
        "name": "ipython",
        "version": 3
      },
      "file_extension": ".py",
      "mimetype": "text/x-python",
      "name": "python",
      "nbconvert_exporter": "python",
      "pygments_lexer": "ipython3",
      "version": "3.6.10"
    },
    "colab": {
      "name": "modulo-8-classes-objetos.ipynb",
      "provenance": []
    }
  },
  "cells": [
    {
      "cell_type": "markdown",
      "metadata": {
        "id": "oHqkcHc1zTsT"
      },
      "source": [
        "<img src=\"https://github.com/deboraos/o-py-o/blob/master/imagens/8.png?raw=1\">\n",
        "\n",
        "## Revisando o conteúdo da semana!"
      ]
    },
    {
      "cell_type": "code",
      "metadata": {
        "id": "5qTQeIeQ13n0",
        "outputId": "94d13319-cb49-49ff-949e-00db753eed4d",
        "colab": {
          "base_uri": "https://localhost:8080/"
        }
      },
      "source": [
        "import math\n",
        "\n",
        "class Point:\n",
        "    \"\"\"Represents a point in 2-D space.\"\"\"\n",
        "\n",
        "Point\n",
        "blank = Point()\n",
        "blank\n",
        "blank.x = 3.0\n",
        "blank.y = 4.0\n",
        "blank.y\n",
        "x = blank.x\n",
        "x\n",
        "'(%g, %g)' % (blank.x, blank.y)\n",
        "distance = math.sqrt(blank.x ** 2 + blank.y ** 2)\n",
        "distance\n",
        "\n",
        "def print_point(p):\n",
        "    print('(%g, %g)' % (p.x, p.y))\n",
        "\n",
        "print_point(blank)"
      ],
      "execution_count": 12,
      "outputs": [
        {
          "output_type": "stream",
          "text": [
            "(3, 4)\n"
          ],
          "name": "stdout"
        }
      ]
    },
    {
      "cell_type": "code",
      "metadata": {
        "id": "1Nn5ujeN2PVN"
      },
      "source": [
        "class Rectangle:\n",
        "    \"\"\"Represents a rectangle.\n",
        "    attributes: width, height, corner.\n",
        "    \"\"\"\n",
        "\n",
        "box = Rectangle()\n",
        "box.width = 100.0\n",
        "box.height = 200.0\n",
        "box.corner = Point()\n",
        "box.corner.x = 0.0\n",
        "box.corner.y = 0.0"
      ],
      "execution_count": 13,
      "outputs": []
    },
    {
      "cell_type": "code",
      "metadata": {
        "id": "ZtCk69NB2UkW",
        "outputId": "c7fae56d-7c98-4f10-de7a-dd395308a820",
        "colab": {
          "base_uri": "https://localhost:8080/"
        }
      },
      "source": [
        "def find_center(rect):\n",
        "    p = Point()\n",
        "    p.x = rect.corner.x + rect.width/2\n",
        "    p.y = rect.corner.y + rect.height/2\n",
        "    return p\n",
        "\n",
        "center = find_center(box)\n",
        "print_point(center)"
      ],
      "execution_count": 15,
      "outputs": [
        {
          "output_type": "stream",
          "text": [
            "(50, 100)\n"
          ],
          "name": "stdout"
        }
      ]
    },
    {
      "cell_type": "code",
      "metadata": {
        "id": "MWGT0LUO2bQA"
      },
      "source": [
        "box.width = box.width + 50\n",
        "box.height = box.height + 100"
      ],
      "execution_count": 16,
      "outputs": []
    },
    {
      "cell_type": "code",
      "metadata": {
        "id": "tv4x8X5z2dGK",
        "outputId": "a19869ac-7fff-478b-c682-05010a544ef3",
        "colab": {
          "base_uri": "https://localhost:8080/"
        }
      },
      "source": [
        "def grow_rectangle(rect, dwidth, dheight):\n",
        "    rect.width += dwidth\n",
        "    rect.height += dheight\n",
        "\n",
        "box.width, box.height\n",
        "grow_rectangle(box, 50, 100)\n",
        "box.width, box.height"
      ],
      "execution_count": 19,
      "outputs": [
        {
          "output_type": "execute_result",
          "data": {
            "text/plain": [
              "(250.0, 500.0)"
            ]
          },
          "metadata": {
            "tags": []
          },
          "execution_count": 19
        }
      ]
    },
    {
      "cell_type": "code",
      "metadata": {
        "id": "MZRprm9J2mx5",
        "outputId": "280e9b94-9761-4992-a6ca-1e69bb0cdf92",
        "colab": {
          "base_uri": "https://localhost:8080/"
        }
      },
      "source": [
        "p1 = Point()\n",
        "p1.x = 3.0\n",
        "p1.y = 4.0\n",
        "import copy\n",
        "p2 = copy.copy(p1)\n",
        "print_point(p1)\n",
        "print_point(p2)\n",
        "p1 is p2\n",
        "p1 == p2"
      ],
      "execution_count": 23,
      "outputs": [
        {
          "output_type": "stream",
          "text": [
            "(3, 4)\n",
            "(3, 4)\n"
          ],
          "name": "stdout"
        },
        {
          "output_type": "execute_result",
          "data": {
            "text/plain": [
              "False"
            ]
          },
          "metadata": {
            "tags": []
          },
          "execution_count": 23
        }
      ]
    },
    {
      "cell_type": "code",
      "metadata": {
        "id": "nPzQY-D12yEc",
        "outputId": "932d7831-c075-42bb-86eb-9fd902724cf9",
        "colab": {
          "base_uri": "https://localhost:8080/"
        }
      },
      "source": [
        "box2 = copy.copy(box)\n",
        "box2 is box\n",
        "box2.corner is box.corner"
      ],
      "execution_count": 26,
      "outputs": [
        {
          "output_type": "execute_result",
          "data": {
            "text/plain": [
              "True"
            ]
          },
          "metadata": {
            "tags": []
          },
          "execution_count": 26
        }
      ]
    },
    {
      "cell_type": "code",
      "metadata": {
        "id": "B4mr0EZv26sd",
        "outputId": "5e14acb7-970c-44af-debf-48bf0ee02540",
        "colab": {
          "base_uri": "https://localhost:8080/"
        }
      },
      "source": [
        "box3 = copy.deepcopy(box)\n",
        "box3 is box\n",
        "box3.corner is box.corner"
      ],
      "execution_count": 29,
      "outputs": [
        {
          "output_type": "execute_result",
          "data": {
            "text/plain": [
              "False"
            ]
          },
          "metadata": {
            "tags": []
          },
          "execution_count": 29
        }
      ]
    },
    {
      "cell_type": "markdown",
      "metadata": {
        "id": "VqBXlA-KzTsU"
      },
      "source": [
        "1 - Escreva uma definição para uma classe denominada `Circle`, com os atributos center e radius, onde center é um objeto `Point` e radius é um número."
      ]
    },
    {
      "cell_type": "code",
      "metadata": {
        "id": "99mNvFO2zTsV"
      },
      "source": [
        "class Circle:\n",
        "    \"Atributos: center, radius\""
      ],
      "execution_count": 30,
      "outputs": []
    },
    {
      "cell_type": "markdown",
      "metadata": {
        "id": "TDqrHg1uzTsX"
      },
      "source": [
        "a) Instancie um objeto `Circle`, que represente um círculo com o centro em 150, 100 e raio 75."
      ]
    },
    {
      "cell_type": "code",
      "metadata": {
        "id": "Svo5nToZzTsY"
      },
      "source": [
        "circle = Circle\n",
        "circle.center = Point()\n",
        "circle.center.x = 150.0\n",
        "circle.center.y = 100.0\n",
        "circle.radius = 75.0"
      ],
      "execution_count": 32,
      "outputs": []
    },
    {
      "cell_type": "markdown",
      "metadata": {
        "id": "us3yb5g_zTsa"
      },
      "source": [
        "b) Escreva uma função denominada `point_in_circle`, que tome um `Circle` e um `Point` e retorne **True**, se o ponto estiver dentro ou no limite do círculo."
      ]
    },
    {
      "cell_type": "code",
      "metadata": {
        "id": "n_A08G6JzTsb"
      },
      "source": [
        ""
      ],
      "execution_count": null,
      "outputs": []
    },
    {
      "cell_type": "markdown",
      "metadata": {
        "id": "cxaE9Om9zTsd"
      },
      "source": [
        "c) Escreva uma função chamada `rect_in_circle`, que tome um `Circle` e um `Rectangle` e retorne **True**, se o retângulo estiver totalmente dentro ou no limite do círculo."
      ]
    },
    {
      "cell_type": "code",
      "metadata": {
        "id": "9g58GMGszTse"
      },
      "source": [
        ""
      ],
      "execution_count": null,
      "outputs": []
    },
    {
      "cell_type": "markdown",
      "metadata": {
        "id": "De5vKqL8zTsg"
      },
      "source": [
        "---    \n",
        "    \n",
        "## Quais são as outras formas de praticar esses conceitos?\n",
        "\n",
        "<img src=\"https://media.giphy.com/media/3tMtwqIQXavnsxEltY/giphy.gif\" align=\"left\">"
      ]
    },
    {
      "cell_type": "markdown",
      "metadata": {
        "id": "yrmWkDMYzTsg"
      },
      "source": [
        "<Adicionar atividade de sua preferência para aplicação dos conceitos>"
      ]
    }
  ]
}