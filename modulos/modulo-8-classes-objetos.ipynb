{
  "nbformat": 4,
  "nbformat_minor": 0,
  "metadata": {
    "kernelspec": {
      "display_name": "Python 3",
      "language": "python",
      "name": "python3"
    },
    "language_info": {
      "codemirror_mode": {
        "name": "ipython",
        "version": 3
      },
      "file_extension": ".py",
      "mimetype": "text/x-python",
      "name": "python",
      "nbconvert_exporter": "python",
      "pygments_lexer": "ipython3",
      "version": "3.6.10"
    },
    "colab": {
      "name": "modulo-8-classes-objetos.ipynb",
      "provenance": []
    }
  },
  "cells": [
    {
      "cell_type": "markdown",
      "metadata": {
        "id": "oHqkcHc1zTsT"
      },
      "source": [
        "<img src=\"https://github.com/deboraos/o-py-o/blob/master/imagens/8.png?raw=1\">\n",
        "\n",
        "## Revisando o conteúdo da semana!"
      ]
    },
    {
      "cell_type": "code",
      "metadata": {
        "id": "5qTQeIeQ13n0",
        "outputId": "94d13319-cb49-49ff-949e-00db753eed4d",
        "colab": {
          "base_uri": "https://localhost:8080/"
        }
      },
      "source": [
        "import math\n",
        "\n",
        "class Point:\n",
        "    \"\"\"Represents a point in 2-D space.\"\"\"\n",
        "\n",
        "Point\n",
        "blank = Point()\n",
        "blank\n",
        "blank.x = 3.0\n",
        "blank.y = 4.0\n",
        "blank.y\n",
        "x = blank.x\n",
        "x\n",
        "'(%g, %g)' % (blank.x, blank.y)\n",
        "distance = math.sqrt(blank.x ** 2 + blank.y ** 2)\n",
        "distance\n",
        "\n",
        "def print_point(p):\n",
        "    print('(%g, %g)' % (p.x, p.y))\n",
        "\n",
        "print_point(blank)"
      ],
      "execution_count": 12,
      "outputs": [
        {
          "output_type": "stream",
          "text": [
            "(3, 4)\n"
          ],
          "name": "stdout"
        }
      ]
    },
    {
      "cell_type": "code",
      "metadata": {
        "id": "1Nn5ujeN2PVN"
      },
      "source": [
        "class Rectangle:\n",
        "    \"\"\"Represents a rectangle.\n",
        "    attributes: width, height, corner.\n",
        "    \"\"\"\n",
        "\n",
        "box = Rectangle()\n",
        "box.width = 100.0\n",
        "box.height = 200.0\n",
        "box.corner = Point()\n",
        "box.corner.x = 0.0\n",
        "box.corner.y = 0.0"
      ],
      "execution_count": 13,
      "outputs": []
    },
    {
      "cell_type": "code",
      "metadata": {
        "id": "ZtCk69NB2UkW",
        "outputId": "c7fae56d-7c98-4f10-de7a-dd395308a820",
        "colab": {
          "base_uri": "https://localhost:8080/"
        }
      },
      "source": [
        "def find_center(rect):\n",
        "    p = Point()\n",
        "    p.x = rect.corner.x + rect.width/2\n",
        "    p.y = rect.corner.y + rect.height/2\n",
        "    return p\n",
        "\n",
        "center = find_center(box)\n",
        "print_point(center)"
      ],
      "execution_count": 15,
      "outputs": [
        {
          "output_type": "stream",
          "text": [
            "(50, 100)\n"
          ],
          "name": "stdout"
        }
      ]
    },
    {
      "cell_type": "code",
      "metadata": {
        "id": "MWGT0LUO2bQA"
      },
      "source": [
        "box.width = box.width + 50\n",
        "box.height = box.height + 100"
      ],
      "execution_count": 16,
      "outputs": []
    },
    {
      "cell_type": "code",
      "metadata": {
        "id": "tv4x8X5z2dGK",
        "outputId": "a19869ac-7fff-478b-c682-05010a544ef3",
        "colab": {
          "base_uri": "https://localhost:8080/"
        }
      },
      "source": [
        "def grow_rectangle(rect, dwidth, dheight):\n",
        "    rect.width += dwidth\n",
        "    rect.height += dheight\n",
        "\n",
        "box.width, box.height\n",
        "grow_rectangle(box, 50, 100)\n",
        "box.width, box.height"
      ],
      "execution_count": 19,
      "outputs": [
        {
          "output_type": "execute_result",
          "data": {
            "text/plain": [
              "(250.0, 500.0)"
            ]
          },
          "metadata": {
            "tags": []
          },
          "execution_count": 19
        }
      ]
    },
    {
      "cell_type": "code",
      "metadata": {
        "id": "MZRprm9J2mx5",
        "outputId": "280e9b94-9761-4992-a6ca-1e69bb0cdf92",
        "colab": {
          "base_uri": "https://localhost:8080/"
        }
      },
      "source": [
        "p1 = Point()\n",
        "p1.x = 3.0\n",
        "p1.y = 4.0\n",
        "import copy\n",
        "p2 = copy.copy(p1)\n",
        "print_point(p1)\n",
        "print_point(p2)\n",
        "p1 is p2\n",
        "p1 == p2"
      ],
      "execution_count": 23,
      "outputs": [
        {
          "output_type": "stream",
          "text": [
            "(3, 4)\n",
            "(3, 4)\n"
          ],
          "name": "stdout"
        },
        {
          "output_type": "execute_result",
          "data": {
            "text/plain": [
              "False"
            ]
          },
          "metadata": {
            "tags": []
          },
          "execution_count": 23
        }
      ]
    },
    {
      "cell_type": "code",
      "metadata": {
        "id": "nPzQY-D12yEc",
        "outputId": "932d7831-c075-42bb-86eb-9fd902724cf9",
        "colab": {
          "base_uri": "https://localhost:8080/"
        }
      },
      "source": [
        "box2 = copy.copy(box)\n",
        "box2 is box\n",
        "box2.corner is box.corner"
      ],
      "execution_count": 26,
      "outputs": [
        {
          "output_type": "execute_result",
          "data": {
            "text/plain": [
              "True"
            ]
          },
          "metadata": {
            "tags": []
          },
          "execution_count": 26
        }
      ]
    },
    {
      "cell_type": "code",
      "metadata": {
        "id": "B4mr0EZv26sd",
        "outputId": "5e14acb7-970c-44af-debf-48bf0ee02540",
        "colab": {
          "base_uri": "https://localhost:8080/"
        }
      },
      "source": [
        "box3 = copy.deepcopy(box)\n",
        "box3 is box\n",
        "box3.corner is box.corner"
      ],
      "execution_count": 29,
      "outputs": [
        {
          "output_type": "execute_result",
          "data": {
            "text/plain": [
              "False"
            ]
          },
          "metadata": {
            "tags": []
          },
          "execution_count": 29
        }
      ]
    },
    {
      "cell_type": "code",
      "metadata": {
        "id": "I6B4jhDQ4KNL",
        "outputId": "8058e736-187a-4d87-aa3d-82dde007b222",
        "colab": {
          "base_uri": "https://localhost:8080/"
        }
      },
      "source": [
        "def distance_between_points(p1, p2):\n",
        "    dx = p1.x - p2.x\n",
        "    dy = p1.y - p2.y\n",
        "    dist = math.sqrt(dx**2 + dy**2)\n",
        "    return dist\n",
        "\n",
        "ponto1 = Point()\n",
        "ponto1.x = 0\n",
        "ponto1.y = 0\n",
        "\n",
        "ponto2 = Point()\n",
        "ponto2.x = 3\n",
        "ponto2.y = 4\n",
        "\n",
        "distance_between_points(ponto1,ponto2)"
      ],
      "execution_count": 34,
      "outputs": [
        {
          "output_type": "execute_result",
          "data": {
            "text/plain": [
              "5.0"
            ]
          },
          "metadata": {
            "tags": []
          },
          "execution_count": 34
        }
      ]
    },
    {
      "cell_type": "markdown",
      "metadata": {
        "id": "VqBXlA-KzTsU"
      },
      "source": [
        "1 - Escreva uma definição para uma classe denominada `Circle`, com os atributos center e radius, onde center é um objeto `Point` e radius é um número."
      ]
    },
    {
      "cell_type": "code",
      "metadata": {
        "id": "99mNvFO2zTsV"
      },
      "source": [
        "class Circle:\n",
        "    \"Atributos: center, radius\""
      ],
      "execution_count": 30,
      "outputs": []
    },
    {
      "cell_type": "markdown",
      "metadata": {
        "id": "TDqrHg1uzTsX"
      },
      "source": [
        "a) Instancie um objeto `Circle`, que represente um círculo com o centro em 150, 100 e raio 75."
      ]
    },
    {
      "cell_type": "code",
      "metadata": {
        "id": "Svo5nToZzTsY",
        "outputId": "d3330215-1b38-4d4c-b4d5-42b9843a4cab",
        "colab": {
          "base_uri": "https://localhost:8080/"
        }
      },
      "source": [
        "circle = Circle\n",
        "circle.center = Point()\n",
        "circle.center.x = 150.0\n",
        "circle.center.y = 100.0\n",
        "circle.radius = 75.0\n",
        "\n",
        "print(circle.center.x)\n",
        "print(circle.center.y)\n",
        "print(circle.radius)"
      ],
      "execution_count": 33,
      "outputs": [
        {
          "output_type": "stream",
          "text": [
            "150.0\n",
            "100.0\n",
            "75.0\n"
          ],
          "name": "stdout"
        }
      ]
    },
    {
      "cell_type": "markdown",
      "metadata": {
        "id": "us3yb5g_zTsa"
      },
      "source": [
        "b) Escreva uma função denominada `point_in_circle`, que tome um `Circle` e um `Point` e retorne **True**, se o ponto estiver dentro ou no limite do círculo."
      ]
    },
    {
      "cell_type": "code",
      "metadata": {
        "id": "n_A08G6JzTsb",
        "outputId": "6f2219b0-84c8-472a-b411-2246f70ba4ef",
        "colab": {
          "base_uri": "https://localhost:8080/"
        }
      },
      "source": [
        "def point_in_circle(point, circle):\n",
        "    distancia = distance_between_points(point, circle.center)\n",
        "    print(distancia)\n",
        "    return distancia <= circle.radius\n",
        "\n",
        "print(point_in_circle(box.corner, circle))"
      ],
      "execution_count": 35,
      "outputs": [
        {
          "output_type": "stream",
          "text": [
            "180.27756377319946\n",
            "False\n"
          ],
          "name": "stdout"
        }
      ]
    },
    {
      "cell_type": "markdown",
      "metadata": {
        "id": "cxaE9Om9zTsd"
      },
      "source": [
        "c) Escreva uma função chamada `rect_in_circle`, que tome um `Circle` e um `Rectangle` e retorne **True**, se o retângulo estiver totalmente dentro ou no limite do círculo."
      ]
    },
    {
      "cell_type": "code",
      "metadata": {
        "id": "9g58GMGszTse"
      },
      "source": [
        ""
      ],
      "execution_count": null,
      "outputs": []
    },
    {
      "cell_type": "markdown",
      "metadata": {
        "id": "De5vKqL8zTsg"
      },
      "source": [
        "---    \n",
        "    \n",
        "## Quais são as outras formas de praticar esses conceitos?\n",
        "\n",
        "<img src=\"https://media.giphy.com/media/3tMtwqIQXavnsxEltY/giphy.gif\" align=\"left\">"
      ]
    },
    {
      "cell_type": "code",
      "metadata": {
        "id": "r2vgzGAu5rU9",
        "outputId": "f46e2fcd-3781-42fc-e59c-8b33b03edc48",
        "colab": {
          "base_uri": "https://localhost:8080/"
        }
      },
      "source": [
        "from datetime import datetime\n",
        "\n",
        "# dia da semana\n",
        "hoje = datetime.today()\n",
        "print(hoje)\n",
        "print(hoje.weekday())\n",
        "print(hoje.strftime('%A'))"
      ],
      "execution_count": 54,
      "outputs": [
        {
          "output_type": "stream",
          "text": [
            "2020-11-05 01:23:51.895391\n",
            "3\n",
            "Thursday\n"
          ],
          "name": "stdout"
        }
      ]
    },
    {
      "cell_type": "markdown",
      "metadata": {
        "id": "yrmWkDMYzTsg"
      },
      "source": [
        "<Adicionar atividade de sua preferência para aplicação dos conceitos>"
      ]
    },
    {
      "cell_type": "code",
      "metadata": {
        "id": "LuJThzZMAKq8",
        "outputId": "9e6110b1-2fb3-4c77-c4ea-612afe26ba7a",
        "colab": {
          "base_uri": "https://localhost:8080/"
        }
      },
      "source": [
        "# dias até o próximo aniversário\n",
        "def dias_ate_aniversario(aniversario):\n",
        "    hoje = datetime.today()\n",
        "    proximo_aniversario = datetime(hoje.year, aniversario.month, aniversario.day)\n",
        "    if hoje > proximo_aniversario:\n",
        "        proximo_aniversario = datetime(hoje.year+1, aniversario.month, aniversario.day)\n",
        "    delta = proximo_aniversario - hoje\n",
        "    return delta.days\n",
        "\n",
        "print('Dias até o aniversário:', dias_ate_aniversario(aniversario))"
      ],
      "execution_count": 55,
      "outputs": [
        {
          "output_type": "stream",
          "text": [
            "Dias até o aniversário: 166\n"
          ],
          "name": "stdout"
        }
      ]
    }
  ]
}