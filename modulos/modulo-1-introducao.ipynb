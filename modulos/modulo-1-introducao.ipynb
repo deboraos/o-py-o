{
  "nbformat": 4,
  "nbformat_minor": 0,
  "metadata": {
    "kernelspec": {
      "display_name": "Python 3",
      "language": "python",
      "name": "python3"
    },
    "language_info": {
      "codemirror_mode": {
        "name": "ipython",
        "version": 3
      },
      "file_extension": ".py",
      "mimetype": "text/x-python",
      "name": "python",
      "nbconvert_exporter": "python",
      "pygments_lexer": "ipython3",
      "version": "3.6.10"
    },
    "colab": {
      "name": "modulo-1-introducao.ipynb",
      "provenance": []
    }
  },
  "cells": [
    {
      "cell_type": "markdown",
      "metadata": {
        "id": "iXgLkRedeFRa",
        "colab_type": "text"
      },
      "source": [
        "<img src=\"https://github.com/deboraos/o-py-o/blob/master/imagens/1.png?raw=1\">\n",
        "\n",
        "## Revisando o conteúdo da semana!\n",
        "\n",
        "## Débora Oliveira"
      ]
    },
    {
      "cell_type": "markdown",
      "metadata": {
        "id": "Rs3zZLwFeFRb",
        "colab_type": "text"
      },
      "source": [
        "1 - Em uma instrução print, o que acontece se você omitir um dos parênteses ou ambos?"
      ]
    },
    {
      "cell_type": "code",
      "metadata": {
        "id": "X0KVhlkxeFRc",
        "colab_type": "code",
        "colab": {
          "base_uri": "https://localhost:8080/",
          "height": 34
        },
        "outputId": "ecaddefd-4c83-4cfb-f6af-664ac279a898"
      },
      "source": [
        "print(\"Grupo de Estudo\")"
      ],
      "execution_count": 1,
      "outputs": [
        {
          "output_type": "stream",
          "text": [
            "Grupo de Estudo\n"
          ],
          "name": "stdout"
        }
      ]
    },
    {
      "cell_type": "markdown",
      "metadata": {
        "id": "EnSdGmZBeFRm",
        "colab_type": "text"
      },
      "source": [
        "2 - O que acontece se puser um sinal de mais antes de um número? E se escrever assim: 2++2?"
      ]
    },
    {
      "cell_type": "code",
      "metadata": {
        "id": "MDyXWsSkeFRm",
        "colab_type": "code",
        "colab": {}
      },
      "source": [
        ""
      ],
      "execution_count": null,
      "outputs": []
    },
    {
      "cell_type": "markdown",
      "metadata": {
        "id": "8D6HhAJNeFRr",
        "colab_type": "text"
      },
      "source": [
        "3 - O que acontece se você tentar usar 02 isso no Python?"
      ]
    },
    {
      "cell_type": "code",
      "metadata": {
        "id": "IXXGAiwfeFRs",
        "colab_type": "code",
        "colab": {}
      },
      "source": [
        ""
      ],
      "execution_count": null,
      "outputs": []
    },
    {
      "cell_type": "markdown",
      "metadata": {
        "id": "Baj7hSCJeFRv",
        "colab_type": "text"
      },
      "source": [
        "4 - Quantos segundos há em 42 minutos e 42 segundos?"
      ]
    },
    {
      "cell_type": "code",
      "metadata": {
        "id": "lUNKtog8eFRv",
        "colab_type": "code",
        "colab": {}
      },
      "source": [
        ""
      ],
      "execution_count": null,
      "outputs": []
    },
    {
      "cell_type": "markdown",
      "metadata": {
        "id": "1v-5k1-FeFR4",
        "colab_type": "text"
      },
      "source": [
        "5 - Vimos que n = 42 é legal. E 42 = n?"
      ]
    },
    {
      "cell_type": "code",
      "metadata": {
        "id": "Iz4Z7Y1ieFR4",
        "colab_type": "code",
        "colab": {}
      },
      "source": [
        ""
      ],
      "execution_count": null,
      "outputs": []
    },
    {
      "cell_type": "markdown",
      "metadata": {
        "id": "AgXtCBjUeFR7",
        "colab_type": "text"
      },
      "source": [
        "6 - Ou x = y = 1?\n"
      ]
    },
    {
      "cell_type": "code",
      "metadata": {
        "id": "HRlej9UieFR7",
        "colab_type": "code",
        "colab": {}
      },
      "source": [
        ""
      ],
      "execution_count": null,
      "outputs": []
    },
    {
      "cell_type": "markdown",
      "metadata": {
        "id": "1FuJMWX7eFR-",
        "colab_type": "text"
      },
      "source": [
        "7 - O que acontece se você puser um ponto e vírgula no fim de uma instrução no Python? E um ponto?"
      ]
    },
    {
      "cell_type": "code",
      "metadata": {
        "id": "vBWslmc4eFR_",
        "colab_type": "code",
        "colab": {}
      },
      "source": [
        ""
      ],
      "execution_count": null,
      "outputs": []
    },
    {
      "cell_type": "markdown",
      "metadata": {
        "id": "eqP6M89DeFSI",
        "colab_type": "text"
      },
      "source": [
        "8 - Em notação matemática é possível multiplicar x e y desta forma: xy. O que acontece se você tentar fazer o mesmo no Python?"
      ]
    },
    {
      "cell_type": "code",
      "metadata": {
        "id": "wjdcOGoxeFSJ",
        "colab_type": "code",
        "colab": {}
      },
      "source": [
        ""
      ],
      "execution_count": null,
      "outputs": []
    },
    {
      "cell_type": "markdown",
      "metadata": {
        "id": "qcNj4_iKeFSL",
        "colab_type": "text"
      },
      "source": [
        "---"
      ]
    },
    {
      "cell_type": "markdown",
      "metadata": {
        "id": "QGy-shAyeFSM",
        "colab_type": "text"
      },
      "source": [
        "## Quais são as outras formas de praticar esses conceitos?\n",
        "\n",
        "<img src=\"https://media.giphy.com/media/2wS8Hh619rZvvf95op/giphy.gif\" align=\"left\">"
      ]
    },
    {
      "cell_type": "markdown",
      "metadata": {
        "id": "Elzs_cC0eFSM",
        "colab_type": "text"
      },
      "source": [
        "<Adicionar atividade de sua preferência para aplicação dos conceitos>"
      ]
    }
  ]
}