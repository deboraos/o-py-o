{
  "nbformat": 4,
  "nbformat_minor": 0,
  "metadata": {
    "colab": {
      "name": "Estudo Spotify.ipynb",
      "provenance": [],
      "authorship_tag": "ABX9TyPT8F83XPvGJLGA7hte0Cy6",
      "include_colab_link": true
    },
    "kernelspec": {
      "name": "python3",
      "display_name": "Python 3"
    }
  },
  "cells": [
    {
      "cell_type": "markdown",
      "metadata": {
        "id": "view-in-github",
        "colab_type": "text"
      },
      "source": [
        "<a href=\"https://colab.research.google.com/github/deboraos/o-py-o/blob/master/Estudo_Spotify.ipynb\" target=\"_parent\"><img src=\"https://colab.research.google.com/assets/colab-badge.svg\" alt=\"Open In Colab\"/></a>"
      ]
    },
    {
      "cell_type": "markdown",
      "metadata": {
        "id": "phEer7UJsVJT"
      },
      "source": [
        "Estudando análise de dados no Spotify a partir do tutorial de Análise de Dados e Forró de Dandara Sousa: https://dandaramcsousa.github.io/2020/05/26/dados-e-forro-vol-1.html"
      ]
    },
    {
      "cell_type": "code",
      "metadata": {
        "id": "idNgvoO9XP34",
        "outputId": "58b2056a-f93d-4ad7-c18b-51bf0f0acbf0",
        "colab": {
          "base_uri": "https://localhost:8080/",
          "height": 134
        }
      },
      "source": [
        "!pip install spotipy\n",
        "from spotipy.oauth2 import SpotifyClientCredentials\n",
        "import spotipy\n",
        "import sys\n",
        "import csv\n",
        " \n",
        "sp = spotipy.Spotify(client_credentials_manager = SpotifyClientCredentials(client_id=\"SUACREDENCIAL\", client_secret=\"SUACREDENCIAL\"))"
      ],
      "execution_count": null,
      "outputs": [
        {
          "output_type": "stream",
          "text": [
            "Requirement already satisfied: spotipy in /usr/local/lib/python3.6/dist-packages (2.16.0)\n",
            "Requirement already satisfied: requests>=2.20.0 in /usr/local/lib/python3.6/dist-packages (from spotipy) (2.23.0)\n",
            "Requirement already satisfied: six>=1.10.0 in /usr/local/lib/python3.6/dist-packages (from spotipy) (1.15.0)\n",
            "Requirement already satisfied: idna<3,>=2.5 in /usr/local/lib/python3.6/dist-packages (from requests>=2.20.0->spotipy) (2.10)\n",
            "Requirement already satisfied: chardet<4,>=3.0.2 in /usr/local/lib/python3.6/dist-packages (from requests>=2.20.0->spotipy) (3.0.4)\n",
            "Requirement already satisfied: urllib3!=1.25.0,!=1.25.1,<1.26,>=1.21.1 in /usr/local/lib/python3.6/dist-packages (from requests>=2.20.0->spotipy) (1.24.3)\n",
            "Requirement already satisfied: certifi>=2017.4.17 in /usr/local/lib/python3.6/dist-packages (from requests>=2.20.0->spotipy) (2020.6.20)\n"
          ],
          "name": "stdout"
        }
      ]
    },
    {
      "cell_type": "markdown",
      "metadata": {
        "id": "1I5LnRYTXi7_"
      },
      "source": [
        "get_artist(name): dado um nome, retorna um artista"
      ]
    },
    {
      "cell_type": "code",
      "metadata": {
        "id": "2D3aGeApXcDo"
      },
      "source": [
        "def get_artist(name):\n",
        "    results = sp.search(name)\n",
        "    items = results['tracks']['items']\n",
        "    if len(items) > 0:\n",
        "        return items[0]['artists'][0]\n",
        "    else:\n",
        "        return None"
      ],
      "execution_count": null,
      "outputs": []
    },
    {
      "cell_type": "markdown",
      "metadata": {
        "id": "vgKYw-cJXlPW"
      },
      "source": [
        "get_artist_id(artists): dado um artista, retorna o id dele"
      ]
    },
    {
      "cell_type": "code",
      "metadata": {
        "id": "tuTbicWkXdVp"
      },
      "source": [
        "def get_artist_id(artist):\n",
        "    return artist['id']"
      ],
      "execution_count": null,
      "outputs": []
    },
    {
      "cell_type": "markdown",
      "metadata": {
        "id": "wCvVeYVIXx6T"
      },
      "source": [
        "get_artist_albums_id_names(id): dado o id do artista, retorna os ids e nomes de todos os álbuns daquele artista disponíveis no Brasil"
      ]
    },
    {
      "cell_type": "code",
      "metadata": {
        "id": "xoClZZ11Xz8a"
      },
      "source": [
        "def get_artist_albums_id_names(id):\n",
        "  albums = sp.artist_albums(id, country = 'BR', limit=50)\n",
        "  albums_id_name = {}\n",
        "  for i in range(len(albums['items'])):\n",
        "    id = albums['items'][i]['id']\n",
        "    name = albums['items'][i]['name']\n",
        "    albums_id_name[id] = name\n",
        " \n",
        "  return albums_id_name"
      ],
      "execution_count": null,
      "outputs": []
    },
    {
      "cell_type": "markdown",
      "metadata": {
        "id": "gQ1Ui1HFX5kq"
      },
      "source": [
        "get_album_songs(album_id, album_name): dado o id e nome do álbum, retorna um dicionário com as informações das músicas do álbum (álbum, tipo do álbum, número da música no álbum, id, nome, popularidade, se a faixa é explícita, duração em milissegundos, data de lançamento e artistas envolvidos)"
      ]
    },
    {
      "cell_type": "code",
      "metadata": {
        "id": "ZhqVMGq7X6Su"
      },
      "source": [
        "def get_album_songs(album_id, album_name):\n",
        "  spotify_album = {}\n",
        " \n",
        "  tracks = sp.album_tracks(album_id)\n",
        "  \n",
        "  for n in range(len(tracks['items'])):\n",
        "    id_track = tracks['items'][n]['id']\n",
        "    track = sp.track(id_track)\n",
        "    spotify_album[id_track] = {}\n",
        "    \n",
        "    spotify_album[id_track]['album'] = album_name\n",
        "    spotify_album[id_track]['album_type'] = track['album']['album_type']\n",
        "    spotify_album[id_track]['track_number'] = track['track_number']\n",
        "    spotify_album[id_track]['id_track'] = track['id']\n",
        "    spotify_album[id_track]['name'] = track['name']\n",
        "    spotify_album[id_track]['popularity'] = track['popularity']\n",
        "    spotify_album[id_track]['explicit'] = track['explicit']\n",
        "    spotify_album[id_track]['duration_ms'] = track['duration_ms']\n",
        "    spotify_album[id_track]['release_date'] = track['album']['release_date']\n",
        " \n",
        "    artists_track = track['artists']\n",
        "    spotify_album[id_track]['artists'] = []\n",
        "    for artist in artists_track:\n",
        "      spotify_album[id_track]['artists'].append(artist['name'])\n",
        "  return spotify_album"
      ],
      "execution_count": null,
      "outputs": []
    },
    {
      "cell_type": "markdown",
      "metadata": {
        "id": "1a0HZkKFX_Uf"
      },
      "source": [
        "get_all_albums_songs(albums_ids_names): dado um dicionário com ids e nomes de álbuns, retorna todas as músicas de todos os albuns de um artista provenientes da função get_album_songs(album_id, album_name)"
      ]
    },
    {
      "cell_type": "code",
      "metadata": {
        "id": "b-iAsPTTYAKF"
      },
      "source": [
        "def get_all_albums_songs(albums_ids_names):\n",
        "  spotify_albums = []\n",
        "  albums_names = []\n",
        "  for id, name in albums_ids_names.items():\n",
        "    if name not in albums_names:\n",
        "      albums_names.append(name)\n",
        "      album_songs = get_album_songs(id,name) \n",
        "    for item in album_songs.items():\n",
        "      spotify_albums.append(item[1]) \n",
        "  return spotify_albums"
      ],
      "execution_count": null,
      "outputs": []
    },
    {
      "cell_type": "markdown",
      "metadata": {
        "id": "0Mcsm7_3YDN8"
      },
      "source": [
        "convert_to_csv(filepath, name): converte para um csv os dados"
      ]
    },
    {
      "cell_type": "code",
      "metadata": {
        "id": "vrfuK77xYDvu"
      },
      "source": [
        "def convert_to_csv(filepath, name):\n",
        "  keys = filepath[0].keys()\n",
        "  print(keys)\n",
        "  csv_name = ''+ name + '.csv'\n",
        "  with open(csv_name, 'w') as output_file:\n",
        "    dict_writer = csv.DictWriter(output_file, keys)\n",
        "    dict_writer.writeheader()\n",
        "    dict_writer.writerows(filepath)\n",
        "  return"
      ],
      "execution_count": null,
      "outputs": []
    },
    {
      "cell_type": "markdown",
      "metadata": {
        "id": "JBSDKuqI5uRD"
      },
      "source": [
        "script"
      ]
    },
    {
      "cell_type": "code",
      "metadata": {
        "id": "MtebHWPeYMCM",
        "outputId": "07a0ebbf-482e-441a-a12e-aa89ab20835d",
        "colab": {
          "base_uri": "https://localhost:8080/",
          "height": 34
        }
      },
      "source": [
        "name = \"Sorriso Maroto\"\n",
        "artist = get_artist(name)    \n",
        "if artist:\n",
        "  artist_id = get_artist_id(artist)\n",
        "  albums_id_names = get_artist_albums_id_names(artist_id)\n",
        "  all_albums = get_all_albums_songs(albums_id_names)\n",
        "  convert_to_csv(all_albums, 'sorrisomaroto')   \n",
        "else:\n",
        "  logger.error(\"Can't find artist: %s\", artist)"
      ],
      "execution_count": null,
      "outputs": [
        {
          "output_type": "stream",
          "text": [
            "dict_keys(['album', 'album_type', 'track_number', 'id_track', 'name', 'popularity', 'explicit', 'duration_ms', 'release_date', 'artists'])\n"
          ],
          "name": "stdout"
        }
      ]
    },
    {
      "cell_type": "markdown",
      "metadata": {
        "id": "FqHSWqZM51uy"
      },
      "source": [
        "Começamos carregando nosso conjunto de dados e importando o Altair, uma biblioteca Python para visualização de dados."
      ]
    },
    {
      "cell_type": "code",
      "metadata": {
        "id": "un-xsukLYvqN"
      },
      "source": [
        "import altair as alt\n",
        "import pandas as pd\n",
        " \n",
        "data = pd.read_csv('sorrisomaroto.csv')"
      ],
      "execution_count": null,
      "outputs": []
    },
    {
      "cell_type": "markdown",
      "metadata": {
        "id": "HUpynPWz59CY"
      },
      "source": [
        "Top 20 das músicas. Exploramos se o nossas músicas favoritas estão entre as mais populares do Spotify."
      ]
    },
    {
      "cell_type": "code",
      "metadata": {
        "id": "vOsPH83XYy2V",
        "outputId": "82854235-d0d8-43fc-d6e4-2ed4a0ab48f0",
        "colab": {
          "base_uri": "https://localhost:8080/",
          "height": 443
        }
      },
      "source": [
        "data_top20 = data.sort_values('popularity', ascending = False).head(20)\n",
        "alt.Chart(data_top20).mark_circle(color = '#222437', opacity = 1).encode(\n",
        "    y = alt.Y('name', axis = alt.Axis(title='Nome'), sort = None),\n",
        "    x = alt.X('popularity', axis = alt.Axis(title = \"Popularidade\")),\n",
        "    tooltip = ['name', 'popularity', 'album', 'album_type']\n",
        ")"
      ],
      "execution_count": null,
      "outputs": [
        {
          "output_type": "execute_result",
          "data": {
            "text/plain": [
              "alt.Chart(...)"
            ],
            "text/html": [
              "\n",
              "<div id=\"altair-viz-0b1c50c36d0a480e8a08e5e5596f4be0\"></div>\n",
              "<script type=\"text/javascript\">\n",
              "  (function(spec, embedOpt){\n",
              "    let outputDiv = document.currentScript.previousElementSibling;\n",
              "    if (outputDiv.id !== \"altair-viz-0b1c50c36d0a480e8a08e5e5596f4be0\") {\n",
              "      outputDiv = document.getElementById(\"altair-viz-0b1c50c36d0a480e8a08e5e5596f4be0\");\n",
              "    }\n",
              "    const paths = {\n",
              "      \"vega\": \"https://cdn.jsdelivr.net/npm//vega@5?noext\",\n",
              "      \"vega-lib\": \"https://cdn.jsdelivr.net/npm//vega-lib?noext\",\n",
              "      \"vega-lite\": \"https://cdn.jsdelivr.net/npm//vega-lite@4.8.1?noext\",\n",
              "      \"vega-embed\": \"https://cdn.jsdelivr.net/npm//vega-embed@6?noext\",\n",
              "    };\n",
              "\n",
              "    function loadScript(lib) {\n",
              "      return new Promise(function(resolve, reject) {\n",
              "        var s = document.createElement('script');\n",
              "        s.src = paths[lib];\n",
              "        s.async = true;\n",
              "        s.onload = () => resolve(paths[lib]);\n",
              "        s.onerror = () => reject(`Error loading script: ${paths[lib]}`);\n",
              "        document.getElementsByTagName(\"head\")[0].appendChild(s);\n",
              "      });\n",
              "    }\n",
              "\n",
              "    function showError(err) {\n",
              "      outputDiv.innerHTML = `<div class=\"error\" style=\"color:red;\">${err}</div>`;\n",
              "      throw err;\n",
              "    }\n",
              "\n",
              "    function displayChart(vegaEmbed) {\n",
              "      vegaEmbed(outputDiv, spec, embedOpt)\n",
              "        .catch(err => showError(`Javascript Error: ${err.message}<br>This usually means there's a typo in your chart specification. See the javascript console for the full traceback.`));\n",
              "    }\n",
              "\n",
              "    if(typeof define === \"function\" && define.amd) {\n",
              "      requirejs.config({paths});\n",
              "      require([\"vega-embed\"], displayChart, err => showError(`Error loading script: ${err.message}`));\n",
              "    } else if (typeof vegaEmbed === \"function\") {\n",
              "      displayChart(vegaEmbed);\n",
              "    } else {\n",
              "      loadScript(\"vega\")\n",
              "        .then(() => loadScript(\"vega-lite\"))\n",
              "        .then(() => loadScript(\"vega-embed\"))\n",
              "        .catch(showError)\n",
              "        .then(() => displayChart(vegaEmbed));\n",
              "    }\n",
              "  })({\"config\": {\"view\": {\"continuousWidth\": 400, \"continuousHeight\": 300}}, \"data\": {\"name\": \"data-1eedea8f4adf12521e173ff2cff43566\"}, \"mark\": {\"type\": \"circle\", \"color\": \"#222437\", \"opacity\": 1}, \"encoding\": {\"tooltip\": [{\"type\": \"nominal\", \"field\": \"name\"}, {\"type\": \"quantitative\", \"field\": \"popularity\"}, {\"type\": \"nominal\", \"field\": \"album\"}, {\"type\": \"nominal\", \"field\": \"album_type\"}], \"x\": {\"type\": \"quantitative\", \"axis\": {\"title\": \"Popularidade\"}, \"field\": \"popularity\"}, \"y\": {\"type\": \"nominal\", \"axis\": {\"title\": \"Nome\"}, \"field\": \"name\", \"sort\": null}}, \"$schema\": \"https://vega.github.io/schema/vega-lite/v4.8.1.json\", \"datasets\": {\"data-1eedea8f4adf12521e173ff2cff43566\": [{\"album\": \"Ao Cubo, Ao Vivo, Em Cores\", \"album_type\": \"album\", \"track_number\": 5, \"id_track\": \"01wavOnjFBNgdMWBFYIAP4\", \"name\": \"50 Vezes - Ao Vivo\", \"popularity\": 68, \"explicit\": false, \"duration_ms\": 184107, \"release_date\": \"2019-03-29\", \"artists\": \"['Sorriso Maroto', 'Dilsinho']\"}, {\"album\": \"Ao Cubo, Ao Vivo, Em Cores\", \"album_type\": \"album\", \"track_number\": 3, \"id_track\": \"4C24fGqRUrz3TyVt4uku2Y\", \"name\": \"Reprise - Ao Vivo\", \"popularity\": 66, \"explicit\": false, \"duration_ms\": 166672, \"release_date\": \"2019-03-29\", \"artists\": \"['Sorriso Maroto']\"}, {\"album\": \"Sinal Vital\", \"album_type\": \"single\", \"track_number\": 1, \"id_track\": \"0EPP4wnQKrOsQ5k0vcg2Bz\", \"name\": \"Sinal Vital\", \"popularity\": 63, \"explicit\": false, \"duration_ms\": 148837, \"release_date\": \"2020-01-24\", \"artists\": \"['Sorriso Maroto']\"}, {\"album\": \"De Volta Pro Amanh\\u00e3\", \"album_type\": \"album\", \"track_number\": 2, \"id_track\": \"4kUpVCOVfhipS0KRuoBYvs\", \"name\": \"Dependente\", \"popularity\": 62, \"explicit\": false, \"duration_ms\": 221693, \"release_date\": \"2016-06-03\", \"artists\": \"['Sorriso Maroto']\"}, {\"album\": \"Sinais\", \"album_type\": \"album\", \"track_number\": 1, \"id_track\": \"71BRjOzgS7GLAut8pOlElG\", \"name\": \"Sinais\", \"popularity\": 60, \"explicit\": false, \"duration_ms\": 243493, \"release_date\": \"2009-05-01\", \"artists\": \"['Sorriso Maroto']\"}, {\"album\": \"O Imposs\\u00edvel\", \"album_type\": \"single\", \"track_number\": 1, \"id_track\": \"3RVylAtukXgF7xSXFn2OwA\", \"name\": \"O Imposs\\u00edvel\", \"popularity\": 59, \"explicit\": false, \"duration_ms\": 177740, \"release_date\": \"2018-09-05\", \"artists\": \"['Sorriso Maroto']\"}, {\"album\": \"Dependente (Ac\\u00fastico) - Single\", \"album_type\": \"single\", \"track_number\": 1, \"id_track\": \"6pp7MsJ1mASkSpUItyk61r\", \"name\": \"Dependente - Ac\\u00fastico\", \"popularity\": 58, \"explicit\": false, \"duration_ms\": 195242, \"release_date\": \"2016-10-14\", \"artists\": \"['Sorriso Maroto']\"}, {\"album\": \"De Volta Pro Amanh\\u00e3, Vol. 2 (Ao Vivo)\", \"album_type\": \"album\", \"track_number\": 6, \"id_track\": \"5bPMvKwUuGG9LD9j5ufVkB\", \"name\": \"Assim Voc\\u00ea Mata o Papai - Ao Vivo\", \"popularity\": 57, \"explicit\": false, \"duration_ms\": 119304, \"release_date\": \"2018-01-26\", \"artists\": \"['Sorriso Maroto']\"}, {\"album\": \"Sorriso Eu Gosto Ao Vivo No Maracan\\u00e3zinho\", \"album_type\": \"album\", \"track_number\": 3, \"id_track\": \"3U6QoOc0XBFC9w82zLF8n4\", \"name\": \"1 Metro e 65 - Ao Vivo\", \"popularity\": 57, \"explicit\": false, \"duration_ms\": 223333, \"release_date\": \"2014-11-24\", \"artists\": \"['Sorriso Maroto']\"}, {\"album\": \"Ensaio Aberto - AMA\", \"album_type\": \"album\", \"track_number\": 1, \"id_track\": \"14esTYBEixtJRiSQEyZ7bi\", \"name\": \"Sinal Vital\", \"popularity\": 55, \"explicit\": false, \"duration_ms\": 148837, \"release_date\": \"2020-01-23\", \"artists\": \"['Sorriso Maroto']\"}, {\"album\": \"\\u00c9 Diferente\", \"album_type\": \"album\", \"track_number\": 2, \"id_track\": \"1Cn42z1q8r9hGECUFHBzQo\", \"name\": \"Futuro Prometido\", \"popularity\": 55, \"explicit\": false, \"duration_ms\": 201360, \"release_date\": \"2006-11-10\", \"artists\": \"['Sorriso Maroto']\"}, {\"album\": \"\\u00c9 Diferente Ao Vivo\", \"album_type\": \"album\", \"track_number\": 4, \"id_track\": \"0b8F5Pv3iny2YbIC7zYu8U\", \"name\": \"Fica Combinado Assim\", \"popularity\": 55, \"explicit\": false, \"duration_ms\": 223746, \"release_date\": \"2007-02-10\", \"artists\": \"['Sorriso Maroto']\"}, {\"album\": \"Chave e Cadeado\", \"album_type\": \"single\", \"track_number\": 1, \"id_track\": \"1Wn10JS4rVNWkZ99EMjA9U\", \"name\": \"Chave e Cadeado\", \"popularity\": 55, \"explicit\": false, \"duration_ms\": 183344, \"release_date\": \"2018-02-28\", \"artists\": \"['Sorriso Maroto']\"}, {\"album\": \"Ao Cubo, Ao Vivo, Em Cores\", \"album_type\": \"album\", \"track_number\": 4, \"id_track\": \"6YBGVNANlnUZ6asyGF6tO2\", \"name\": \"Ru\\u00ednas - Ao Vivo\", \"popularity\": 54, \"explicit\": false, \"duration_ms\": 168181, \"release_date\": \"2019-03-29\", \"artists\": \"['Sorriso Maroto']\"}, {\"album\": \"\\u00c9 Diferente Ao Vivo\", \"album_type\": \"album\", \"track_number\": 3, \"id_track\": \"2YGWqGwDmlwVfK2sxt11uV\", \"name\": \"A Primeira Namorada\", \"popularity\": 54, \"explicit\": false, \"duration_ms\": 219640, \"release_date\": \"2007-02-10\", \"artists\": \"['Sorriso Maroto']\"}, {\"album\": \"Riscos e Certezas - Ep\", \"album_type\": \"single\", \"track_number\": 5, \"id_track\": \"5OrW7t1lafciXhWyzQbPTw\", \"name\": \"Guerra Fria (feat. Jorge & Mateus)\", \"popularity\": 54, \"explicit\": false, \"duration_ms\": 219893, \"release_date\": \"2013-09-30\", \"artists\": \"['Sorriso Maroto', 'Jorge & Mateus']\"}, {\"album\": \"Melhor Que Nada\", \"album_type\": \"single\", \"track_number\": 1, \"id_track\": \"7qJg5DFskb4qUbzGEgkkKP\", \"name\": \"Melhor Que Nada\", \"popularity\": 54, \"explicit\": false, \"duration_ms\": 195917, \"release_date\": \"2020-03-13\", \"artists\": \"['Karinah', 'Sorriso Maroto']\"}, {\"album\": \"Ao Cubo, Ao Vivo, Em Cores\", \"album_type\": \"album\", \"track_number\": 7, \"id_track\": \"1sRL8KvkERifMtMuEkumwx\", \"name\": \"Me Arrependi - Ao Vivo\", \"popularity\": 53, \"explicit\": false, \"duration_ms\": 190587, \"release_date\": \"2019-03-29\", \"artists\": \"['Sorriso Maroto', 'Ferrugem']\"}, {\"album\": \"Desafio\", \"album_type\": \"single\", \"track_number\": 1, \"id_track\": \"3IZEui0WHDVGGRBBYCbBl0\", \"name\": \"Desafio\", \"popularity\": 52, \"explicit\": false, \"duration_ms\": 116826, \"release_date\": \"2020-10-02\", \"artists\": \"['B\\u00e1rbara Labres', 'Sorriso Maroto']\"}, {\"album\": \"Escondido dos seus Pais (Ao Vivo)\", \"album_type\": \"single\", \"track_number\": 1, \"id_track\": \"0VU5ZAQNxGunmLvmetQkSe\", \"name\": \"Escondido dos seus Pais - Ao Vivo\", \"popularity\": 51, \"explicit\": false, \"duration_ms\": 170709, \"release_date\": \"2019-02-08\", \"artists\": \"['Sorriso Maroto']\"}]}}, {\"mode\": \"vega-lite\"});\n",
              "</script>"
            ]
          },
          "metadata": {
            "tags": []
          },
          "execution_count": 151
        }
      ]
    },
    {
      "cell_type": "markdown",
      "metadata": {
        "id": "25Gyskpg6KQW"
      },
      "source": [
        "Álbuns mais populares. O ‘album_type’ nos informa a categoria daquele álbum, podendo ser um álbum, um single, um EP. Como queremos apenas os álbuns mais populares, vamos restringir ao tipo ‘album’. E dessa vez vamos colocar mais um conceito do Altair: a sobreposição de gráficos. Para isso, basta atribuir cada gráfico a uma variável e depois somá-las."
      ]
    },
    {
      "cell_type": "code",
      "metadata": {
        "id": "OWwhnwJUZksE",
        "outputId": "e642bde9-aac2-497f-ad7c-4d6b19d3a43a",
        "colab": {
          "base_uri": "https://localhost:8080/",
          "height": 503
        }
      },
      "source": [
        "data_groupby = pd.DataFrame(data, columns = ['album','album_type','popularity','duration_ms'])\n",
        " \n",
        "data_groupby_album_chart =  data_groupby[data_groupby['album_type'] ==  'album']\n",
        " \n",
        "bars = alt.Chart(data_groupby_album_chart).mark_bar(color = '#222437').encode(\n",
        "    x=alt.X('median(popularity):Q', axis = alt.Axis(title='Mediana da Popularidade')),\n",
        "    y=alt.Y('album:O', sort='-x', axis = alt.Axis(title='Álbum'))\n",
        ")\n",
        "text = alt.Chart(data_groupby_album_chart).mark_text(dx=-15, dy=3, color='white').encode(\n",
        "    x=alt.X('median(popularity):Q', axis = alt.Axis(title='Mediana da Popularidade')),\n",
        "    y=alt.Y('album:O', sort='-x', axis = alt.Axis(title='Álbum')),\n",
        "    text=alt.Text('median(popularity):Q')\n",
        ")\n",
        "bars + text"
      ],
      "execution_count": null,
      "outputs": [
        {
          "output_type": "execute_result",
          "data": {
            "text/plain": [
              "alt.LayerChart(...)"
            ],
            "text/html": [
              "\n",
              "<div id=\"altair-viz-ba64dcdcbe4e487885eaacf8bff7bac1\"></div>\n",
              "<script type=\"text/javascript\">\n",
              "  (function(spec, embedOpt){\n",
              "    let outputDiv = document.currentScript.previousElementSibling;\n",
              "    if (outputDiv.id !== \"altair-viz-ba64dcdcbe4e487885eaacf8bff7bac1\") {\n",
              "      outputDiv = document.getElementById(\"altair-viz-ba64dcdcbe4e487885eaacf8bff7bac1\");\n",
              "    }\n",
              "    const paths = {\n",
              "      \"vega\": \"https://cdn.jsdelivr.net/npm//vega@5?noext\",\n",
              "      \"vega-lib\": \"https://cdn.jsdelivr.net/npm//vega-lib?noext\",\n",
              "      \"vega-lite\": \"https://cdn.jsdelivr.net/npm//vega-lite@4.8.1?noext\",\n",
              "      \"vega-embed\": \"https://cdn.jsdelivr.net/npm//vega-embed@6?noext\",\n",
              "    };\n",
              "\n",
              "    function loadScript(lib) {\n",
              "      return new Promise(function(resolve, reject) {\n",
              "        var s = document.createElement('script');\n",
              "        s.src = paths[lib];\n",
              "        s.async = true;\n",
              "        s.onload = () => resolve(paths[lib]);\n",
              "        s.onerror = () => reject(`Error loading script: ${paths[lib]}`);\n",
              "        document.getElementsByTagName(\"head\")[0].appendChild(s);\n",
              "      });\n",
              "    }\n",
              "\n",
              "    function showError(err) {\n",
              "      outputDiv.innerHTML = `<div class=\"error\" style=\"color:red;\">${err}</div>`;\n",
              "      throw err;\n",
              "    }\n",
              "\n",
              "    function displayChart(vegaEmbed) {\n",
              "      vegaEmbed(outputDiv, spec, embedOpt)\n",
              "        .catch(err => showError(`Javascript Error: ${err.message}<br>This usually means there's a typo in your chart specification. See the javascript console for the full traceback.`));\n",
              "    }\n",
              "\n",
              "    if(typeof define === \"function\" && define.amd) {\n",
              "      requirejs.config({paths});\n",
              "      require([\"vega-embed\"], displayChart, err => showError(`Error loading script: ${err.message}`));\n",
              "    } else if (typeof vegaEmbed === \"function\") {\n",
              "      displayChart(vegaEmbed);\n",
              "    } else {\n",
              "      loadScript(\"vega\")\n",
              "        .then(() => loadScript(\"vega-lite\"))\n",
              "        .then(() => loadScript(\"vega-embed\"))\n",
              "        .catch(showError)\n",
              "        .then(() => displayChart(vegaEmbed));\n",
              "    }\n",
              "  })({\"config\": {\"view\": {\"continuousWidth\": 400, \"continuousHeight\": 300}}, \"layer\": [{\"mark\": {\"type\": \"bar\", \"color\": \"#222437\"}, \"encoding\": {\"x\": {\"type\": \"quantitative\", \"aggregate\": \"median\", \"axis\": {\"title\": \"Mediana da Popularidade\"}, \"field\": \"popularity\"}, \"y\": {\"type\": \"ordinal\", \"axis\": {\"title\": \"\\u00c1lbum\"}, \"field\": \"album\", \"sort\": \"-x\"}}}, {\"mark\": {\"type\": \"text\", \"color\": \"white\", \"dx\": -15, \"dy\": 3}, \"encoding\": {\"text\": {\"type\": \"quantitative\", \"aggregate\": \"median\", \"field\": \"popularity\"}, \"x\": {\"type\": \"quantitative\", \"aggregate\": \"median\", \"axis\": {\"title\": \"Mediana da Popularidade\"}, \"field\": \"popularity\"}, \"y\": {\"type\": \"ordinal\", \"axis\": {\"title\": \"\\u00c1lbum\"}, \"field\": \"album\", \"sort\": \"-x\"}}}], \"data\": {\"name\": \"data-6ef1c6b2eec49c782face04bc3ed0619\"}, \"$schema\": \"https://vega.github.io/schema/vega-lite/v4.8.1.json\", \"datasets\": {\"data-6ef1c6b2eec49c782face04bc3ed0619\": [{\"album\": \"Ensaio Aberto - AMA\", \"album_type\": \"album\", \"popularity\": 55, \"duration_ms\": 148837}, {\"album\": \"Ensaio Aberto - AMA\", \"album_type\": \"album\", \"popularity\": 31, \"duration_ms\": 217109}, {\"album\": \"Ensaio Aberto - AMA\", \"album_type\": \"album\", \"popularity\": 29, \"duration_ms\": 194921}, {\"album\": \"Ensaio Aberto - AMA\", \"album_type\": \"album\", \"popularity\": 29, \"duration_ms\": 216486}, {\"album\": \"Ensaio Aberto - AMA\", \"album_type\": \"album\", \"popularity\": 29, \"duration_ms\": 164437}, {\"album\": \"Ensaio Aberto - AMA\", \"album_type\": \"album\", \"popularity\": 29, \"duration_ms\": 270000}, {\"album\": \"Ensaio Aberto - AMA\", \"album_type\": \"album\", \"popularity\": 28, \"duration_ms\": 196032}, {\"album\": \"Ensaio Aberto - AMA\", \"album_type\": \"album\", \"popularity\": 28, \"duration_ms\": 208294}, {\"album\": \"Ao Cubo, Ao Vivo, Em Cores\", \"album_type\": \"album\", \"popularity\": 46, \"duration_ms\": 206696}, {\"album\": \"Ao Cubo, Ao Vivo, Em Cores\", \"album_type\": \"album\", \"popularity\": 47, \"duration_ms\": 206695}, {\"album\": \"Ao Cubo, Ao Vivo, Em Cores\", \"album_type\": \"album\", \"popularity\": 66, \"duration_ms\": 166672}, {\"album\": \"Ao Cubo, Ao Vivo, Em Cores\", \"album_type\": \"album\", \"popularity\": 54, \"duration_ms\": 168181}, {\"album\": \"Ao Cubo, Ao Vivo, Em Cores\", \"album_type\": \"album\", \"popularity\": 68, \"duration_ms\": 184107}, {\"album\": \"Ao Cubo, Ao Vivo, Em Cores\", \"album_type\": \"album\", \"popularity\": 43, \"duration_ms\": 170709}, {\"album\": \"Ao Cubo, Ao Vivo, Em Cores\", \"album_type\": \"album\", \"popularity\": 53, \"duration_ms\": 190587}, {\"album\": \"Ao Cubo, Ao Vivo, Em Cores\", \"album_type\": \"album\", \"popularity\": 44, \"duration_ms\": 205727}, {\"album\": \"Ao Cubo, Ao Vivo, Em Cores\", \"album_type\": \"album\", \"popularity\": 43, \"duration_ms\": 167515}, {\"album\": \"Ao Cubo, Ao Vivo, Em Cores\", \"album_type\": \"album\", \"popularity\": 43, \"duration_ms\": 187231}, {\"album\": \"Ao Cubo, Ao Vivo, Em Cores\", \"album_type\": \"album\", \"popularity\": 42, \"duration_ms\": 189122}, {\"album\": \"De Volta Pro Amanh\\u00e3, Vol. 2 (Ao Vivo)\", \"album_type\": \"album\", \"popularity\": 44, \"duration_ms\": 264289}, {\"album\": \"De Volta Pro Amanh\\u00e3, Vol. 2 (Ao Vivo)\", \"album_type\": \"album\", \"popularity\": 36, \"duration_ms\": 504198}, {\"album\": \"De Volta Pro Amanh\\u00e3, Vol. 2 (Ao Vivo)\", \"album_type\": \"album\", \"popularity\": 34, \"duration_ms\": 355404}, {\"album\": \"De Volta Pro Amanh\\u00e3, Vol. 2 (Ao Vivo)\", \"album_type\": \"album\", \"popularity\": 31, \"duration_ms\": 341797}, {\"album\": \"De Volta Pro Amanh\\u00e3, Vol. 2 (Ao Vivo)\", \"album_type\": \"album\", \"popularity\": 33, \"duration_ms\": 295682}, {\"album\": \"De Volta Pro Amanh\\u00e3, Vol. 2 (Ao Vivo)\", \"album_type\": \"album\", \"popularity\": 57, \"duration_ms\": 119304}, {\"album\": \"De Volta Pro Amanh\\u00e3, Vol. 2 (Ao Vivo)\", \"album_type\": \"album\", \"popularity\": 42, \"duration_ms\": 171920}, {\"album\": \"De Volta Pro Amanh\\u00e3, Vol. 2 (Ao Vivo)\", \"album_type\": \"album\", \"popularity\": 31, \"duration_ms\": 338872}, {\"album\": \"De Volta Pro Amanh\\u00e3, Vol. 1 (Ao Vivo)\", \"album_type\": \"album\", \"popularity\": 47, \"duration_ms\": 640731}, {\"album\": \"De Volta Pro Amanh\\u00e3, Vol. 1 (Ao Vivo)\", \"album_type\": \"album\", \"popularity\": 40, \"duration_ms\": 519755}, {\"album\": \"De Volta Pro Amanh\\u00e3, Vol. 1 (Ao Vivo)\", \"album_type\": \"album\", \"popularity\": 36, \"duration_ms\": 199041}, {\"album\": \"De Volta Pro Amanh\\u00e3, Vol. 1 (Ao Vivo)\", \"album_type\": \"album\", \"popularity\": 32, \"duration_ms\": 210419}, {\"album\": \"De Volta Pro Amanh\\u00e3, Vol. 1 (Ao Vivo)\", \"album_type\": \"album\", \"popularity\": 34, \"duration_ms\": 333438}, {\"album\": \"De Volta Pro Amanh\\u00e3, Vol. 1 (Ao Vivo)\", \"album_type\": \"album\", \"popularity\": 33, \"duration_ms\": 437696}, {\"album\": \"De Volta Pro Amanh\\u00e3, Vol. 1 (Ao Vivo)\", \"album_type\": \"album\", \"popularity\": 29, \"duration_ms\": 377231}, {\"album\": \"De Volta Pro Amanh\\u00e3, Vol. 1 (Ao Vivo)\", \"album_type\": \"album\", \"popularity\": 28, \"duration_ms\": 179072}, {\"album\": \"De Volta Pro Amanh\\u00e3, Vol. 1 (Ao Vivo)\", \"album_type\": \"album\", \"popularity\": 30, \"duration_ms\": 335296}, {\"album\": \"De Volta Pro Amanh\\u00e3, Vol. 1 (Ao Vivo)\", \"album_type\": \"album\", \"popularity\": 33, \"duration_ms\": 417262}, {\"album\": \"De Volta Pro Amanh\\u00e3 (Deluxe)\", \"album_type\": \"album\", \"popularity\": 40, \"duration_ms\": 203306}, {\"album\": \"De Volta Pro Amanh\\u00e3 (Deluxe)\", \"album_type\": \"album\", \"popularity\": 27, \"duration_ms\": 221693}, {\"album\": \"De Volta Pro Amanh\\u00e3 (Deluxe)\", \"album_type\": \"album\", \"popularity\": 42, \"duration_ms\": 204240}, {\"album\": \"De Volta Pro Amanh\\u00e3 (Deluxe)\", \"album_type\": \"album\", \"popularity\": 37, \"duration_ms\": 159413}, {\"album\": \"De Volta Pro Amanh\\u00e3 (Deluxe)\", \"album_type\": \"album\", \"popularity\": 40, \"duration_ms\": 154440}, {\"album\": \"De Volta Pro Amanh\\u00e3 (Deluxe)\", \"album_type\": \"album\", \"popularity\": 38, \"duration_ms\": 188786}, {\"album\": \"De Volta Pro Amanh\\u00e3 (Deluxe)\", \"album_type\": \"album\", \"popularity\": 43, \"duration_ms\": 207800}, {\"album\": \"De Volta Pro Amanh\\u00e3 (Deluxe)\", \"album_type\": \"album\", \"popularity\": 37, \"duration_ms\": 178720}, {\"album\": \"De Volta Pro Amanh\\u00e3 (Deluxe)\", \"album_type\": \"album\", \"popularity\": 24, \"duration_ms\": 216853}, {\"album\": \"De Volta Pro Amanh\\u00e3 (Deluxe)\", \"album_type\": \"album\", \"popularity\": 25, \"duration_ms\": 229080}, {\"album\": \"De Volta Pro Amanh\\u00e3 (Deluxe)\", \"album_type\": \"album\", \"popularity\": 39, \"duration_ms\": 153640}, {\"album\": \"De Volta Pro Amanh\\u00e3 (Deluxe)\", \"album_type\": \"album\", \"popularity\": 22, \"duration_ms\": 182840}, {\"album\": \"De Volta Pro Amanh\\u00e3 (Deluxe)\", \"album_type\": \"album\", \"popularity\": 22, \"duration_ms\": 164866}, {\"album\": \"De Volta Pro Amanh\\u00e3 (Deluxe)\", \"album_type\": \"album\", \"popularity\": 25, \"duration_ms\": 242906}, {\"album\": \"De Volta Pro Amanh\\u00e3 (Deluxe)\", \"album_type\": \"album\", \"popularity\": 38, \"duration_ms\": 189216}, {\"album\": \"De Volta Pro Amanh\\u00e3 (Deluxe)\", \"album_type\": \"album\", \"popularity\": 39, \"duration_ms\": 230736}, {\"album\": \"De Volta Pro Amanh\\u00e3 (Deluxe)\", \"album_type\": \"album\", \"popularity\": 38, \"duration_ms\": 233706}, {\"album\": \"De Volta Pro Amanh\\u00e3\", \"album_type\": \"album\", \"popularity\": 23, \"duration_ms\": 203306}, {\"album\": \"De Volta Pro Amanh\\u00e3\", \"album_type\": \"album\", \"popularity\": 62, \"duration_ms\": 221693}, {\"album\": \"De Volta Pro Amanh\\u00e3\", \"album_type\": \"album\", \"popularity\": 30, \"duration_ms\": 204240}, {\"album\": \"De Volta Pro Amanh\\u00e3\", \"album_type\": \"album\", \"popularity\": 18, \"duration_ms\": 159413}, {\"album\": \"De Volta Pro Amanh\\u00e3\", \"album_type\": \"album\", \"popularity\": 23, \"duration_ms\": 154440}, {\"album\": \"De Volta Pro Amanh\\u00e3\", \"album_type\": \"album\", \"popularity\": 20, \"duration_ms\": 188786}, {\"album\": \"De Volta Pro Amanh\\u00e3\", \"album_type\": \"album\", \"popularity\": 36, \"duration_ms\": 207800}, {\"album\": \"De Volta Pro Amanh\\u00e3\", \"album_type\": \"album\", \"popularity\": 19, \"duration_ms\": 178720}, {\"album\": \"De Volta Pro Amanh\\u00e3\", \"album_type\": \"album\", \"popularity\": 20, \"duration_ms\": 216853}, {\"album\": \"De Volta Pro Amanh\\u00e3\", \"album_type\": \"album\", \"popularity\": 19, \"duration_ms\": 229080}, {\"album\": \"De Volta Pro Amanh\\u00e3\", \"album_type\": \"album\", \"popularity\": 17, \"duration_ms\": 153640}, {\"album\": \"De Volta Pro Amanh\\u00e3\", \"album_type\": \"album\", \"popularity\": 40, \"duration_ms\": 182840}, {\"album\": \"De Volta Pro Amanh\\u00e3\", \"album_type\": \"album\", \"popularity\": 16, \"duration_ms\": 164866}, {\"album\": \"De Volta Pro Amanh\\u00e3\", \"album_type\": \"album\", \"popularity\": 40, \"duration_ms\": 242906}, {\"album\": \"Sorriso Eu Gosto Ao Vivo No Maracan\\u00e3zinho - Vol. 2\", \"album_type\": \"album\", \"popularity\": 40, \"duration_ms\": 266306}, {\"album\": \"Sorriso Eu Gosto Ao Vivo No Maracan\\u00e3zinho - Vol. 2\", \"album_type\": \"album\", \"popularity\": 26, \"duration_ms\": 166946}, {\"album\": \"Sorriso Eu Gosto Ao Vivo No Maracan\\u00e3zinho - Vol. 2\", \"album_type\": \"album\", \"popularity\": 20, \"duration_ms\": 204493}, {\"album\": \"Sorriso Eu Gosto Ao Vivo No Maracan\\u00e3zinho - Vol. 2\", \"album_type\": \"album\", \"popularity\": 23, \"duration_ms\": 271733}, {\"album\": \"Sorriso Eu Gosto Ao Vivo No Maracan\\u00e3zinho - Vol. 2\", \"album_type\": \"album\", \"popularity\": 38, \"duration_ms\": 273066}, {\"album\": \"Sorriso Eu Gosto Ao Vivo No Maracan\\u00e3zinho - Vol. 2\", \"album_type\": \"album\", \"popularity\": 44, \"duration_ms\": 227133}, {\"album\": \"Sorriso Eu Gosto Ao Vivo No Maracan\\u00e3zinho - Vol. 2\", \"album_type\": \"album\", \"popularity\": 27, \"duration_ms\": 285226}, {\"album\": \"Sorriso Eu Gosto Ao Vivo No Maracan\\u00e3zinho - Vol. 2\", \"album_type\": \"album\", \"popularity\": 24, \"duration_ms\": 215120}, {\"album\": \"Sorriso Eu Gosto Ao Vivo No Maracan\\u00e3zinho - Vol. 2\", \"album_type\": \"album\", \"popularity\": 33, \"duration_ms\": 264146}, {\"album\": \"Sorriso Eu Gosto Ao Vivo No Maracan\\u00e3zinho - Vol. 2\", \"album_type\": \"album\", \"popularity\": 24, \"duration_ms\": 321880}, {\"album\": \"Sorriso Eu Gosto Ao Vivo No Maracan\\u00e3zinho - Vol. 2\", \"album_type\": \"album\", \"popularity\": 24, \"duration_ms\": 249280}, {\"album\": \"Sorriso Eu Gosto Ao Vivo No Maracan\\u00e3zinho - Vol. 2\", \"album_type\": \"album\", \"popularity\": 18, \"duration_ms\": 209200}, {\"album\": \"Sorriso Eu Gosto Ao Vivo No Maracan\\u00e3zinho - Vol. 2\", \"album_type\": \"album\", \"popularity\": 24, \"duration_ms\": 247680}, {\"album\": \"Sorriso Eu Gosto Ao Vivo No Maracan\\u00e3zinho - Vol. 2\", \"album_type\": \"album\", \"popularity\": 44, \"duration_ms\": 456266}, {\"album\": \"Sorriso Eu Gosto Ao Vivo No Maracan\\u00e3zinho\", \"album_type\": \"album\", \"popularity\": 45, \"duration_ms\": 159080}, {\"album\": \"Sorriso Eu Gosto Ao Vivo No Maracan\\u00e3zinho\", \"album_type\": \"album\", \"popularity\": 27, \"duration_ms\": 179973}, {\"album\": \"Sorriso Eu Gosto Ao Vivo No Maracan\\u00e3zinho\", \"album_type\": \"album\", \"popularity\": 57, \"duration_ms\": 223333}, {\"album\": \"Sorriso Eu Gosto Ao Vivo No Maracan\\u00e3zinho\", \"album_type\": \"album\", \"popularity\": 47, \"duration_ms\": 209613}, {\"album\": \"Sorriso Eu Gosto Ao Vivo No Maracan\\u00e3zinho\", \"album_type\": \"album\", \"popularity\": 30, \"duration_ms\": 206000}, {\"album\": \"Sorriso Eu Gosto Ao Vivo No Maracan\\u00e3zinho\", \"album_type\": \"album\", \"popularity\": 31, \"duration_ms\": 184226}, {\"album\": \"Sorriso Eu Gosto Ao Vivo No Maracan\\u00e3zinho\", \"album_type\": \"album\", \"popularity\": 27, \"duration_ms\": 165533}, {\"album\": \"Sorriso Eu Gosto Ao Vivo No Maracan\\u00e3zinho\", \"album_type\": \"album\", \"popularity\": 38, \"duration_ms\": 171706}, {\"album\": \"Sorriso Eu Gosto Ao Vivo No Maracan\\u00e3zinho\", \"album_type\": \"album\", \"popularity\": 26, \"duration_ms\": 184720}, {\"album\": \"Sorriso Eu Gosto Ao Vivo No Maracan\\u00e3zinho\", \"album_type\": \"album\", \"popularity\": 26, \"duration_ms\": 187706}, {\"album\": \"Sorriso Eu Gosto Ao Vivo No Maracan\\u00e3zinho\", \"album_type\": \"album\", \"popularity\": 41, \"duration_ms\": 177453}, {\"album\": \"Sorriso Eu Gosto Ao Vivo No Maracan\\u00e3zinho\", \"album_type\": \"album\", \"popularity\": 24, \"duration_ms\": 178306}, {\"album\": \"Fundamental - Sorriso Maroto 2\", \"album_type\": \"album\", \"popularity\": 41, \"duration_ms\": 207400}, {\"album\": \"Fundamental - Sorriso Maroto 2\", \"album_type\": \"album\", \"popularity\": 24, \"duration_ms\": 201280}, {\"album\": \"Fundamental - Sorriso Maroto 2\", \"album_type\": \"album\", \"popularity\": 19, \"duration_ms\": 228560}, {\"album\": \"Fundamental - Sorriso Maroto 2\", \"album_type\": \"album\", \"popularity\": 19, \"duration_ms\": 231200}, {\"album\": \"Fundamental - Sorriso Maroto 2\", \"album_type\": \"album\", \"popularity\": 18, \"duration_ms\": 244600}, {\"album\": \"Fundamental - Sorriso Maroto 2\", \"album_type\": \"album\", \"popularity\": 17, \"duration_ms\": 225466}, {\"album\": \"Fundamental - Sorriso Maroto 2\", \"album_type\": \"album\", \"popularity\": 40, \"duration_ms\": 235760}, {\"album\": \"Fundamental - Sorriso Maroto 2\", \"album_type\": \"album\", \"popularity\": 23, \"duration_ms\": 235493}, {\"album\": \"Fundamental - Sorriso Maroto 2\", \"album_type\": \"album\", \"popularity\": 22, \"duration_ms\": 223440}, {\"album\": \"Fundamental - Sorriso Maroto 2\", \"album_type\": \"album\", \"popularity\": 24, \"duration_ms\": 223533}, {\"album\": \"Fundamental - Sorriso Maroto 2\", \"album_type\": \"album\", \"popularity\": 20, \"duration_ms\": 215200}, {\"album\": \"Fundamental - Sorriso Maroto 2\", \"album_type\": \"album\", \"popularity\": 18, \"duration_ms\": 226746}, {\"album\": \"Fundamental - Sorriso Maroto 2\", \"album_type\": \"album\", \"popularity\": 21, \"duration_ms\": 202226}, {\"album\": \"Fundamental - Sorriso Maroto 2\", \"album_type\": \"album\", \"popularity\": 17, \"duration_ms\": 199706}, {\"album\": \"Fundamental - Sorriso Maroto Vol.1\", \"album_type\": \"album\", \"popularity\": 16, \"duration_ms\": 206560}, {\"album\": \"Fundamental - Sorriso Maroto Vol.1\", \"album_type\": \"album\", \"popularity\": 22, \"duration_ms\": 244080}, {\"album\": \"Fundamental - Sorriso Maroto Vol.1\", \"album_type\": \"album\", \"popularity\": 15, \"duration_ms\": 231373}, {\"album\": \"Fundamental - Sorriso Maroto Vol.1\", \"album_type\": \"album\", \"popularity\": 23, \"duration_ms\": 216800}, {\"album\": \"Fundamental - Sorriso Maroto Vol.1\", \"album_type\": \"album\", \"popularity\": 12, \"duration_ms\": 206960}, {\"album\": \"Fundamental - Sorriso Maroto Vol.1\", \"album_type\": \"album\", \"popularity\": 23, \"duration_ms\": 242320}, {\"album\": \"Fundamental - Sorriso Maroto Vol.1\", \"album_type\": \"album\", \"popularity\": 20, \"duration_ms\": 251600}, {\"album\": \"Fundamental - Sorriso Maroto Vol.1\", \"album_type\": \"album\", \"popularity\": 16, \"duration_ms\": 194546}, {\"album\": \"Fundamental - Sorriso Maroto Vol.1\", \"album_type\": \"album\", \"popularity\": 17, \"duration_ms\": 210053}, {\"album\": \"Fundamental - Sorriso Maroto Vol.1\", \"album_type\": \"album\", \"popularity\": 17, \"duration_ms\": 203106}, {\"album\": \"Fundamental - Sorriso Maroto Vol.1\", \"album_type\": \"album\", \"popularity\": 13, \"duration_ms\": 204200}, {\"album\": \"Fundamental - Sorriso Maroto Vol.1\", \"album_type\": \"album\", \"popularity\": 24, \"duration_ms\": 218920}, {\"album\": \"Fundamental - Sorriso Maroto Vol.1\", \"album_type\": \"album\", \"popularity\": 12, \"duration_ms\": 168880}, {\"album\": \"Fundamental - Sorriso Maroto Vol.1\", \"album_type\": \"album\", \"popularity\": 18, \"duration_ms\": 306506}, {\"album\": \"100% Sorriso Maroto\", \"album_type\": \"album\", \"popularity\": 43, \"duration_ms\": 201000}, {\"album\": \"100% Sorriso Maroto\", \"album_type\": \"album\", \"popularity\": 42, \"duration_ms\": 228453}, {\"album\": \"100% Sorriso Maroto\", \"album_type\": \"album\", \"popularity\": 40, \"duration_ms\": 241493}, {\"album\": \"100% Sorriso Maroto\", \"album_type\": \"album\", \"popularity\": 42, \"duration_ms\": 203786}, {\"album\": \"100% Sorriso Maroto\", \"album_type\": \"album\", \"popularity\": 42, \"duration_ms\": 234626}, {\"album\": \"100% Sorriso Maroto\", \"album_type\": \"album\", \"popularity\": 47, \"duration_ms\": 225853}, {\"album\": \"100% Sorriso Maroto\", \"album_type\": \"album\", \"popularity\": 40, \"duration_ms\": 204973}, {\"album\": \"100% Sorriso Maroto\", \"album_type\": \"album\", \"popularity\": 39, \"duration_ms\": 226866}, {\"album\": \"100% Sorriso Maroto\", \"album_type\": \"album\", \"popularity\": 40, \"duration_ms\": 193680}, {\"album\": \"100% Sorriso Maroto\", \"album_type\": \"album\", \"popularity\": 40, \"duration_ms\": 180586}, {\"album\": \"100% Sorriso Maroto\", \"album_type\": \"album\", \"popularity\": 38, \"duration_ms\": 174506}, {\"album\": \"100% Sorriso Maroto\", \"album_type\": \"album\", \"popularity\": 39, \"duration_ms\": 230360}, {\"album\": \"100% Sorriso Maroto\", \"album_type\": \"album\", \"popularity\": 38, \"duration_ms\": 205866}, {\"album\": \"100% Sorriso Maroto\", \"album_type\": \"album\", \"popularity\": 39, \"duration_ms\": 226373}, {\"album\": \"100% Sorriso Maroto\", \"album_type\": \"album\", \"popularity\": 39, \"duration_ms\": 240840}, {\"album\": \"Sorriso 15 Anos (Ao Vivo) - Edi\\u00e7\\u00e3o B\\u00f4nus\", \"album_type\": \"album\", \"popularity\": 33, \"duration_ms\": 206813}, {\"album\": \"Sorriso 15 Anos (Ao Vivo) - Edi\\u00e7\\u00e3o B\\u00f4nus\", \"album_type\": \"album\", \"popularity\": 34, \"duration_ms\": 214280}, {\"album\": \"Sorriso 15 Anos (Ao Vivo) - Edi\\u00e7\\u00e3o B\\u00f4nus\", \"album_type\": \"album\", \"popularity\": 44, \"duration_ms\": 226880}, {\"album\": \"Sorriso 15 Anos (Ao Vivo) - Edi\\u00e7\\u00e3o B\\u00f4nus\", \"album_type\": \"album\", \"popularity\": 38, \"duration_ms\": 225426}, {\"album\": \"Sorriso 15 Anos (Ao Vivo) - Edi\\u00e7\\u00e3o B\\u00f4nus\", \"album_type\": \"album\", \"popularity\": 43, \"duration_ms\": 206506}, {\"album\": \"Sorriso 15 Anos (Ao Vivo) - Edi\\u00e7\\u00e3o B\\u00f4nus\", \"album_type\": \"album\", \"popularity\": 31, \"duration_ms\": 237546}, {\"album\": \"Sorriso 15 Anos (Ao Vivo) - Edi\\u00e7\\u00e3o B\\u00f4nus\", \"album_type\": \"album\", \"popularity\": 30, \"duration_ms\": 171320}, {\"album\": \"Sorriso 15 Anos (Ao Vivo) - Edi\\u00e7\\u00e3o B\\u00f4nus\", \"album_type\": \"album\", \"popularity\": 29, \"duration_ms\": 191773}, {\"album\": \"Sorriso 15 Anos (Ao Vivo) - Edi\\u00e7\\u00e3o B\\u00f4nus\", \"album_type\": \"album\", \"popularity\": 33, \"duration_ms\": 248293}, {\"album\": \"Sorriso 15 Anos (Ao Vivo) - Edi\\u00e7\\u00e3o B\\u00f4nus\", \"album_type\": \"album\", \"popularity\": 47, \"duration_ms\": 245453}, {\"album\": \"Sorriso 15 Anos (Ao Vivo) - Edi\\u00e7\\u00e3o B\\u00f4nus\", \"album_type\": \"album\", \"popularity\": 28, \"duration_ms\": 184333}, {\"album\": \"Sorriso 15 Anos (Ao Vivo) - Edi\\u00e7\\u00e3o B\\u00f4nus\", \"album_type\": \"album\", \"popularity\": 32, \"duration_ms\": 205546}, {\"album\": \"Sorriso 15 Anos (Ao Vivo) - Edi\\u00e7\\u00e3o B\\u00f4nus\", \"album_type\": \"album\", \"popularity\": 27, \"duration_ms\": 203933}, {\"album\": \"Sorriso 15 Anos (Ao Vivo) - Edi\\u00e7\\u00e3o B\\u00f4nus\", \"album_type\": \"album\", \"popularity\": 26, \"duration_ms\": 205120}, {\"album\": \"Sorriso 15 Anos (Ao Vivo) - Edi\\u00e7\\u00e3o B\\u00f4nus\", \"album_type\": \"album\", \"popularity\": 22, \"duration_ms\": 206837}, {\"album\": \"Sorriso 15 Anos - Ao Vivo\", \"album_type\": \"album\", \"popularity\": 25, \"duration_ms\": 206813}, {\"album\": \"Sorriso 15 Anos - Ao Vivo\", \"album_type\": \"album\", \"popularity\": 36, \"duration_ms\": 214280}, {\"album\": \"Sorriso 15 Anos - Ao Vivo\", \"album_type\": \"album\", \"popularity\": 31, \"duration_ms\": 226880}, {\"album\": \"Sorriso 15 Anos - Ao Vivo\", \"album_type\": \"album\", \"popularity\": 28, \"duration_ms\": 225426}, {\"album\": \"Sorriso 15 Anos - Ao Vivo\", \"album_type\": \"album\", \"popularity\": 25, \"duration_ms\": 206506}, {\"album\": \"Sorriso 15 Anos - Ao Vivo\", \"album_type\": \"album\", \"popularity\": 23, \"duration_ms\": 237546}, {\"album\": \"Sorriso 15 Anos - Ao Vivo\", \"album_type\": \"album\", \"popularity\": 23, \"duration_ms\": 171320}, {\"album\": \"Sorriso 15 Anos - Ao Vivo\", \"album_type\": \"album\", \"popularity\": 22, \"duration_ms\": 191773}, {\"album\": \"Sorriso 15 Anos - Ao Vivo\", \"album_type\": \"album\", \"popularity\": 22, \"duration_ms\": 248293}, {\"album\": \"Sorriso 15 Anos - Ao Vivo\", \"album_type\": \"album\", \"popularity\": 28, \"duration_ms\": 245453}, {\"album\": \"Sorriso 15 Anos - Ao Vivo\", \"album_type\": \"album\", \"popularity\": 21, \"duration_ms\": 184333}, {\"album\": \"Sorriso 15 Anos - Ao Vivo\", \"album_type\": \"album\", \"popularity\": 23, \"duration_ms\": 205546}, {\"album\": \"Sorriso 15 Anos - Ao Vivo\", \"album_type\": \"album\", \"popularity\": 20, \"duration_ms\": 203933}, {\"album\": \"Sorriso 15 Anos - Ao Vivo\", \"album_type\": \"album\", \"popularity\": 18, \"duration_ms\": 205120}, {\"album\": \"Sorriso Maroto Ao Vivo No Recife\", \"album_type\": \"album\", \"popularity\": 24, \"duration_ms\": 205720}, {\"album\": \"Sorriso Maroto Ao Vivo No Recife\", \"album_type\": \"album\", \"popularity\": 35, \"duration_ms\": 266080}, {\"album\": \"Sorriso Maroto Ao Vivo No Recife\", \"album_type\": \"album\", \"popularity\": 40, \"duration_ms\": 236973}, {\"album\": \"Sorriso Maroto Ao Vivo No Recife\", \"album_type\": \"album\", \"popularity\": 33, \"duration_ms\": 222520}, {\"album\": \"Sorriso Maroto Ao Vivo No Recife\", \"album_type\": \"album\", \"popularity\": 29, \"duration_ms\": 305253}, {\"album\": \"Sorriso Maroto Ao Vivo No Recife\", \"album_type\": \"album\", \"popularity\": 33, \"duration_ms\": 208160}, {\"album\": \"Sorriso Maroto Ao Vivo No Recife\", \"album_type\": \"album\", \"popularity\": 33, \"duration_ms\": 224253}, {\"album\": \"Sorriso Maroto Ao Vivo No Recife\", \"album_type\": \"album\", \"popularity\": 31, \"duration_ms\": 225613}, {\"album\": \"Sorriso Maroto Ao Vivo No Recife\", \"album_type\": \"album\", \"popularity\": 25, \"duration_ms\": 183920}, {\"album\": \"Sorriso Maroto Ao Vivo No Recife\", \"album_type\": \"album\", \"popularity\": 33, \"duration_ms\": 207346}, {\"album\": \"Sorriso Maroto Ao Vivo No Recife\", \"album_type\": \"album\", \"popularity\": 27, \"duration_ms\": 230840}, {\"album\": \"Sorriso Maroto Ao Vivo No Recife\", \"album_type\": \"album\", \"popularity\": 30, \"duration_ms\": 299600}, {\"album\": \"Sorriso Maroto Ao Vivo No Recife\", \"album_type\": \"album\", \"popularity\": 28, \"duration_ms\": 213746}, {\"album\": \"Sorriso Maroto Ao Vivo No Recife\", \"album_type\": \"album\", \"popularity\": 27, \"duration_ms\": 194906}, {\"album\": \"Sorriso Maroto Ao Vivo No Recife\", \"album_type\": \"album\", \"popularity\": 23, \"duration_ms\": 184560}, {\"album\": \"Sorriso Maroto Ao Vivo No Recife\", \"album_type\": \"album\", \"popularity\": 27, \"duration_ms\": 219786}, {\"album\": \"Sinais\", \"album_type\": \"album\", \"popularity\": 60, \"duration_ms\": 243493}, {\"album\": \"Sinais\", \"album_type\": \"album\", \"popularity\": 44, \"duration_ms\": 217173}, {\"album\": \"Sinais\", \"album_type\": \"album\", \"popularity\": 37, \"duration_ms\": 183680}, {\"album\": \"Sinais\", \"album_type\": \"album\", \"popularity\": 50, \"duration_ms\": 217200}, {\"album\": \"Sinais\", \"album_type\": \"album\", \"popularity\": 41, \"duration_ms\": 245493}, {\"album\": \"Sinais\", \"album_type\": \"album\", \"popularity\": 40, \"duration_ms\": 207773}, {\"album\": \"Sinais\", \"album_type\": \"album\", \"popularity\": 37, \"duration_ms\": 248333}, {\"album\": \"Sinais\", \"album_type\": \"album\", \"popularity\": 38, \"duration_ms\": 128080}, {\"album\": \"Sinais\", \"album_type\": \"album\", \"popularity\": 39, \"duration_ms\": 251906}, {\"album\": \"Sinais\", \"album_type\": \"album\", \"popularity\": 35, \"duration_ms\": 225333}, {\"album\": \"Sinais\", \"album_type\": \"album\", \"popularity\": 37, \"duration_ms\": 224013}, {\"album\": \"Sinais\", \"album_type\": \"album\", \"popularity\": 41, \"duration_ms\": 195586}, {\"album\": \"Sinais\", \"album_type\": \"album\", \"popularity\": 35, \"duration_ms\": 230933}, {\"album\": \"Sinais\", \"album_type\": \"album\", \"popularity\": 36, \"duration_ms\": 210346}, {\"album\": \"Sinais\", \"album_type\": \"album\", \"popularity\": 34, \"duration_ms\": 222413}, {\"album\": \"Pagode Pra Namorar\", \"album_type\": \"album\", \"popularity\": 25, \"duration_ms\": 215129}, {\"album\": \"Pagode Pra Namorar\", \"album_type\": \"album\", \"popularity\": 22, \"duration_ms\": 203505}, {\"album\": \"Pagode Pra Namorar\", \"album_type\": \"album\", \"popularity\": 16, \"duration_ms\": 181450}, {\"album\": \"Pagode Pra Namorar\", \"album_type\": \"album\", \"popularity\": 18, \"duration_ms\": 239339}, {\"album\": \"Pagode Pra Namorar\", \"album_type\": \"album\", \"popularity\": 25, \"duration_ms\": 216653}, {\"album\": \"Pagode Pra Namorar\", \"album_type\": \"album\", \"popularity\": 18, \"duration_ms\": 248293}, {\"album\": \"Pagode Pra Namorar\", \"album_type\": \"album\", \"popularity\": 16, \"duration_ms\": 224253}, {\"album\": \"Pagode Pra Namorar\", \"album_type\": \"album\", \"popularity\": 16, \"duration_ms\": 158065}, {\"album\": \"Pagode Pra Namorar\", \"album_type\": \"album\", \"popularity\": 13, \"duration_ms\": 142495}, {\"album\": \"Pagode Pra Namorar\", \"album_type\": \"album\", \"popularity\": 28, \"duration_ms\": 340239}, {\"album\": \"\\u00c9 Diferente Ao Vivo\", \"album_type\": \"album\", \"popularity\": 35, \"duration_ms\": 71880}, {\"album\": \"\\u00c9 Diferente Ao Vivo\", \"album_type\": \"album\", \"popularity\": 48, \"duration_ms\": 191666}, {\"album\": \"\\u00c9 Diferente Ao Vivo\", \"album_type\": \"album\", \"popularity\": 54, \"duration_ms\": 219640}, {\"album\": \"\\u00c9 Diferente Ao Vivo\", \"album_type\": \"album\", \"popularity\": 55, \"duration_ms\": 223746}, {\"album\": \"\\u00c9 Diferente Ao Vivo\", \"album_type\": \"album\", \"popularity\": 40, \"duration_ms\": 169626}, {\"album\": \"\\u00c9 Diferente Ao Vivo\", \"album_type\": \"album\", \"popularity\": 40, \"duration_ms\": 235440}, {\"album\": \"\\u00c9 Diferente Ao Vivo\", \"album_type\": \"album\", \"popularity\": 49, \"duration_ms\": 235306}, {\"album\": \"\\u00c9 Diferente Ao Vivo\", \"album_type\": \"album\", \"popularity\": 39, \"duration_ms\": 204053}, {\"album\": \"\\u00c9 Diferente Ao Vivo\", \"album_type\": \"album\", \"popularity\": 42, \"duration_ms\": 203893}, {\"album\": \"\\u00c9 Diferente Ao Vivo\", \"album_type\": \"album\", \"popularity\": 41, \"duration_ms\": 217373}, {\"album\": \"\\u00c9 Diferente Ao Vivo\", \"album_type\": \"album\", \"popularity\": 46, \"duration_ms\": 238960}, {\"album\": \"\\u00c9 Diferente Ao Vivo\", \"album_type\": \"album\", \"popularity\": 39, \"duration_ms\": 199533}, {\"album\": \"\\u00c9 Diferente Ao Vivo\", \"album_type\": \"album\", \"popularity\": 42, \"duration_ms\": 204400}, {\"album\": \"\\u00c9 Diferente Ao Vivo\", \"album_type\": \"album\", \"popularity\": 39, \"duration_ms\": 106120}, {\"album\": \"\\u00c9 Diferente Ao Vivo\", \"album_type\": \"album\", \"popularity\": 41, \"duration_ms\": 238506}, {\"album\": \"\\u00c9 Diferente Ao Vivo\", \"album_type\": \"album\", \"popularity\": 41, \"duration_ms\": 237293}, {\"album\": \"\\u00c9 Diferente Ao Vivo\", \"album_type\": \"album\", \"popularity\": 39, \"duration_ms\": 323760}, {\"album\": \"\\u00c9 Diferente Ao Vivo\", \"album_type\": \"album\", \"popularity\": 42, \"duration_ms\": 108266}, {\"album\": \"\\u00c9 Diferente Ao Vivo\", \"album_type\": \"album\", \"popularity\": 45, \"duration_ms\": 223653}, {\"album\": \"\\u00c9 Diferente Ao Vivo\", \"album_type\": \"album\", \"popularity\": 36, \"duration_ms\": 236920}, {\"album\": \"\\u00c9 Diferente Ao Vivo\", \"album_type\": \"album\", \"popularity\": 41, \"duration_ms\": 227746}, {\"album\": \"\\u00c9 Diferente Ao Vivo\", \"album_type\": \"album\", \"popularity\": 41, \"duration_ms\": 250720}, {\"album\": \"\\u00c9 Diferente Ao Vivo\", \"album_type\": \"album\", \"popularity\": 41, \"duration_ms\": 258560}, {\"album\": \"\\u00c9 Diferente Ao Vivo\", \"album_type\": \"album\", \"popularity\": 42, \"duration_ms\": 190266}, {\"album\": \"\\u00c9 Diferente Ao Vivo\", \"album_type\": \"album\", \"popularity\": 35, \"duration_ms\": 216440}, {\"album\": \"\\u00c9 Diferente Ao Vivo\", \"album_type\": \"album\", \"popularity\": 38, \"duration_ms\": 215613}, {\"album\": \"\\u00c9 Diferente Ao Vivo\", \"album_type\": \"album\", \"popularity\": 42, \"duration_ms\": 306533}, {\"album\": \"\\u00c9 Diferente\", \"album_type\": \"album\", \"popularity\": 41, \"duration_ms\": 175813}, {\"album\": \"\\u00c9 Diferente\", \"album_type\": \"album\", \"popularity\": 55, \"duration_ms\": 201360}, {\"album\": \"\\u00c9 Diferente\", \"album_type\": \"album\", \"popularity\": 45, \"duration_ms\": 181840}, {\"album\": \"\\u00c9 Diferente\", \"album_type\": \"album\", \"popularity\": 30, \"duration_ms\": 245440}, {\"album\": \"\\u00c9 Diferente\", \"album_type\": \"album\", \"popularity\": 25, \"duration_ms\": 227973}, {\"album\": \"\\u00c9 Diferente\", \"album_type\": \"album\", \"popularity\": 26, \"duration_ms\": 197586}, {\"album\": \"\\u00c9 Diferente\", \"album_type\": \"album\", \"popularity\": 39, \"duration_ms\": 212840}, {\"album\": \"\\u00c9 Diferente\", \"album_type\": \"album\", \"popularity\": 28, \"duration_ms\": 209866}, {\"album\": \"\\u00c9 Diferente\", \"album_type\": \"album\", \"popularity\": 23, \"duration_ms\": 227786}, {\"album\": \"\\u00c9 Diferente\", \"album_type\": \"album\", \"popularity\": 30, \"duration_ms\": 233013}, {\"album\": \"\\u00c9 Diferente\", \"album_type\": \"album\", \"popularity\": 43, \"duration_ms\": 231333}, {\"album\": \"\\u00c9 Diferente\", \"album_type\": \"album\", \"popularity\": 30, \"duration_ms\": 194066}, {\"album\": \"\\u00c9 Diferente\", \"album_type\": \"album\", \"popularity\": 18, \"duration_ms\": 208093}, {\"album\": \"\\u00c9 Diferente\", \"album_type\": \"album\", \"popularity\": 15, \"duration_ms\": 208400}, {\"album\": \"Por Voc\\u00ea Ao Vivo\", \"album_type\": \"album\", \"popularity\": 43, \"duration_ms\": 331866}, {\"album\": \"Por Voc\\u00ea Ao Vivo\", \"album_type\": \"album\", \"popularity\": 43, \"duration_ms\": 203386}, {\"album\": \"Por Voc\\u00ea Ao Vivo\", \"album_type\": \"album\", \"popularity\": 40, \"duration_ms\": 217226}, {\"album\": \"Por Voc\\u00ea Ao Vivo\", \"album_type\": \"album\", \"popularity\": 37, \"duration_ms\": 238893}, {\"album\": \"Por Voc\\u00ea Ao Vivo\", \"album_type\": \"album\", \"popularity\": 38, \"duration_ms\": 228400}, {\"album\": \"Por Voc\\u00ea Ao Vivo\", \"album_type\": \"album\", \"popularity\": 37, \"duration_ms\": 230880}, {\"album\": \"Por Voc\\u00ea Ao Vivo\", \"album_type\": \"album\", \"popularity\": 37, \"duration_ms\": 197093}, {\"album\": \"Por Voc\\u00ea Ao Vivo\", \"album_type\": \"album\", \"popularity\": 47, \"duration_ms\": 203040}, {\"album\": \"Por Voc\\u00ea Ao Vivo\", \"album_type\": \"album\", \"popularity\": 39, \"duration_ms\": 228200}, {\"album\": \"Por Voc\\u00ea Ao Vivo\", \"album_type\": \"album\", \"popularity\": 47, \"duration_ms\": 208720}, {\"album\": \"Por Voc\\u00ea Ao Vivo\", \"album_type\": \"album\", \"popularity\": 35, \"duration_ms\": 190720}, {\"album\": \"Por Voc\\u00ea Ao Vivo\", \"album_type\": \"album\", \"popularity\": 37, \"duration_ms\": 197213}, {\"album\": \"Por Voc\\u00ea Ao Vivo\", \"album_type\": \"album\", \"popularity\": 35, \"duration_ms\": 224386}, {\"album\": \"Por Voc\\u00ea Ao Vivo\", \"album_type\": \"album\", \"popularity\": 36, \"duration_ms\": 324253}, {\"album\": \"Sorriso Eu Gosto Ao Vivo No Maracan\\u00e3zinho, Vol. 2\", \"album_type\": \"album\", \"popularity\": 25, \"duration_ms\": 266306}, {\"album\": \"Sorriso Eu Gosto Ao Vivo No Maracan\\u00e3zinho, Vol. 2\", \"album_type\": \"album\", \"popularity\": 29, \"duration_ms\": 166946}, {\"album\": \"Sorriso Eu Gosto Ao Vivo No Maracan\\u00e3zinho, Vol. 2\", \"album_type\": \"album\", \"popularity\": 21, \"duration_ms\": 204493}, {\"album\": \"Sorriso Eu Gosto Ao Vivo No Maracan\\u00e3zinho, Vol. 2\", \"album_type\": \"album\", \"popularity\": 23, \"duration_ms\": 271733}, {\"album\": \"Sorriso Eu Gosto Ao Vivo No Maracan\\u00e3zinho, Vol. 2\", \"album_type\": \"album\", \"popularity\": 21, \"duration_ms\": 273066}, {\"album\": \"Sorriso Eu Gosto Ao Vivo No Maracan\\u00e3zinho, Vol. 2\", \"album_type\": \"album\", \"popularity\": 28, \"duration_ms\": 227133}, {\"album\": \"Sorriso Eu Gosto Ao Vivo No Maracan\\u00e3zinho, Vol. 2\", \"album_type\": \"album\", \"popularity\": 28, \"duration_ms\": 285226}, {\"album\": \"Sorriso Eu Gosto Ao Vivo No Maracan\\u00e3zinho, Vol. 2\", \"album_type\": \"album\", \"popularity\": 19, \"duration_ms\": 215120}, {\"album\": \"Sorriso Eu Gosto Ao Vivo No Maracan\\u00e3zinho, Vol. 2\", \"album_type\": \"album\", \"popularity\": 21, \"duration_ms\": 264146}, {\"album\": \"Sorriso Eu Gosto Ao Vivo No Maracan\\u00e3zinho, Vol. 2\", \"album_type\": \"album\", \"popularity\": 19, \"duration_ms\": 321880}, {\"album\": \"Sorriso Eu Gosto Ao Vivo No Maracan\\u00e3zinho, Vol. 2\", \"album_type\": \"album\", \"popularity\": 20, \"duration_ms\": 249280}, {\"album\": \"Sorriso Eu Gosto Ao Vivo No Maracan\\u00e3zinho, Vol. 2\", \"album_type\": \"album\", \"popularity\": 25, \"duration_ms\": 209200}, {\"album\": \"Sorriso Eu Gosto Ao Vivo No Maracan\\u00e3zinho, Vol. 2\", \"album_type\": \"album\", \"popularity\": 37, \"duration_ms\": 247680}, {\"album\": \"Sorriso Eu Gosto Ao Vivo No Maracan\\u00e3zinho, Vol. 2\", \"album_type\": \"album\", \"popularity\": 26, \"duration_ms\": 456266}, {\"album\": \"Por Voc\\u00ea\", \"album_type\": \"album\", \"popularity\": 41, \"duration_ms\": 206040}, {\"album\": \"Por Voc\\u00ea\", \"album_type\": \"album\", \"popularity\": 26, \"duration_ms\": 220853}, {\"album\": \"Por Voc\\u00ea\", \"album_type\": \"album\", \"popularity\": 45, \"duration_ms\": 230253}, {\"album\": \"Por Voc\\u00ea\", \"album_type\": \"album\", \"popularity\": 41, \"duration_ms\": 243853}, {\"album\": \"Por Voc\\u00ea\", \"album_type\": \"album\", \"popularity\": 28, \"duration_ms\": 237120}, {\"album\": \"Por Voc\\u00ea\", \"album_type\": \"album\", \"popularity\": 28, \"duration_ms\": 245400}, {\"album\": \"Por Voc\\u00ea\", \"album_type\": \"album\", \"popularity\": 24, \"duration_ms\": 195080}, {\"album\": \"Por Voc\\u00ea\", \"album_type\": \"album\", \"popularity\": 18, \"duration_ms\": 300853}, {\"album\": \"Por Voc\\u00ea\", \"album_type\": \"album\", \"popularity\": 29, \"duration_ms\": 223626}, {\"album\": \"Por Voc\\u00ea\", \"album_type\": \"album\", \"popularity\": 13, \"duration_ms\": 190626}, {\"album\": \"Por Voc\\u00ea\", \"album_type\": \"album\", \"popularity\": 15, \"duration_ms\": 205840}, {\"album\": \"Por Voc\\u00ea\", \"album_type\": \"album\", \"popularity\": 28, \"duration_ms\": 206946}, {\"album\": \"Sorriso Maroto\", \"album_type\": \"album\", \"popularity\": 29, \"duration_ms\": 225000}, {\"album\": \"Sorriso Maroto\", \"album_type\": \"album\", \"popularity\": 8, \"duration_ms\": 188746}, {\"album\": \"Sorriso Maroto\", \"album_type\": \"album\", \"popularity\": 47, \"duration_ms\": 241093}, {\"album\": \"Sorriso Maroto\", \"album_type\": \"album\", \"popularity\": 9, \"duration_ms\": 240480}, {\"album\": \"Sorriso Maroto\", \"album_type\": \"album\", \"popularity\": 12, \"duration_ms\": 227346}, {\"album\": \"Sorriso Maroto\", \"album_type\": \"album\", \"popularity\": 41, \"duration_ms\": 228440}, {\"album\": \"Sorriso Maroto\", \"album_type\": \"album\", \"popularity\": 9, \"duration_ms\": 210853}, {\"album\": \"Sorriso Maroto\", \"album_type\": \"album\", \"popularity\": 23, \"duration_ms\": 203920}, {\"album\": \"Sorriso Maroto\", \"album_type\": \"album\", \"popularity\": 8, \"duration_ms\": 200200}, {\"album\": \"Sorriso Maroto\", \"album_type\": \"album\", \"popularity\": 21, \"duration_ms\": 234440}, {\"album\": \"Sorriso Maroto\", \"album_type\": \"album\", \"popularity\": 8, \"duration_ms\": 236013}, {\"album\": \"Sorriso Maroto\", \"album_type\": \"album\", \"popularity\": 7, \"duration_ms\": 268546}, {\"album\": \"Sorriso Maroto\", \"album_type\": \"album\", \"popularity\": 8, \"duration_ms\": 137813}]}}, {\"mode\": \"vega-lite\"});\n",
              "</script>"
            ]
          },
          "metadata": {
            "tags": []
          },
          "execution_count": 152
        }
      ]
    },
    {
      "cell_type": "code",
      "metadata": {
        "id": "PuKAcPB3ZrGk",
        "outputId": "ca581b76-710b-4bd2-9e37-49cf208c5211",
        "colab": {
          "base_uri": "https://localhost:8080/",
          "height": 623
        }
      },
      "source": [
        "data_groupby = pd.DataFrame(data, columns = ['album','album_type','popularity','duration_ms'])\n",
        " \n",
        "data_groupby_album_chart =  data_groupby[data_groupby['album_type'] ==  'single']\n",
        " \n",
        "bars = alt.Chart(data_groupby_album_chart).mark_bar(color = '#222437').encode(\n",
        "    x=alt.X('median(popularity):Q', axis = alt.Axis(title='Mediana da Popularidade')),\n",
        "    y=alt.Y('album:O', sort='-x', axis = alt.Axis(title='Single'))\n",
        ")\n",
        "text = alt.Chart(data_groupby_album_chart).mark_text(dx=-15, dy=3, color='white').encode(\n",
        "    x=alt.X('median(popularity):Q', axis = alt.Axis(title='Mediana da Popularidade')),\n",
        "    y=alt.Y('album:O', sort='-x', axis = alt.Axis(title='Single')),\n",
        "    text=alt.Text('median(popularity):Q')\n",
        ")\n",
        "bars + text"
      ],
      "execution_count": null,
      "outputs": [
        {
          "output_type": "execute_result",
          "data": {
            "text/plain": [
              "alt.LayerChart(...)"
            ],
            "text/html": [
              "\n",
              "<div id=\"altair-viz-3efef62862b64b8cb28e9f9e1c68b7b1\"></div>\n",
              "<script type=\"text/javascript\">\n",
              "  (function(spec, embedOpt){\n",
              "    let outputDiv = document.currentScript.previousElementSibling;\n",
              "    if (outputDiv.id !== \"altair-viz-3efef62862b64b8cb28e9f9e1c68b7b1\") {\n",
              "      outputDiv = document.getElementById(\"altair-viz-3efef62862b64b8cb28e9f9e1c68b7b1\");\n",
              "    }\n",
              "    const paths = {\n",
              "      \"vega\": \"https://cdn.jsdelivr.net/npm//vega@5?noext\",\n",
              "      \"vega-lib\": \"https://cdn.jsdelivr.net/npm//vega-lib?noext\",\n",
              "      \"vega-lite\": \"https://cdn.jsdelivr.net/npm//vega-lite@4.8.1?noext\",\n",
              "      \"vega-embed\": \"https://cdn.jsdelivr.net/npm//vega-embed@6?noext\",\n",
              "    };\n",
              "\n",
              "    function loadScript(lib) {\n",
              "      return new Promise(function(resolve, reject) {\n",
              "        var s = document.createElement('script');\n",
              "        s.src = paths[lib];\n",
              "        s.async = true;\n",
              "        s.onload = () => resolve(paths[lib]);\n",
              "        s.onerror = () => reject(`Error loading script: ${paths[lib]}`);\n",
              "        document.getElementsByTagName(\"head\")[0].appendChild(s);\n",
              "      });\n",
              "    }\n",
              "\n",
              "    function showError(err) {\n",
              "      outputDiv.innerHTML = `<div class=\"error\" style=\"color:red;\">${err}</div>`;\n",
              "      throw err;\n",
              "    }\n",
              "\n",
              "    function displayChart(vegaEmbed) {\n",
              "      vegaEmbed(outputDiv, spec, embedOpt)\n",
              "        .catch(err => showError(`Javascript Error: ${err.message}<br>This usually means there's a typo in your chart specification. See the javascript console for the full traceback.`));\n",
              "    }\n",
              "\n",
              "    if(typeof define === \"function\" && define.amd) {\n",
              "      requirejs.config({paths});\n",
              "      require([\"vega-embed\"], displayChart, err => showError(`Error loading script: ${err.message}`));\n",
              "    } else if (typeof vegaEmbed === \"function\") {\n",
              "      displayChart(vegaEmbed);\n",
              "    } else {\n",
              "      loadScript(\"vega\")\n",
              "        .then(() => loadScript(\"vega-lite\"))\n",
              "        .then(() => loadScript(\"vega-embed\"))\n",
              "        .catch(showError)\n",
              "        .then(() => displayChart(vegaEmbed));\n",
              "    }\n",
              "  })({\"config\": {\"view\": {\"continuousWidth\": 400, \"continuousHeight\": 300}}, \"layer\": [{\"mark\": {\"type\": \"bar\", \"color\": \"#222437\"}, \"encoding\": {\"x\": {\"type\": \"quantitative\", \"aggregate\": \"median\", \"axis\": {\"title\": \"Mediana da Popularidade\"}, \"field\": \"popularity\"}, \"y\": {\"type\": \"ordinal\", \"axis\": {\"title\": \"Single\"}, \"field\": \"album\", \"sort\": \"-x\"}}}, {\"mark\": {\"type\": \"text\", \"color\": \"white\", \"dx\": -15, \"dy\": 3}, \"encoding\": {\"text\": {\"type\": \"quantitative\", \"aggregate\": \"median\", \"field\": \"popularity\"}, \"x\": {\"type\": \"quantitative\", \"aggregate\": \"median\", \"axis\": {\"title\": \"Mediana da Popularidade\"}, \"field\": \"popularity\"}, \"y\": {\"type\": \"ordinal\", \"axis\": {\"title\": \"Single\"}, \"field\": \"album\", \"sort\": \"-x\"}}}], \"data\": {\"name\": \"data-5b637e72eb6866b5789bbc6b71c4b1f1\"}, \"$schema\": \"https://vega.github.io/schema/vega-lite/v4.8.1.json\", \"datasets\": {\"data-5b637e72eb6866b5789bbc6b71c4b1f1\": [{\"album\": \"Desafio\", \"album_type\": \"single\", \"popularity\": 52, \"duration_ms\": 116826}, {\"album\": \"Quase L\\u00e1 (feat. Sorriso Maroto)\", \"album_type\": \"single\", \"popularity\": 41, \"duration_ms\": 160661}, {\"album\": \"Melhor Que Nada\", \"album_type\": \"single\", \"popularity\": 54, \"duration_ms\": 195917}, {\"album\": \"N\\u00famero 1\", \"album_type\": \"single\", \"popularity\": 46, \"duration_ms\": 181963}, {\"album\": \"Sinal Vital\", \"album_type\": \"single\", \"popularity\": 63, \"duration_ms\": 148837}, {\"album\": \"Escondido dos seus Pais (Ao Vivo)\", \"album_type\": \"single\", \"popularity\": 51, \"duration_ms\": 170709}, {\"album\": \"Toda Hora \\u00e9 Hora\", \"album_type\": \"single\", \"popularity\": 43, \"duration_ms\": 139180}, {\"album\": \"O Imposs\\u00edvel\", \"album_type\": \"single\", \"popularity\": 59, \"duration_ms\": 177740}, {\"album\": \"De Volta Pro Amanh\\u00e3, Vol. 3 (Ao Vivo)\", \"album_type\": \"single\", \"popularity\": 30, \"duration_ms\": 237400}, {\"album\": \"De Volta Pro Amanh\\u00e3, Vol. 3 (Ao Vivo)\", \"album_type\": \"single\", \"popularity\": 27, \"duration_ms\": 107136}, {\"album\": \"De Volta Pro Amanh\\u00e3, Vol. 3 (Ao Vivo)\", \"album_type\": \"single\", \"popularity\": 30, \"duration_ms\": 325311}, {\"album\": \"De Volta Pro Amanh\\u00e3, Vol. 3 (Ao Vivo)\", \"album_type\": \"single\", \"popularity\": 46, \"duration_ms\": 364831}, {\"album\": \"De Volta Pro Amanh\\u00e3, Vol. 3 (Ao Vivo)\", \"album_type\": \"single\", \"popularity\": 28, \"duration_ms\": 373191}, {\"album\": \"De Volta Pro Amanh\\u00e3, Vol. 3 (Ao Vivo)\", \"album_type\": \"single\", \"popularity\": 27, \"duration_ms\": 279196}, {\"album\": \"Chave e Cadeado\", \"album_type\": \"single\", \"popularity\": 55, \"duration_ms\": 183344}, {\"album\": \"Anjos Guardi\\u00f5es de Amor (Ac\\u00fastico)\", \"album_type\": \"single\", \"popularity\": 41, \"duration_ms\": 245500}, {\"album\": \"Eu J\\u00e1 Te Quis um Dia (Ac\\u00fastico)\", \"album_type\": \"single\", \"popularity\": 41, \"duration_ms\": 201176}, {\"album\": \"Eu J\\u00e1 Te Quis um Dia (Voz e Viol\\u00e3o)\", \"album_type\": \"single\", \"popularity\": 19, \"duration_ms\": 184852}, {\"album\": \"Anjos Guardi\\u00f5es de Amor (Ao Vivo)\", \"album_type\": \"single\", \"popularity\": 17, \"duration_ms\": 203505}, {\"album\": \"Indiferen\\u00e7a (Ac\\u00fastico)\", \"album_type\": \"single\", \"popularity\": 47, \"duration_ms\": 237296}, {\"album\": \"Dependente (Ac\\u00fastico) - Single\", \"album_type\": \"single\", \"popularity\": 58, \"duration_ms\": 195242}, {\"album\": \"Dependente - Single\", \"album_type\": \"single\", \"popularity\": 26, \"duration_ms\": 223306}, {\"album\": \"Instigante - Single\", \"album_type\": \"single\", \"popularity\": 43, \"duration_ms\": 160437}, {\"album\": \"Guerra Fria (Remix Mister Jam) - Single\", \"album_type\": \"single\", \"popularity\": 11, \"duration_ms\": 243002}, {\"album\": \"Riscos e Certezas - Ep\", \"album_type\": \"single\", \"popularity\": 21, \"duration_ms\": 198720}, {\"album\": \"Riscos e Certezas - Ep\", \"album_type\": \"single\", \"popularity\": 50, \"duration_ms\": 175746}, {\"album\": \"Riscos e Certezas - Ep\", \"album_type\": \"single\", \"popularity\": 24, \"duration_ms\": 176760}, {\"album\": \"Riscos e Certezas - Ep\", \"album_type\": \"single\", \"popularity\": 26, \"duration_ms\": 204453}, {\"album\": \"Riscos e Certezas - Ep\", \"album_type\": \"single\", \"popularity\": 54, \"duration_ms\": 219893}, {\"album\": \"Riscos e Certezas - Ep\", \"album_type\": \"single\", \"popularity\": 21, \"duration_ms\": 162213}, {\"album\": \"Mais F\\u00e1cil (Easier) - Single\", \"album_type\": \"single\", \"popularity\": 11, \"duration_ms\": 176760}, {\"album\": \"Fofinha Del\\u00edcia (Excesso de Gostosura) - Single\", \"album_type\": \"single\", \"popularity\": 11, \"duration_ms\": 163786}, {\"album\": \"Sorriso Maroto - Remix\", \"album_type\": \"single\", \"popularity\": 6, \"duration_ms\": 206837}, {\"album\": \"Sorriso Maroto - Remix\", \"album_type\": \"single\", \"popularity\": 7, \"duration_ms\": 245932}, {\"album\": \"Sorriso Maroto - Remix\", \"album_type\": \"single\", \"popularity\": 7, \"duration_ms\": 229250}, {\"album\": \"Se Eu Te Pego, Te Envergo - Single\", \"album_type\": \"single\", \"popularity\": 23, \"duration_ms\": 215931}, {\"album\": \"Assim Voc\\u00ea Mata O Papai\", \"album_type\": \"single\", \"popularity\": 50, \"duration_ms\": 206000}, {\"album\": \"Sinais - N\\u00e3o Mere\\u00e7o Ser Amante- Single\", \"album_type\": \"single\", \"popularity\": 19, \"duration_ms\": 182326}, {\"album\": \"Por Voc\\u00ea Ao Vivo - M\\u00fasicas Extras do Dvd - Ep\", \"album_type\": \"single\", \"popularity\": 39, \"duration_ms\": 207509}, {\"album\": \"Por Voc\\u00ea Ao Vivo - M\\u00fasicas Extras do Dvd - Ep\", \"album_type\": \"single\", \"popularity\": 37, \"duration_ms\": 235269}, {\"album\": \"Por Voc\\u00ea Ao Vivo - M\\u00fasicas Extras do Dvd - Ep\", \"album_type\": \"single\", \"popularity\": 37, \"duration_ms\": 230308}, {\"album\": \"Por Voc\\u00ea Ao Vivo - M\\u00fasicas Extras do Dvd - Ep\", \"album_type\": \"single\", \"popularity\": 35, \"duration_ms\": 195613}, {\"album\": \"Por Voc\\u00ea Ao Vivo - M\\u00fasicas Extras do Dvd - Ep\", \"album_type\": \"single\", \"popularity\": 37, \"duration_ms\": 219777}, {\"album\": \"Por Voc\\u00ea Ao Vivo - M\\u00fasicas Extras do Dvd - Ep\", \"album_type\": \"single\", \"popularity\": 37, \"duration_ms\": 214047}, {\"album\": \"Por Voc\\u00ea Ao Vivo - M\\u00fasicas Extras do Dvd - Ep\", \"album_type\": \"single\", \"popularity\": 36, \"duration_ms\": 222928}, {\"album\": \"Por Voc\\u00ea Ao Vivo - M\\u00fasicas Extras do Dvd - Ep\", \"album_type\": \"single\", \"popularity\": 33, \"duration_ms\": 242753}, {\"album\": \"Na Cama (Live)\", \"album_type\": \"single\", \"popularity\": 13, \"duration_ms\": 222546}]}}, {\"mode\": \"vega-lite\"});\n",
              "</script>"
            ]
          },
          "metadata": {
            "tags": []
          },
          "execution_count": 153
        }
      ]
    },
    {
      "cell_type": "code",
      "metadata": {
        "id": "jlnPlSK1eso2",
        "outputId": "2d0a1eaa-c52e-4528-a441-f0e018b4a184",
        "colab": {
          "base_uri": "https://localhost:8080/",
          "height": 536
        }
      },
      "source": [
        "# linha do tempo de lançamentos\n",
        "data_time= pd.DataFrame(data, columns = ['name', 'album','album_type','release_date'])\n",
        "range_ = ['#222437', '#B183AE']\n",
        "alt.Chart(data_time).mark_circle(opacity = 1).encode(\n",
        "    y = alt.Y('release_date:T', axis = alt.Axis(title='Lançamento')),\n",
        "    x = alt.X('album:N', sort='y', axis = alt.Axis(title='Álbum')),\n",
        "    color = alt.Color('album_type', legend=alt.Legend(title=\"Tipo do álbum\"), scale=alt.Scale(range = range_)),\n",
        "    tooltip = ['album','album_type','release_date:T']\n",
        ")"
      ],
      "execution_count": null,
      "outputs": [
        {
          "output_type": "execute_result",
          "data": {
            "text/plain": [
              "alt.Chart(...)"
            ],
            "text/html": [
              "\n",
              "<div id=\"altair-viz-7f4d8aa9a4f6413985e723d6351862ee\"></div>\n",
              "<script type=\"text/javascript\">\n",
              "  (function(spec, embedOpt){\n",
              "    let outputDiv = document.currentScript.previousElementSibling;\n",
              "    if (outputDiv.id !== \"altair-viz-7f4d8aa9a4f6413985e723d6351862ee\") {\n",
              "      outputDiv = document.getElementById(\"altair-viz-7f4d8aa9a4f6413985e723d6351862ee\");\n",
              "    }\n",
              "    const paths = {\n",
              "      \"vega\": \"https://cdn.jsdelivr.net/npm//vega@5?noext\",\n",
              "      \"vega-lib\": \"https://cdn.jsdelivr.net/npm//vega-lib?noext\",\n",
              "      \"vega-lite\": \"https://cdn.jsdelivr.net/npm//vega-lite@4.8.1?noext\",\n",
              "      \"vega-embed\": \"https://cdn.jsdelivr.net/npm//vega-embed@6?noext\",\n",
              "    };\n",
              "\n",
              "    function loadScript(lib) {\n",
              "      return new Promise(function(resolve, reject) {\n",
              "        var s = document.createElement('script');\n",
              "        s.src = paths[lib];\n",
              "        s.async = true;\n",
              "        s.onload = () => resolve(paths[lib]);\n",
              "        s.onerror = () => reject(`Error loading script: ${paths[lib]}`);\n",
              "        document.getElementsByTagName(\"head\")[0].appendChild(s);\n",
              "      });\n",
              "    }\n",
              "\n",
              "    function showError(err) {\n",
              "      outputDiv.innerHTML = `<div class=\"error\" style=\"color:red;\">${err}</div>`;\n",
              "      throw err;\n",
              "    }\n",
              "\n",
              "    function displayChart(vegaEmbed) {\n",
              "      vegaEmbed(outputDiv, spec, embedOpt)\n",
              "        .catch(err => showError(`Javascript Error: ${err.message}<br>This usually means there's a typo in your chart specification. See the javascript console for the full traceback.`));\n",
              "    }\n",
              "\n",
              "    if(typeof define === \"function\" && define.amd) {\n",
              "      requirejs.config({paths});\n",
              "      require([\"vega-embed\"], displayChart, err => showError(`Error loading script: ${err.message}`));\n",
              "    } else if (typeof vegaEmbed === \"function\") {\n",
              "      displayChart(vegaEmbed);\n",
              "    } else {\n",
              "      loadScript(\"vega\")\n",
              "        .then(() => loadScript(\"vega-lite\"))\n",
              "        .then(() => loadScript(\"vega-embed\"))\n",
              "        .catch(showError)\n",
              "        .then(() => displayChart(vegaEmbed));\n",
              "    }\n",
              "  })({\"config\": {\"view\": {\"continuousWidth\": 400, \"continuousHeight\": 300}}, \"data\": {\"name\": \"data-768502537034aa16e5420c27d907f0e2\"}, \"mark\": {\"type\": \"circle\", \"opacity\": 1}, \"encoding\": {\"color\": {\"type\": \"nominal\", \"field\": \"album_type\", \"legend\": {\"title\": \"Tipo do \\u00e1lbum\"}, \"scale\": {\"range\": [\"#222437\", \"#B183AE\"]}}, \"tooltip\": [{\"type\": \"nominal\", \"field\": \"album\"}, {\"type\": \"nominal\", \"field\": \"album_type\"}, {\"type\": \"temporal\", \"field\": \"release_date\"}], \"x\": {\"type\": \"nominal\", \"axis\": {\"title\": \"\\u00c1lbum\"}, \"field\": \"album\", \"sort\": \"y\"}, \"y\": {\"type\": \"temporal\", \"axis\": {\"title\": \"Lan\\u00e7amento\"}, \"field\": \"release_date\"}}, \"$schema\": \"https://vega.github.io/schema/vega-lite/v4.8.1.json\", \"datasets\": {\"data-768502537034aa16e5420c27d907f0e2\": [{\"name\": \"Sinal Vital\", \"album\": \"Ensaio Aberto - AMA\", \"album_type\": \"album\", \"release_date\": \"2020-01-23\"}, {\"name\": \"Eu Topo\", \"album\": \"Ensaio Aberto - AMA\", \"album_type\": \"album\", \"release_date\": \"2020-01-23\"}, {\"name\": \"Cabelos, Brincos e Beijos\", \"album\": \"Ensaio Aberto - AMA\", \"album_type\": \"album\", \"release_date\": \"2020-01-23\"}, {\"name\": \"Proibido\", \"album\": \"Ensaio Aberto - AMA\", \"album_type\": \"album\", \"release_date\": \"2020-01-23\"}, {\"name\": \"Nosso Flow\", \"album\": \"Ensaio Aberto - AMA\", \"album_type\": \"album\", \"release_date\": \"2020-01-23\"}, {\"name\": \"Antes Que o Mundo Acabe\", \"album\": \"Ensaio Aberto - AMA\", \"album_type\": \"album\", \"release_date\": \"2020-01-23\"}, {\"name\": \"Mal Entendido\", \"album\": \"Ensaio Aberto - AMA\", \"album_type\": \"album\", \"release_date\": \"2020-01-23\"}, {\"name\": \"Vai Me Esquecer Tamb\\u00e9m\", \"album\": \"Ensaio Aberto - AMA\", \"album_type\": \"album\", \"release_date\": \"2020-01-23\"}, {\"name\": \"Outros Ideais - Ao Vivo\", \"album\": \"Ao Cubo, Ao Vivo, Em Cores\", \"album_type\": \"album\", \"release_date\": \"2019-03-29\"}, {\"name\": \"Teoria e Pr\\u00e1tica - Ao Vivo\", \"album\": \"Ao Cubo, Ao Vivo, Em Cores\", \"album_type\": \"album\", \"release_date\": \"2019-03-29\"}, {\"name\": \"Reprise - Ao Vivo\", \"album\": \"Ao Cubo, Ao Vivo, Em Cores\", \"album_type\": \"album\", \"release_date\": \"2019-03-29\"}, {\"name\": \"Ru\\u00ednas - Ao Vivo\", \"album\": \"Ao Cubo, Ao Vivo, Em Cores\", \"album_type\": \"album\", \"release_date\": \"2019-03-29\"}, {\"name\": \"50 Vezes - Ao Vivo\", \"album\": \"Ao Cubo, Ao Vivo, Em Cores\", \"album_type\": \"album\", \"release_date\": \"2019-03-29\"}, {\"name\": \"Escondido dos seus Pais - Ao Vivo\", \"album\": \"Ao Cubo, Ao Vivo, Em Cores\", \"album_type\": \"album\", \"release_date\": \"2019-03-29\"}, {\"name\": \"Me Arrependi - Ao Vivo\", \"album\": \"Ao Cubo, Ao Vivo, Em Cores\", \"album_type\": \"album\", \"release_date\": \"2019-03-29\"}, {\"name\": \"Rolo Compressor - Ao Vivo\", \"album\": \"Ao Cubo, Ao Vivo, Em Cores\", \"album_type\": \"album\", \"release_date\": \"2019-03-29\"}, {\"name\": \"Entre V\\u00e3os - Ao Vivo\", \"album\": \"Ao Cubo, Ao Vivo, Em Cores\", \"album_type\": \"album\", \"release_date\": \"2019-03-29\"}, {\"name\": \"Maior Barato - Ao Vivo\", \"album\": \"Ao Cubo, Ao Vivo, Em Cores\", \"album_type\": \"album\", \"release_date\": \"2019-03-29\"}, {\"name\": \"N\\u00e3o Vale Nada - Ao Vivo\", \"album\": \"Ao Cubo, Ao Vivo, Em Cores\", \"album_type\": \"album\", \"release_date\": \"2019-03-29\"}, {\"name\": \"Pot-Pourri: Amanh\\u00e3 / O Que Tinha Que Dar - Ao Vivo\", \"album\": \"De Volta Pro Amanh\\u00e3, Vol. 2 (Ao Vivo)\", \"album_type\": \"album\", \"release_date\": \"2018-01-26\"}, {\"name\": \"Pot-Pourri: Clich\\u00ea / Sinais / Mais F\\u00e1cil - Ao Vivo\", \"album\": \"De Volta Pro Amanh\\u00e3, Vol. 2 (Ao Vivo)\", \"album_type\": \"album\", \"release_date\": \"2018-01-26\"}, {\"name\": \"Pot-Pourri: Eu Vacilei / Preciso Viver / Nada de Pensar Em Despedida - Ao Vivo\", \"album\": \"De Volta Pro Amanh\\u00e3, Vol. 2 (Ao Vivo)\", \"album_type\": \"album\", \"release_date\": \"2018-01-26\"}, {\"name\": \"Pot-Pourri: Curtindo a Vida / Deixa Acontecer / Ta Louco Hein - Ao Vivo\", \"album\": \"De Volta Pro Amanh\\u00e3, Vol. 2 (Ao Vivo)\", \"album_type\": \"album\", \"release_date\": \"2018-01-26\"}, {\"name\": \"Pot-Pourri: Pra Mim N\\u00e3o \\u00c9 / Se Eu Te Pego Te Envergo / Instigante - Ao Vivo\", \"album\": \"De Volta Pro Amanh\\u00e3, Vol. 2 (Ao Vivo)\", \"album_type\": \"album\", \"release_date\": \"2018-01-26\"}, {\"name\": \"Assim Voc\\u00ea Mata o Papai - Ao Vivo\", \"album\": \"De Volta Pro Amanh\\u00e3, Vol. 2 (Ao Vivo)\", \"album_type\": \"album\", \"release_date\": \"2018-01-26\"}, {\"name\": \"Coincid\\u00eancia N\\u00e3o Existe - Ao Vivo\", \"album\": \"De Volta Pro Amanh\\u00e3, Vol. 2 (Ao Vivo)\", \"album_type\": \"album\", \"release_date\": \"2018-01-26\"}, {\"name\": \"Pot-Pourri: T\\u00e1 Bom, Aham / \\u00c9 N\\u00f3is Faze Parapap\\u00e1 / A Galera - Ao Vivo\", \"album\": \"De Volta Pro Amanh\\u00e3, Vol. 2 (Ao Vivo)\", \"album_type\": \"album\", \"release_date\": \"2018-01-26\"}, {\"name\": \"Vai e Chora / Eu J\\u00e1 Te Quis um Dia / Pra Voc\\u00ea Escutar - Ao Vivo\", \"album\": \"De Volta Pro Amanh\\u00e3, Vol. 1 (Ao Vivo)\", \"album_type\": \"album\", \"release_date\": \"2017-12-15\"}, {\"name\": \"Lua de Mel / Brigas por Nada / 1 Metro e 65 - Ao Vivo\", \"album\": \"De Volta Pro Amanh\\u00e3, Vol. 1 (Ao Vivo)\", \"album_type\": \"album\", \"release_date\": \"2017-12-15\"}, {\"name\": \"Anjos Guardi\\u00f5es de Amor - Ao Vivo\", \"album\": \"De Volta Pro Amanh\\u00e3, Vol. 1 (Ao Vivo)\", \"album_type\": \"album\", \"release_date\": \"2017-12-15\"}, {\"name\": \"Pr\\u00e9dios Vazios - Ao Vivo\", \"album\": \"De Volta Pro Amanh\\u00e3, Vol. 1 (Ao Vivo)\", \"album_type\": \"album\", \"release_date\": \"2017-12-15\"}, {\"name\": \"Indiferen\\u00e7a - Ao Vivo\", \"album\": \"De Volta Pro Amanh\\u00e3, Vol. 1 (Ao Vivo)\", \"album_type\": \"album\", \"release_date\": \"2017-12-15\"}, {\"name\": \"Guerra Fria / Adeus - Ao Vivo\", \"album\": \"De Volta Pro Amanh\\u00e3, Vol. 1 (Ao Vivo)\", \"album_type\": \"album\", \"release_date\": \"2017-12-15\"}, {\"name\": \"Tudo Tem Sa\\u00edda / Na Cama / Nosso Bonde \\u00c9 Terr\\u00edvel - Ao Vivo\", \"album\": \"De Volta Pro Amanh\\u00e3, Vol. 1 (Ao Vivo)\", \"album_type\": \"album\", \"release_date\": \"2017-12-15\"}, {\"name\": \"Soltinha - Ao Vivo\", \"album\": \"De Volta Pro Amanh\\u00e3, Vol. 1 (Ao Vivo)\", \"album_type\": \"album\", \"release_date\": \"2017-12-15\"}, {\"name\": \"Insensato Destino / Conselho / O Show Tem Que Continuar - Ao Vivo\", \"album\": \"De Volta Pro Amanh\\u00e3, Vol. 1 (Ao Vivo)\", \"album_type\": \"album\", \"release_date\": \"2017-12-15\"}, {\"name\": \"Dependente - Ao Vivo\", \"album\": \"De Volta Pro Amanh\\u00e3, Vol. 1 (Ao Vivo)\", \"album_type\": \"album\", \"release_date\": \"2017-12-15\"}, {\"name\": \"Anjos Guardi\\u00f5es de Amor\", \"album\": \"De Volta Pro Amanh\\u00e3 (Deluxe)\", \"album_type\": \"album\", \"release_date\": \"2016-06-10\"}, {\"name\": \"Dependente\", \"album\": \"De Volta Pro Amanh\\u00e3 (Deluxe)\", \"album_type\": \"album\", \"release_date\": \"2016-06-10\"}, {\"name\": \"Eu J\\u00e1 Te Quis um Dia\", \"album\": \"De Volta Pro Amanh\\u00e3 (Deluxe)\", \"album_type\": \"album\", \"release_date\": \"2016-06-10\"}, {\"name\": \"O Nosso Bonde \\u00c9 Terr\\u00edvel\", \"album\": \"De Volta Pro Amanh\\u00e3 (Deluxe)\", \"album_type\": \"album\", \"release_date\": \"2016-06-10\"}, {\"name\": \"Coincid\\u00eancia N\\u00e3o Existe\", \"album\": \"De Volta Pro Amanh\\u00e3 (Deluxe)\", \"album_type\": \"album\", \"release_date\": \"2016-06-10\"}, {\"name\": \"Maluquices\", \"album\": \"De Volta Pro Amanh\\u00e3 (Deluxe)\", \"album_type\": \"album\", \"release_date\": \"2016-06-10\"}, {\"name\": \"Indiferen\\u00e7a\", \"album\": \"De Volta Pro Amanh\\u00e3 (Deluxe)\", \"album_type\": \"album\", \"release_date\": \"2016-06-10\"}, {\"name\": \"Duas Passagens\", \"album\": \"De Volta Pro Amanh\\u00e3 (Deluxe)\", \"album_type\": \"album\", \"release_date\": \"2016-06-10\"}, {\"name\": \"Pr\\u00e9dios Vazios\", \"album\": \"De Volta Pro Amanh\\u00e3 (Deluxe)\", \"album_type\": \"album\", \"release_date\": \"2016-06-10\"}, {\"name\": \"Positividade\", \"album\": \"De Volta Pro Amanh\\u00e3 (Deluxe)\", \"album_type\": \"album\", \"release_date\": \"2016-06-10\"}, {\"name\": \"Conversinha Paralela\", \"album\": \"De Volta Pro Amanh\\u00e3 (Deluxe)\", \"album_type\": \"album\", \"release_date\": \"2016-06-10\"}, {\"name\": \"Soltinha\", \"album\": \"De Volta Pro Amanh\\u00e3 (Deluxe)\", \"album_type\": \"album\", \"release_date\": \"2016-06-10\"}, {\"name\": \"Mar\\u00e7o 2016\", \"album\": \"De Volta Pro Amanh\\u00e3 (Deluxe)\", \"album_type\": \"album\", \"release_date\": \"2016-06-10\"}, {\"name\": \"Adeus\", \"album\": \"De Volta Pro Amanh\\u00e3 (Deluxe)\", \"album_type\": \"album\", \"release_date\": \"2016-06-10\"}, {\"name\": \"Se o Seu Amor Fosse por Mim\", \"album\": \"De Volta Pro Amanh\\u00e3 (Deluxe)\", \"album_type\": \"album\", \"release_date\": \"2016-06-10\"}, {\"name\": \"Ela N\\u00e3o \\u00c9 Voc\\u00ea\", \"album\": \"De Volta Pro Amanh\\u00e3 (Deluxe)\", \"album_type\": \"album\", \"release_date\": \"2016-06-10\"}, {\"name\": \"Ningu\\u00e9m Foi Melhor Que Voc\\u00ea\", \"album\": \"De Volta Pro Amanh\\u00e3 (Deluxe)\", \"album_type\": \"album\", \"release_date\": \"2016-06-10\"}, {\"name\": \"Anjos Guardi\\u00f5es de Amor\", \"album\": \"De Volta Pro Amanh\\u00e3\", \"album_type\": \"album\", \"release_date\": \"2016-06-03\"}, {\"name\": \"Dependente\", \"album\": \"De Volta Pro Amanh\\u00e3\", \"album_type\": \"album\", \"release_date\": \"2016-06-03\"}, {\"name\": \"Eu J\\u00e1 Te Quis um Dia\", \"album\": \"De Volta Pro Amanh\\u00e3\", \"album_type\": \"album\", \"release_date\": \"2016-06-03\"}, {\"name\": \"O Nosso Bonde \\u00c9 Terr\\u00edvel\", \"album\": \"De Volta Pro Amanh\\u00e3\", \"album_type\": \"album\", \"release_date\": \"2016-06-03\"}, {\"name\": \"Coincid\\u00eancia N\\u00e3o Existe\", \"album\": \"De Volta Pro Amanh\\u00e3\", \"album_type\": \"album\", \"release_date\": \"2016-06-03\"}, {\"name\": \"Maluquices\", \"album\": \"De Volta Pro Amanh\\u00e3\", \"album_type\": \"album\", \"release_date\": \"2016-06-03\"}, {\"name\": \"Indiferen\\u00e7a\", \"album\": \"De Volta Pro Amanh\\u00e3\", \"album_type\": \"album\", \"release_date\": \"2016-06-03\"}, {\"name\": \"Duas Passagens\", \"album\": \"De Volta Pro Amanh\\u00e3\", \"album_type\": \"album\", \"release_date\": \"2016-06-03\"}, {\"name\": \"Pr\\u00e9dios Vazios\", \"album\": \"De Volta Pro Amanh\\u00e3\", \"album_type\": \"album\", \"release_date\": \"2016-06-03\"}, {\"name\": \"Positividade\", \"album\": \"De Volta Pro Amanh\\u00e3\", \"album_type\": \"album\", \"release_date\": \"2016-06-03\"}, {\"name\": \"Conversinha Paralela\", \"album\": \"De Volta Pro Amanh\\u00e3\", \"album_type\": \"album\", \"release_date\": \"2016-06-03\"}, {\"name\": \"Soltinha\", \"album\": \"De Volta Pro Amanh\\u00e3\", \"album_type\": \"album\", \"release_date\": \"2016-06-03\"}, {\"name\": \"Mar\\u00e7o 2016\", \"album\": \"De Volta Pro Amanh\\u00e3\", \"album_type\": \"album\", \"release_date\": \"2016-06-03\"}, {\"name\": \"Adeus\", \"album\": \"De Volta Pro Amanh\\u00e3\", \"album_type\": \"album\", \"release_date\": \"2016-06-03\"}, {\"name\": \"Pra Voc\\u00ea Escutar\", \"album\": \"Sorriso Eu Gosto Ao Vivo No Maracan\\u00e3zinho - Vol. 2\", \"album_type\": \"album\", \"release_date\": \"2015-03-30\"}, {\"name\": \"T\\u00e1 Bom, Aham\", \"album\": \"Sorriso Eu Gosto Ao Vivo No Maracan\\u00e3zinho - Vol. 2\", \"album_type\": \"album\", \"release_date\": \"2015-03-30\"}, {\"name\": \"A\\u00ed Que Eu Gosto e Vou Pra Cima\", \"album\": \"Sorriso Eu Gosto Ao Vivo No Maracan\\u00e3zinho - Vol. 2\", \"album_type\": \"album\", \"release_date\": \"2015-03-30\"}, {\"name\": \"Pot-Pourri: Amanh\\u00e3 / O Que Tinha Que Dar\", \"album\": \"Sorriso Eu Gosto Ao Vivo No Maracan\\u00e3zinho - Vol. 2\", \"album_type\": \"album\", \"release_date\": \"2015-03-30\"}, {\"name\": \"Pot-Pourri: O Melhor Peda\\u00e7o / Brigas por Nada\", \"album\": \"Sorriso Eu Gosto Ao Vivo No Maracan\\u00e3zinho - Vol. 2\", \"album_type\": \"album\", \"release_date\": \"2015-03-30\"}, {\"name\": \"Clich\\u00ea\", \"album\": \"Sorriso Eu Gosto Ao Vivo No Maracan\\u00e3zinho - Vol. 2\", \"album_type\": \"album\", \"release_date\": \"2015-03-30\"}, {\"name\": \"Sinais\", \"album\": \"Sorriso Eu Gosto Ao Vivo No Maracan\\u00e3zinho - Vol. 2\", \"album_type\": \"album\", \"release_date\": \"2015-03-30\"}, {\"name\": \"Pot-Pourri: Assim Voc\\u00ea Mata o Papai / Fofinha Del\\u00edcia (Excesso de Gostosura)\", \"album\": \"Sorriso Eu Gosto Ao Vivo No Maracan\\u00e3zinho - Vol. 2\", \"album_type\": \"album\", \"release_date\": \"2015-03-30\"}, {\"name\": \"\\u00c9 N\\u00f3is Faz\\u00ea Parapap\\u00e1\", \"album\": \"Sorriso Eu Gosto Ao Vivo No Maracan\\u00e3zinho - Vol. 2\", \"album_type\": \"album\", \"release_date\": \"2015-03-30\"}, {\"name\": \"Pot-Pourri: Na Cama / Pra Mim N\\u00e3o \\u00c9\", \"album\": \"Sorriso Eu Gosto Ao Vivo No Maracan\\u00e3zinho - Vol. 2\", \"album_type\": \"album\", \"release_date\": \"2015-03-30\"}, {\"name\": \"Pot-Pourri: Se Eu Te Pego, Te Envergo / Coisa Louca\", \"album\": \"Sorriso Eu Gosto Ao Vivo No Maracan\\u00e3zinho - Vol. 2\", \"album_type\": \"album\", \"release_date\": \"2015-03-30\"}, {\"name\": \"Mais F\\u00e1cil (Easier)\", \"album\": \"Sorriso Eu Gosto Ao Vivo No Maracan\\u00e3zinho - Vol. 2\", \"album_type\": \"album\", \"release_date\": \"2015-03-30\"}, {\"name\": \"Guerra Fria\", \"album\": \"Sorriso Eu Gosto Ao Vivo No Maracan\\u00e3zinho - Vol. 2\", \"album_type\": \"album\", \"release_date\": \"2015-03-30\"}, {\"name\": \"Vai e Chora\", \"album\": \"Sorriso Eu Gosto Ao Vivo No Maracan\\u00e3zinho - Vol. 2\", \"album_type\": \"album\", \"release_date\": \"2015-03-30\"}, {\"name\": \"Instigante - Ao Vivo\", \"album\": \"Sorriso Eu Gosto Ao Vivo No Maracan\\u00e3zinho\", \"album_type\": \"album\", \"release_date\": \"2014-11-24\"}, {\"name\": \"Conselho de Amigo - Ao Vivo\", \"album\": \"Sorriso Eu Gosto Ao Vivo No Maracan\\u00e3zinho\", \"album_type\": \"album\", \"release_date\": \"2014-11-24\"}, {\"name\": \"1 Metro e 65 - Ao Vivo\", \"album\": \"Sorriso Eu Gosto Ao Vivo No Maracan\\u00e3zinho\", \"album_type\": \"album\", \"release_date\": \"2014-11-24\"}, {\"name\": \"Lua de Mel - Ao Vivo\", \"album\": \"Sorriso Eu Gosto Ao Vivo No Maracan\\u00e3zinho\", \"album_type\": \"album\", \"release_date\": \"2014-11-24\"}, {\"name\": \"Por Mim, Por N\\u00f3s - Ao Vivo\", \"album\": \"Sorriso Eu Gosto Ao Vivo No Maracan\\u00e3zinho\", \"album_type\": \"album\", \"release_date\": \"2014-11-24\"}, {\"name\": \"Suas Mentiras - Ao Vivo\", \"album\": \"Sorriso Eu Gosto Ao Vivo No Maracan\\u00e3zinho\", \"album_type\": \"album\", \"release_date\": \"2014-11-24\"}, {\"name\": \"Areia Em Minhas M\\u00e3os - Ao Vivo\", \"album\": \"Sorriso Eu Gosto Ao Vivo No Maracan\\u00e3zinho\", \"album_type\": \"album\", \"release_date\": \"2014-11-24\"}, {\"name\": \"Na Maldade - Ao Vivo\", \"album\": \"Sorriso Eu Gosto Ao Vivo No Maracan\\u00e3zinho\", \"album_type\": \"album\", \"release_date\": \"2014-11-24\"}, {\"name\": \"T\\u00e1 Me Dando Mole - Ao Vivo\", \"album\": \"Sorriso Eu Gosto Ao Vivo No Maracan\\u00e3zinho\", \"album_type\": \"album\", \"release_date\": \"2014-11-24\"}, {\"name\": \"Para - Ao Vivo\", \"album\": \"Sorriso Eu Gosto Ao Vivo No Maracan\\u00e3zinho\", \"album_type\": \"album\", \"release_date\": \"2014-11-24\"}, {\"name\": \"Tudo Tem Sa\\u00edda - Ao Vivo\", \"album\": \"Sorriso Eu Gosto Ao Vivo No Maracan\\u00e3zinho\", \"album_type\": \"album\", \"release_date\": \"2014-11-24\"}, {\"name\": \"A Galera - Ao Vivo\", \"album\": \"Sorriso Eu Gosto Ao Vivo No Maracan\\u00e3zinho\", \"album_type\": \"album\", \"release_date\": \"2014-11-24\"}, {\"name\": \"Pra Mim N\\u00e3o \\u00c9\", \"album\": \"Fundamental - Sorriso Maroto 2\", \"album_type\": \"album\", \"release_date\": \"2013\"}, {\"name\": \"Futuro Prometido\", \"album\": \"Fundamental - Sorriso Maroto 2\", \"album_type\": \"album\", \"release_date\": \"2013\"}, {\"name\": \"Cora\\u00e7\\u00e3o Deserto\", \"album\": \"Fundamental - Sorriso Maroto 2\", \"album_type\": \"album\", \"release_date\": \"2013\"}, {\"name\": \"Me Espera\", \"album\": \"Fundamental - Sorriso Maroto 2\", \"album_type\": \"album\", \"release_date\": \"2013\"}, {\"name\": \"Eu Vacilei\", \"album\": \"Fundamental - Sorriso Maroto 2\", \"album_type\": \"album\", \"release_date\": \"2013\"}, {\"name\": \"Preciso Viver\", \"album\": \"Fundamental - Sorriso Maroto 2\", \"album_type\": \"album\", \"release_date\": \"2013\"}, {\"name\": \"Amanh\\u00e3\", \"album\": \"Fundamental - Sorriso Maroto 2\", \"album_type\": \"album\", \"release_date\": \"2013\"}, {\"name\": \"Faz Assim\", \"album\": \"Fundamental - Sorriso Maroto 2\", \"album_type\": \"album\", \"release_date\": \"2013\"}, {\"name\": \"N\\u00e3o Tem Perd\\u00e3o\", \"album\": \"Fundamental - Sorriso Maroto 2\", \"album_type\": \"album\", \"release_date\": \"2013\"}, {\"name\": \"Fica Combinado Assim\", \"album\": \"Fundamental - Sorriso Maroto 2\", \"album_type\": \"album\", \"release_date\": \"2013\"}, {\"name\": \"J\\u00e1 Era\", \"album\": \"Fundamental - Sorriso Maroto 2\", \"album_type\": \"album\", \"release_date\": \"2013\"}, {\"name\": \"Estrela Maior\", \"album\": \"Fundamental - Sorriso Maroto 2\", \"album_type\": \"album\", \"release_date\": \"2013\"}, {\"name\": \"Olha Nos Olhos\", \"album\": \"Fundamental - Sorriso Maroto 2\", \"album_type\": \"album\", \"release_date\": \"2013\"}, {\"name\": \"Por Voc\\u00ea\", \"album\": \"Fundamental - Sorriso Maroto 2\", \"album_type\": \"album\", \"release_date\": \"2013\"}, {\"name\": \"Nada de Pensar Em Despedida\", \"album\": \"Fundamental - Sorriso Maroto Vol.1\", \"album_type\": \"album\", \"release_date\": \"2013\"}, {\"name\": \"Sinais\", \"album\": \"Fundamental - Sorriso Maroto Vol.1\", \"album_type\": \"album\", \"release_date\": \"2013\"}, {\"name\": \"Em Suas M\\u00e3os\", \"album\": \"Fundamental - Sorriso Maroto Vol.1\", \"album_type\": \"album\", \"release_date\": \"2013\"}, {\"name\": \"Ainda Existe Amor Em N\\u00f3s\", \"album\": \"Fundamental - Sorriso Maroto Vol.1\", \"album_type\": \"album\", \"release_date\": \"2013\"}, {\"name\": \"Por Voc\\u00ea\", \"album\": \"Fundamental - Sorriso Maroto Vol.1\", \"album_type\": \"album\", \"release_date\": \"2013\"}, {\"name\": \"Ainda Gosto de Voc\\u00ea\", \"album\": \"Fundamental - Sorriso Maroto Vol.1\", \"album_type\": \"album\", \"release_date\": \"2013\"}, {\"name\": \"E Agora N\\u00f3s\", \"album\": \"Fundamental - Sorriso Maroto Vol.1\", \"album_type\": \"album\", \"release_date\": \"2013\"}, {\"name\": \"O Que Tinha Que Dar\", \"album\": \"Fundamental - Sorriso Maroto Vol.1\", \"album_type\": \"album\", \"release_date\": \"2013\"}, {\"name\": \"Disfar\\u00e7a\", \"album\": \"Fundamental - Sorriso Maroto Vol.1\", \"album_type\": \"album\", \"release_date\": \"2013\"}, {\"name\": \"Tenho Medo\", \"album\": \"Fundamental - Sorriso Maroto Vol.1\", \"album_type\": \"album\", \"release_date\": \"2013\"}, {\"name\": \"Promessas\", \"album\": \"Fundamental - Sorriso Maroto Vol.1\", \"album_type\": \"album\", \"release_date\": \"2013\"}, {\"name\": \"A Primeira Namorada\", \"album\": \"Fundamental - Sorriso Maroto Vol.1\", \"album_type\": \"album\", \"release_date\": \"2013\"}, {\"name\": \"\\u00c9 Diferente\", \"album\": \"Fundamental - Sorriso Maroto Vol.1\", \"album_type\": \"album\", \"release_date\": \"2013\"}, {\"name\": \"Futuro Prometido\", \"album\": \"Fundamental - Sorriso Maroto Vol.1\", \"album_type\": \"album\", \"release_date\": \"2013\"}, {\"name\": \"Futuro Prometido\", \"album\": \"100% Sorriso Maroto\", \"album_type\": \"album\", \"release_date\": \"2012-12-11\"}, {\"name\": \"Me Espera\", \"album\": \"100% Sorriso Maroto\", \"album_type\": \"album\", \"release_date\": \"2012-12-11\"}, {\"name\": \"Eu Vacilei\", \"album\": \"100% Sorriso Maroto\", \"album_type\": \"album\", \"release_date\": \"2012-12-11\"}, {\"name\": \"Me Olha Nos Olhos\", \"album\": \"100% Sorriso Maroto\", \"album_type\": \"album\", \"release_date\": \"2012-12-11\"}, {\"name\": \"Faz Assim\", \"album\": \"100% Sorriso Maroto\", \"album_type\": \"album\", \"release_date\": \"2012-12-11\"}, {\"name\": \"Fica Combinado Assim\", \"album\": \"100% Sorriso Maroto\", \"album_type\": \"album\", \"release_date\": \"2012-12-11\"}, {\"name\": \"Nada de Pensar Em Despedida\", \"album\": \"100% Sorriso Maroto\", \"album_type\": \"album\", \"release_date\": \"2012-12-11\"}, {\"name\": \"Cora\\u00e7\\u00e3o Deserto\", \"album\": \"100% Sorriso Maroto\", \"album_type\": \"album\", \"release_date\": \"2012-12-11\"}, {\"name\": \"O Que Tinha Que Dar\", \"album\": \"100% Sorriso Maroto\", \"album_type\": \"album\", \"release_date\": \"2012-12-11\"}, {\"name\": \"Tenho Medo\", \"album\": \"100% Sorriso Maroto\", \"album_type\": \"album\", \"release_date\": \"2012-12-11\"}, {\"name\": \"\\u00c9 Diferente\", \"album\": \"100% Sorriso Maroto\", \"album_type\": \"album\", \"release_date\": \"2012-12-11\"}, {\"name\": \"Em Suas M\\u00e3os\", \"album\": \"100% Sorriso Maroto\", \"album_type\": \"album\", \"release_date\": \"2012-12-11\"}, {\"name\": \"Por Voc\\u00ea\", \"album\": \"100% Sorriso Maroto\", \"album_type\": \"album\", \"release_date\": \"2012-12-11\"}, {\"name\": \"N\\u00e3o Tem Perd\\u00e3o\", \"album\": \"100% Sorriso Maroto\", \"album_type\": \"album\", \"release_date\": \"2012-12-11\"}, {\"name\": \"Amanh\\u00e3\", \"album\": \"100% Sorriso Maroto\", \"album_type\": \"album\", \"release_date\": \"2012-12-11\"}, {\"name\": \"Assim Voc\\u00ea Mata o Papai - Ao Vivo\", \"album\": \"Sorriso 15 Anos (Ao Vivo) - Edi\\u00e7\\u00e3o B\\u00f4nus\", \"album_type\": \"album\", \"release_date\": \"2012-07-10\"}, {\"name\": \"Se Eu Te Pego Te Envergo - Ao Vivo\", \"album\": \"Sorriso 15 Anos (Ao Vivo) - Edi\\u00e7\\u00e3o B\\u00f4nus\", \"album_type\": \"album\", \"release_date\": \"2012-07-10\"}, {\"name\": \"Vai e Chora - Ao Vivo\", \"album\": \"Sorriso 15 Anos (Ao Vivo) - Edi\\u00e7\\u00e3o B\\u00f4nus\", \"album_type\": \"album\", \"release_date\": \"2012-07-10\"}, {\"name\": \"Ela - Ao Vivo\", \"album\": \"Sorriso 15 Anos (Ao Vivo) - Edi\\u00e7\\u00e3o B\\u00f4nus\", \"album_type\": \"album\", \"release_date\": \"2012-07-10\"}, {\"name\": \"O Melhor Peda\\u00e7o - Ao Vivo\", \"album\": \"Sorriso 15 Anos (Ao Vivo) - Edi\\u00e7\\u00e3o B\\u00f4nus\", \"album_type\": \"album\", \"release_date\": \"2012-07-10\"}, {\"name\": \"Relaxa - Ao Vivo\", \"album\": \"Sorriso 15 Anos (Ao Vivo) - Edi\\u00e7\\u00e3o B\\u00f4nus\", \"album_type\": \"album\", \"release_date\": \"2012-07-10\"}, {\"name\": \"Coisa Louca - Ao Vivo\", \"album\": \"Sorriso 15 Anos (Ao Vivo) - Edi\\u00e7\\u00e3o B\\u00f4nus\", \"album_type\": \"album\", \"release_date\": \"2012-07-10\"}, {\"name\": \"5 Estrelas - Ao Vivo\", \"album\": \"Sorriso 15 Anos (Ao Vivo) - Edi\\u00e7\\u00e3o B\\u00f4nus\", \"album_type\": \"album\", \"release_date\": \"2012-07-10\"}, {\"name\": \"P\\u00f4r do Sol - Ao Vivo\", \"album\": \"Sorriso 15 Anos (Ao Vivo) - Edi\\u00e7\\u00e3o B\\u00f4nus\", \"album_type\": \"album\", \"release_date\": \"2012-07-10\"}, {\"name\": \"Brigas por Nada - Ao Vivo\", \"album\": \"Sorriso 15 Anos (Ao Vivo) - Edi\\u00e7\\u00e3o B\\u00f4nus\", \"album_type\": \"album\", \"release_date\": \"2012-07-10\"}, {\"name\": \"Vacila\\u00e7\\u00e3o Acontece - Ao Vivo\", \"album\": \"Sorriso 15 Anos (Ao Vivo) - Edi\\u00e7\\u00e3o B\\u00f4nus\", \"album_type\": \"album\", \"release_date\": \"2012-07-10\"}, {\"name\": \"Perdas e Danos - Ao Vivo\", \"album\": \"Sorriso 15 Anos (Ao Vivo) - Edi\\u00e7\\u00e3o B\\u00f4nus\", \"album_type\": \"album\", \"release_date\": \"2012-07-10\"}, {\"name\": \"Fura Olho - Ao Vivo\", \"album\": \"Sorriso 15 Anos (Ao Vivo) - Edi\\u00e7\\u00e3o B\\u00f4nus\", \"album_type\": \"album\", \"release_date\": \"2012-07-10\"}, {\"name\": \"Safadiar - Ao Vivo\", \"album\": \"Sorriso 15 Anos (Ao Vivo) - Edi\\u00e7\\u00e3o B\\u00f4nus\", \"album_type\": \"album\", \"release_date\": \"2012-07-10\"}, {\"name\": \"Assim Voc\\u00ea Mata o Papai - Remix | Faixa B\\u00f4nus\", \"album\": \"Sorriso 15 Anos (Ao Vivo) - Edi\\u00e7\\u00e3o B\\u00f4nus\", \"album_type\": \"album\", \"release_date\": \"2012-07-10\"}, {\"name\": \"Assim Voc\\u00ea Mata o Papai - Ao Vivo\", \"album\": \"Sorriso 15 Anos - Ao Vivo\", \"album_type\": \"album\", \"release_date\": \"2012-07-10\"}, {\"name\": \"Se Eu Te Pego Te Envergo - Ao Vivo\", \"album\": \"Sorriso 15 Anos - Ao Vivo\", \"album_type\": \"album\", \"release_date\": \"2012-07-10\"}, {\"name\": \"Vai e Chora - Ao Vivo\", \"album\": \"Sorriso 15 Anos - Ao Vivo\", \"album_type\": \"album\", \"release_date\": \"2012-07-10\"}, {\"name\": \"Ela - Ao Vivo\", \"album\": \"Sorriso 15 Anos - Ao Vivo\", \"album_type\": \"album\", \"release_date\": \"2012-07-10\"}, {\"name\": \"O Melhor Peda\\u00e7o - Ao Vivo\", \"album\": \"Sorriso 15 Anos - Ao Vivo\", \"album_type\": \"album\", \"release_date\": \"2012-07-10\"}, {\"name\": \"Relaxa - Ao Vivo\", \"album\": \"Sorriso 15 Anos - Ao Vivo\", \"album_type\": \"album\", \"release_date\": \"2012-07-10\"}, {\"name\": \"Coisa Louca - Ao Vivo\", \"album\": \"Sorriso 15 Anos - Ao Vivo\", \"album_type\": \"album\", \"release_date\": \"2012-07-10\"}, {\"name\": \"5 Estrelas - Ao Vivo\", \"album\": \"Sorriso 15 Anos - Ao Vivo\", \"album_type\": \"album\", \"release_date\": \"2012-07-10\"}, {\"name\": \"P\\u00f4r do Sol - Ao Vivo\", \"album\": \"Sorriso 15 Anos - Ao Vivo\", \"album_type\": \"album\", \"release_date\": \"2012-07-10\"}, {\"name\": \"Brigas por Nada - Ao Vivo\", \"album\": \"Sorriso 15 Anos - Ao Vivo\", \"album_type\": \"album\", \"release_date\": \"2012-07-10\"}, {\"name\": \"Vacila\\u00e7\\u00e3o Acontece - Ao Vivo\", \"album\": \"Sorriso 15 Anos - Ao Vivo\", \"album_type\": \"album\", \"release_date\": \"2012-07-10\"}, {\"name\": \"Perdas e Danos - Ao Vivo\", \"album\": \"Sorriso 15 Anos - Ao Vivo\", \"album_type\": \"album\", \"release_date\": \"2012-07-10\"}, {\"name\": \"Fura Olho - Ao Vivo\", \"album\": \"Sorriso 15 Anos - Ao Vivo\", \"album_type\": \"album\", \"release_date\": \"2012-07-10\"}, {\"name\": \"Safadiar - Ao Vivo\", \"album\": \"Sorriso 15 Anos - Ao Vivo\", \"album_type\": \"album\", \"release_date\": \"2012-07-10\"}, {\"name\": \"A Festa Vai Come\\u00e7ar - Live\", \"album\": \"Sorriso Maroto Ao Vivo No Recife\", \"album_type\": \"album\", \"release_date\": \"2010-01-01\"}, {\"name\": \"Sinais - Live\", \"album\": \"Sorriso Maroto Ao Vivo No Recife\", \"album_type\": \"album\", \"release_date\": \"2010-01-01\"}, {\"name\": \"Clich\\u00ea - Live\", \"album\": \"Sorriso Maroto Ao Vivo No Recife\", \"album_type\": \"album\", \"release_date\": \"2010-01-01\"}, {\"name\": \"Na Cama - Live\", \"album\": \"Sorriso Maroto Ao Vivo No Recife\", \"album_type\": \"album\", \"release_date\": \"2010-01-01\"}, {\"name\": \"Pra Mim N\\u00e3o \\u00c9 - Live\", \"album\": \"Sorriso Maroto Ao Vivo No Recife\", \"album_type\": \"album\", \"release_date\": \"2010-01-01\"}, {\"name\": \"Sou Eu E Mais Ningu\\u00e9m - Live\", \"album\": \"Sorriso Maroto Ao Vivo No Recife\", \"album_type\": \"album\", \"release_date\": \"2010-01-01\"}, {\"name\": \"\\u00c1guas Passadas - Live\", \"album\": \"Sorriso Maroto Ao Vivo No Recife\", \"album_type\": \"album\", \"release_date\": \"2010-01-01\"}, {\"name\": \"Quem T\\u00e1 Solteiro Nunca Fica S\\u00f3 - Live\", \"album\": \"Sorriso Maroto Ao Vivo No Recife\", \"album_type\": \"album\", \"release_date\": \"2010-01-01\"}, {\"name\": \"Problema Dela - Live\", \"album\": \"Sorriso Maroto Ao Vivo No Recife\", \"album_type\": \"album\", \"release_date\": \"2010-01-01\"}, {\"name\": \"Loucura Do Seu Cora\\u00e7\\u00e3o - Live\", \"album\": \"Sorriso Maroto Ao Vivo No Recife\", \"album_type\": \"album\", \"release_date\": \"2010-01-01\"}, {\"name\": \"N\\u00e3o \\u00c9 Problema Meu - Live\", \"album\": \"Sorriso Maroto Ao Vivo No Recife\", \"album_type\": \"album\", \"release_date\": \"2010-01-01\"}, {\"name\": \"Boa Noite / Por Qu\\u00ea - Live\", \"album\": \"Sorriso Maroto Ao Vivo No Recife\", \"album_type\": \"album\", \"release_date\": \"2010-01-01\"}, {\"name\": \"A Primeira Vez - Live\", \"album\": \"Sorriso Maroto Ao Vivo No Recife\", \"album_type\": \"album\", \"release_date\": \"2010-01-01\"}, {\"name\": \"Limite - Live\", \"album\": \"Sorriso Maroto Ao Vivo No Recife\", \"album_type\": \"album\", \"release_date\": \"2010-01-01\"}, {\"name\": \"Eu Me Rendo - Live\", \"album\": \"Sorriso Maroto Ao Vivo No Recife\", \"album_type\": \"album\", \"release_date\": \"2010-01-01\"}, {\"name\": \"Ex-Namorada - Live\", \"album\": \"Sorriso Maroto Ao Vivo No Recife\", \"album_type\": \"album\", \"release_date\": \"2010-01-01\"}, {\"name\": \"Sinais\", \"album\": \"Sinais\", \"album_type\": \"album\", \"release_date\": \"2009-05-01\"}, {\"name\": \"Loucura do Seu Cora\\u00e7\\u00e3o\", \"album\": \"Sinais\", \"album_type\": \"album\", \"release_date\": \"2009-05-01\"}, {\"name\": \"Pronto Pra Guerra\", \"album\": \"Sinais\", \"album_type\": \"album\", \"release_date\": \"2009-05-01\"}, {\"name\": \"Ainda Existe Amor Em N\\u00f3s\", \"album\": \"Sinais\", \"album_type\": \"album\", \"release_date\": \"2009-05-01\"}, {\"name\": \"Por Que\", \"album\": \"Sinais\", \"album_type\": \"album\", \"release_date\": \"2009-05-01\"}, {\"name\": \"Pra Mim N\\u00e3o \\u00c9\", \"album\": \"Sinais\", \"album_type\": \"album\", \"release_date\": \"2009-05-01\"}, {\"name\": \"Eu Sou Desse Jeito\", \"album\": \"Sinais\", \"album_type\": \"album\", \"release_date\": \"2009-05-01\"}, {\"name\": \"Meu Adeus\", \"album\": \"Sinais\", \"album_type\": \"album\", \"release_date\": \"2009-05-01\"}, {\"name\": \"E Agora N\\u00f3s?\", \"album\": \"Sinais\", \"album_type\": \"album\", \"release_date\": \"2009-05-01\"}, {\"name\": \"Deixa Fluir\", \"album\": \"Sinais\", \"album_type\": \"album\", \"release_date\": \"2009-05-01\"}, {\"name\": \"N\\u00e3o Tem Pre\\u00e7o\", \"album\": \"Sinais\", \"album_type\": \"album\", \"release_date\": \"2009-05-01\"}, {\"name\": \"Boa Noite\", \"album\": \"Sinais\", \"album_type\": \"album\", \"release_date\": \"2009-05-01\"}, {\"name\": \"N\\u00e3o Valeu de Nada\", \"album\": \"Sinais\", \"album_type\": \"album\", \"release_date\": \"2009-05-01\"}, {\"name\": \"Eu N\\u00e3o\", \"album\": \"Sinais\", \"album_type\": \"album\", \"release_date\": \"2009-05-01\"}, {\"name\": \"Ratat\\u00e1\", \"album\": \"Sinais\", \"album_type\": \"album\", \"release_date\": \"2009-05-01\"}, {\"name\": \"Energia Surreal - Ao Vivo\", \"album\": \"Pagode Pra Namorar\", \"album_type\": \"album\", \"release_date\": \"2008-12-16\"}, {\"name\": \"Anjos Guardi\\u00f5es de Amor - Ao Vivo\", \"album\": \"Pagode Pra Namorar\", \"album_type\": \"album\", \"release_date\": \"2008-12-16\"}, {\"name\": \"Te Quero Comigo - Ao Vivo\", \"album\": \"Pagode Pra Namorar\", \"album_type\": \"album\", \"release_date\": \"2008-12-16\"}, {\"name\": \"Na Cama - Ao Vivo\", \"album\": \"Pagode Pra Namorar\", \"album_type\": \"album\", \"release_date\": \"2008-12-16\"}, {\"name\": \"Cheia de Manias\", \"album\": \"Pagode Pra Namorar\", \"album_type\": \"album\", \"release_date\": \"2008-12-16\"}, {\"name\": \"P\\u00f4r do Sol - Ao Vivo\", \"album\": \"Pagode Pra Namorar\", \"album_type\": \"album\", \"release_date\": \"2008-12-16\"}, {\"name\": \"No Vazio Dessa Casa\", \"album\": \"Pagode Pra Namorar\", \"album_type\": \"album\", \"release_date\": \"2008-12-16\"}, {\"name\": \"100% Dela - Ao Vivo\", \"album\": \"Pagode Pra Namorar\", \"album_type\": \"album\", \"release_date\": \"2008-12-16\"}, {\"name\": \"Pensando Em Voc\\u00ea - Ao Vivo\", \"album\": \"Pagode Pra Namorar\", \"album_type\": \"album\", \"release_date\": \"2008-12-16\"}, {\"name\": \"Faz Assim / A Primeira Namorada / N\\u00e3o Tem Perd\\u00e3o - Ao Vivo\", \"album\": \"Pagode Pra Namorar\", \"album_type\": \"album\", \"release_date\": \"2008-12-16\"}, {\"name\": \"Tema Diferente\", \"album\": \"\\u00c9 Diferente Ao Vivo\", \"album_type\": \"album\", \"release_date\": \"2007-02-10\"}, {\"name\": \"O Que Tinha Que Dar\", \"album\": \"\\u00c9 Diferente Ao Vivo\", \"album_type\": \"album\", \"release_date\": \"2007-02-10\"}, {\"name\": \"A Primeira Namorada\", \"album\": \"\\u00c9 Diferente Ao Vivo\", \"album_type\": \"album\", \"release_date\": \"2007-02-10\"}, {\"name\": \"Fica Combinado Assim\", \"album\": \"\\u00c9 Diferente Ao Vivo\", \"album_type\": \"album\", \"release_date\": \"2007-02-10\"}, {\"name\": \"\\u00c9 Diferente\", \"album\": \"\\u00c9 Diferente Ao Vivo\", \"album_type\": \"album\", \"release_date\": \"2007-02-10\"}, {\"name\": \"O Que \\u00c9, O Que \\u00c9?\", \"album\": \"\\u00c9 Diferente Ao Vivo\", \"album_type\": \"album\", \"release_date\": \"2007-02-10\"}, {\"name\": \"Faz Assim\", \"album\": \"\\u00c9 Diferente Ao Vivo\", \"album_type\": \"album\", \"release_date\": \"2007-02-10\"}, {\"name\": \"Voc\\u00ea Me Maltrata\", \"album\": \"\\u00c9 Diferente Ao Vivo\", \"album_type\": \"album\", \"release_date\": \"2007-02-10\"}, {\"name\": \"Tenho Medo\", \"album\": \"\\u00c9 Diferente Ao Vivo\", \"album_type\": \"album\", \"release_date\": \"2007-02-10\"}, {\"name\": \"Promessas\", \"album\": \"\\u00c9 Diferente Ao Vivo\", \"album_type\": \"album\", \"release_date\": \"2007-02-10\"}, {\"name\": \"Amanh\\u00e3\", \"album\": \"\\u00c9 Diferente Ao Vivo\", \"album_type\": \"album\", \"release_date\": \"2007-02-10\"}, {\"name\": \"Tarde Demais\", \"album\": \"\\u00c9 Diferente Ao Vivo\", \"album_type\": \"album\", \"release_date\": \"2007-02-10\"}, {\"name\": \"Disfar\\u00e7a\", \"album\": \"\\u00c9 Diferente Ao Vivo\", \"album_type\": \"album\", \"release_date\": \"2007-02-10\"}, {\"name\": \"Estrela Maior\", \"album\": \"\\u00c9 Diferente Ao Vivo\", \"album_type\": \"album\", \"release_date\": \"2007-02-10\"}, {\"name\": \"Em Suas M\\u00e3os\", \"album\": \"\\u00c9 Diferente Ao Vivo\", \"album_type\": \"album\", \"release_date\": \"2007-02-10\"}, {\"name\": \"Fica Com Deus\", \"album\": \"\\u00c9 Diferente Ao Vivo\", \"album_type\": \"album\", \"release_date\": \"2007-02-10\"}, {\"name\": \"Beijo Doce: Ma\\u00e7\\u00e3 do Amor: Sabor Morango\", \"album\": \"\\u00c9 Diferente Ao Vivo\", \"album_type\": \"album\", \"release_date\": \"2007-02-10\"}, {\"name\": \"Engano\", \"album\": \"\\u00c9 Diferente Ao Vivo\", \"album_type\": \"album\", \"release_date\": \"2007-02-10\"}, {\"name\": \"N\\u00e3o Tem Perd\\u00e3o\", \"album\": \"\\u00c9 Diferente Ao Vivo\", \"album_type\": \"album\", \"release_date\": \"2007-02-10\"}, {\"name\": \"Nhenhenh\\u00e9m\", \"album\": \"\\u00c9 Diferente Ao Vivo\", \"album_type\": \"album\", \"release_date\": \"2007-02-10\"}, {\"name\": \"Amar Voc\\u00ea\", \"album\": \"\\u00c9 Diferente Ao Vivo\", \"album_type\": \"album\", \"release_date\": \"2007-02-10\"}, {\"name\": \"Cora\\u00e7\\u00e3o Deserto - Me Espera\", \"album\": \"\\u00c9 Diferente Ao Vivo\", \"album_type\": \"album\", \"release_date\": \"2007-02-10\"}, {\"name\": \"Me Olha Nos Olhos - Ainda Gosto de Voc\\u00ea\", \"album\": \"\\u00c9 Diferente Ao Vivo\", \"album_type\": \"album\", \"release_date\": \"2007-02-10\"}, {\"name\": \"Se Entrega\", \"album\": \"\\u00c9 Diferente Ao Vivo\", \"album_type\": \"album\", \"release_date\": \"2007-02-10\"}, {\"name\": \"Topo do Mundo\", \"album\": \"\\u00c9 Diferente Ao Vivo\", \"album_type\": \"album\", \"release_date\": \"2007-02-10\"}, {\"name\": \"Nada por Mim\", \"album\": \"\\u00c9 Diferente Ao Vivo\", \"album_type\": \"album\", \"release_date\": \"2007-02-10\"}, {\"name\": \"Futuro Prometido\", \"album\": \"\\u00c9 Diferente Ao Vivo\", \"album_type\": \"album\", \"release_date\": \"2007-02-10\"}, {\"name\": \"\\u00c9 Diferente\", \"album\": \"\\u00c9 Diferente\", \"album_type\": \"album\", \"release_date\": \"2006-11-10\"}, {\"name\": \"Futuro Prometido\", \"album\": \"\\u00c9 Diferente\", \"album_type\": \"album\", \"release_date\": \"2006-11-10\"}, {\"name\": \"Tenho Medo\", \"album\": \"\\u00c9 Diferente\", \"album_type\": \"album\", \"release_date\": \"2006-11-10\"}, {\"name\": \"O Que \\u00c9, O Que \\u00c9?\", \"album\": \"\\u00c9 Diferente\", \"album_type\": \"album\", \"release_date\": \"2006-11-10\"}, {\"name\": \"N\\u00e3o Foi Em V\\u00e3o\", \"album\": \"\\u00c9 Diferente\", \"album_type\": \"album\", \"release_date\": \"2006-11-10\"}, {\"name\": \"Pega Essa\", \"album\": \"\\u00c9 Diferente\", \"album_type\": \"album\", \"release_date\": \"2006-11-10\"}, {\"name\": \"Promessas\", \"album\": \"\\u00c9 Diferente\", \"album_type\": \"album\", \"release_date\": \"2006-11-10\"}, {\"name\": \"Quem Errou\", \"album\": \"\\u00c9 Diferente\", \"album_type\": \"album\", \"release_date\": \"2006-11-10\"}, {\"name\": \"Vai Acabar Sem Ningu\\u00e9m\", \"album\": \"\\u00c9 Diferente\", \"album_type\": \"album\", \"release_date\": \"2006-11-10\"}, {\"name\": \"Meu Plano\", \"album\": \"\\u00c9 Diferente\", \"album_type\": \"album\", \"release_date\": \"2006-11-10\"}, {\"name\": \"Em Suas M\\u00e3os\", \"album\": \"\\u00c9 Diferente\", \"album_type\": \"album\", \"release_date\": \"2006-11-10\"}, {\"name\": \"O Que Tinha Que Dar\", \"album\": \"\\u00c9 Diferente\", \"album_type\": \"album\", \"release_date\": \"2006-11-10\"}, {\"name\": \"Tenho Medo - Ac\\u00fastica\", \"album\": \"\\u00c9 Diferente\", \"album_type\": \"album\", \"release_date\": \"2006-11-10\"}, {\"name\": \"Acabou\", \"album\": \"\\u00c9 Diferente\", \"album_type\": \"album\", \"release_date\": \"2006-11-10\"}, {\"name\": \"Ainda Gosto de Voc\\u00ea - Me Espera - Cora\\u00e7\\u00e3o Deserto\", \"album\": \"Por Voc\\u00ea Ao Vivo\", \"album_type\": \"album\", \"release_date\": \"2005-05-03\"}, {\"name\": \"Engano\", \"album\": \"Por Voc\\u00ea Ao Vivo\", \"album_type\": \"album\", \"release_date\": \"2005-05-03\"}, {\"name\": \"J\\u00e1 Era\", \"album\": \"Por Voc\\u00ea Ao Vivo\", \"album_type\": \"album\", \"release_date\": \"2005-05-03\"}, {\"name\": \"Eu Vacilei\", \"album\": \"Por Voc\\u00ea Ao Vivo\", \"album_type\": \"album\", \"release_date\": \"2005-05-03\"}, {\"name\": \"Estrela Maior\", \"album\": \"Por Voc\\u00ea Ao Vivo\", \"album_type\": \"album\", \"release_date\": \"2005-05-03\"}, {\"name\": \"E Agora? - Cad\\u00ea Voc\\u00ea\", \"album\": \"Por Voc\\u00ea Ao Vivo\", \"album_type\": \"album\", \"release_date\": \"2005-05-03\"}, {\"name\": \"Adivinha O Qu\\u00ea?\", \"album\": \"Por Voc\\u00ea Ao Vivo\", \"album_type\": \"album\", \"release_date\": \"2005-05-03\"}, {\"name\": \"Me Olha Nos Olhos\", \"album\": \"Por Voc\\u00ea Ao Vivo\", \"album_type\": \"album\", \"release_date\": \"2005-05-03\"}, {\"name\": \"Diz Que Quer Ficar\", \"album\": \"Por Voc\\u00ea Ao Vivo\", \"album_type\": \"album\", \"release_date\": \"2005-05-03\"}, {\"name\": \"Disfar\\u00e7a\", \"album\": \"Por Voc\\u00ea Ao Vivo\", \"album_type\": \"album\", \"release_date\": \"2005-05-03\"}, {\"name\": \"Por Voc\\u00ea\", \"album\": \"Por Voc\\u00ea Ao Vivo\", \"album_type\": \"album\", \"release_date\": \"2005-05-03\"}, {\"name\": \"Pra Sempre\", \"album\": \"Por Voc\\u00ea Ao Vivo\", \"album_type\": \"album\", \"release_date\": \"2005-05-03\"}, {\"name\": \"Aprendi e Quero Amar\", \"album\": \"Por Voc\\u00ea Ao Vivo\", \"album_type\": \"album\", \"release_date\": \"2005-05-03\"}, {\"name\": \"Nada de Pensar Em Despedida - Marque um Lugar - Preciso Viver\", \"album\": \"Por Voc\\u00ea Ao Vivo\", \"album_type\": \"album\", \"release_date\": \"2005-05-03\"}, {\"name\": \"Pra Voc\\u00ea Escutar\", \"album\": \"Sorriso Eu Gosto Ao Vivo No Maracan\\u00e3zinho, Vol. 2\", \"album_type\": \"album\", \"release_date\": \"2005\"}, {\"name\": \"T\\u00e1 Bom, Aham\", \"album\": \"Sorriso Eu Gosto Ao Vivo No Maracan\\u00e3zinho, Vol. 2\", \"album_type\": \"album\", \"release_date\": \"2005\"}, {\"name\": \"A\\u00ed Que Eu Gosto e Vou Pra Cima\", \"album\": \"Sorriso Eu Gosto Ao Vivo No Maracan\\u00e3zinho, Vol. 2\", \"album_type\": \"album\", \"release_date\": \"2005\"}, {\"name\": \"Pot-Pourri: Amanh\\u00e3 / O Que Tinha Que Dar\", \"album\": \"Sorriso Eu Gosto Ao Vivo No Maracan\\u00e3zinho, Vol. 2\", \"album_type\": \"album\", \"release_date\": \"2005\"}, {\"name\": \"Pot-Pourri: O Melhor Peda\\u00e7o / Brigas por Nada\", \"album\": \"Sorriso Eu Gosto Ao Vivo No Maracan\\u00e3zinho, Vol. 2\", \"album_type\": \"album\", \"release_date\": \"2005\"}, {\"name\": \"Clich\\u00ea\", \"album\": \"Sorriso Eu Gosto Ao Vivo No Maracan\\u00e3zinho, Vol. 2\", \"album_type\": \"album\", \"release_date\": \"2005\"}, {\"name\": \"Sinais\", \"album\": \"Sorriso Eu Gosto Ao Vivo No Maracan\\u00e3zinho, Vol. 2\", \"album_type\": \"album\", \"release_date\": \"2005\"}, {\"name\": \"Pot-Pourri: Assim Voc\\u00ea Mata o Papai / Fofinha Del\\u00edcia (Excesso de Gostosura)\", \"album\": \"Sorriso Eu Gosto Ao Vivo No Maracan\\u00e3zinho, Vol. 2\", \"album_type\": \"album\", \"release_date\": \"2005\"}, {\"name\": \"\\u00c9 N\\u00f3is Faz\\u00ea Parapap\\u00e1\", \"album\": \"Sorriso Eu Gosto Ao Vivo No Maracan\\u00e3zinho, Vol. 2\", \"album_type\": \"album\", \"release_date\": \"2005\"}, {\"name\": \"Pot-Pourri: Na Cama / Pra Mim N\\u00e3o \\u00c9\", \"album\": \"Sorriso Eu Gosto Ao Vivo No Maracan\\u00e3zinho, Vol. 2\", \"album_type\": \"album\", \"release_date\": \"2005\"}, {\"name\": \"Pot-Pourri: Se Eu Te Pego, Te Envergo / Coisa Louca\", \"album\": \"Sorriso Eu Gosto Ao Vivo No Maracan\\u00e3zinho, Vol. 2\", \"album_type\": \"album\", \"release_date\": \"2005\"}, {\"name\": \"Mais F\\u00e1cil\", \"album\": \"Sorriso Eu Gosto Ao Vivo No Maracan\\u00e3zinho, Vol. 2\", \"album_type\": \"album\", \"release_date\": \"2005\"}, {\"name\": \"Guerra Fria\", \"album\": \"Sorriso Eu Gosto Ao Vivo No Maracan\\u00e3zinho, Vol. 2\", \"album_type\": \"album\", \"release_date\": \"2005\"}, {\"name\": \"Vai e Chora\", \"album\": \"Sorriso Eu Gosto Ao Vivo No Maracan\\u00e3zinho, Vol. 2\", \"album_type\": \"album\", \"release_date\": \"2005\"}, {\"name\": \"Nada de Pensar Em Despedida\", \"album\": \"Por Voc\\u00ea\", \"album_type\": \"album\", \"release_date\": \"2003-05-27\"}, {\"name\": \"Aprendi e Quero Amar\", \"album\": \"Por Voc\\u00ea\", \"album_type\": \"album\", \"release_date\": \"2003-05-27\"}, {\"name\": \"Me Espera\", \"album\": \"Por Voc\\u00ea\", \"album_type\": \"album\", \"release_date\": \"2003-05-27\"}, {\"name\": \"Eu Vacilei\", \"album\": \"Por Voc\\u00ea\", \"album_type\": \"album\", \"release_date\": \"2003-05-27\"}, {\"name\": \"Diz Que Quer Ficar\", \"album\": \"Por Voc\\u00ea\", \"album_type\": \"album\", \"release_date\": \"2003-05-27\"}, {\"name\": \"Cad\\u00ea Voc\\u00ea\", \"album\": \"Por Voc\\u00ea\", \"album_type\": \"album\", \"release_date\": \"2003-05-27\"}, {\"name\": \"Marque um Lugar\", \"album\": \"Por Voc\\u00ea\", \"album_type\": \"album\", \"release_date\": \"2003-05-27\"}, {\"name\": \"Saigon\", \"album\": \"Por Voc\\u00ea\", \"album_type\": \"album\", \"release_date\": \"2003-05-27\"}, {\"name\": \"J\\u00e1 Era\", \"album\": \"Por Voc\\u00ea\", \"album_type\": \"album\", \"release_date\": \"2003-05-27\"}, {\"name\": \"Chega de Me Enganar\", \"album\": \"Por Voc\\u00ea\", \"album_type\": \"album\", \"release_date\": \"2003-05-27\"}, {\"name\": \"Meu Sonho \\u00c9 Voc\\u00ea\", \"album\": \"Por Voc\\u00ea\", \"album_type\": \"album\", \"release_date\": \"2003-05-27\"}, {\"name\": \"Por Voc\\u00ea\", \"album\": \"Por Voc\\u00ea\", \"album_type\": \"album\", \"release_date\": \"2003-05-27\"}, {\"name\": \"Preciso Viver\", \"album\": \"Sorriso Maroto\", \"album_type\": \"album\", \"release_date\": \"2002-04-10\"}, {\"name\": \"Sacode a Roseira\", \"album\": \"Sorriso Maroto\", \"album_type\": \"album\", \"release_date\": \"2002-04-10\"}, {\"name\": \"Ainda Gosto de Voc\\u00ea\", \"album\": \"Sorriso Maroto\", \"album_type\": \"album\", \"release_date\": \"2002-04-10\"}, {\"name\": \"Meu Docinho\", \"album\": \"Sorriso Maroto\", \"album_type\": \"album\", \"release_date\": \"2002-04-10\"}, {\"name\": \"Sempre Em Meu Pensamento\", \"album\": \"Sorriso Maroto\", \"album_type\": \"album\", \"release_date\": \"2002-04-10\"}, {\"name\": \"Cora\\u00e7\\u00e3o Deserto\", \"album\": \"Sorriso Maroto\", \"album_type\": \"album\", \"release_date\": \"2002-04-10\"}, {\"name\": \"Parece um Sonho\", \"album\": \"Sorriso Maroto\", \"album_type\": \"album\", \"release_date\": \"2002-04-10\"}, {\"name\": \"Vou Embora\", \"album\": \"Sorriso Maroto\", \"album_type\": \"album\", \"release_date\": \"2002-04-10\"}, {\"name\": \"N\\u00e3o Existe Preconceito Pra Se Amar\", \"album\": \"Sorriso Maroto\", \"album_type\": \"album\", \"release_date\": \"2002-04-10\"}, {\"name\": \"E Agora\", \"album\": \"Sorriso Maroto\", \"album_type\": \"album\", \"release_date\": \"2002-04-10\"}, {\"name\": \"Procura-Se\", \"album\": \"Sorriso Maroto\", \"album_type\": \"album\", \"release_date\": \"2002-04-10\"}, {\"name\": \"Onde Voc\\u00ea Est\\u00e1\", \"album\": \"Sorriso Maroto\", \"album_type\": \"album\", \"release_date\": \"2002-04-10\"}, {\"name\": \"Dom Juan do Pagode\", \"album\": \"Sorriso Maroto\", \"album_type\": \"album\", \"release_date\": \"2002-04-10\"}, {\"name\": \"Desafio\", \"album\": \"Desafio\", \"album_type\": \"single\", \"release_date\": \"2020-10-02\"}, {\"name\": \"Quase L\\u00e1 (feat. Sorriso Maroto)\", \"album\": \"Quase L\\u00e1 (feat. Sorriso Maroto)\", \"album_type\": \"single\", \"release_date\": \"2020-09-16\"}, {\"name\": \"Melhor Que Nada\", \"album\": \"Melhor Que Nada\", \"album_type\": \"single\", \"release_date\": \"2020-03-13\"}, {\"name\": \"N\\u00famero 1\", \"album\": \"N\\u00famero 1\", \"album_type\": \"single\", \"release_date\": \"2020-02-07\"}, {\"name\": \"Sinal Vital\", \"album\": \"Sinal Vital\", \"album_type\": \"single\", \"release_date\": \"2020-01-24\"}, {\"name\": \"Escondido dos seus Pais - Ao Vivo\", \"album\": \"Escondido dos seus Pais (Ao Vivo)\", \"album_type\": \"single\", \"release_date\": \"2019-02-08\"}, {\"name\": \"Toda Hora \\u00e9 Hora\", \"album\": \"Toda Hora \\u00e9 Hora\", \"album_type\": \"single\", \"release_date\": \"2018-11-30\"}, {\"name\": \"O Imposs\\u00edvel\", \"album\": \"O Imposs\\u00edvel\", \"album_type\": \"single\", \"release_date\": \"2018-09-05\"}, {\"name\": \"Pot-Pourri: Ainda Existe Amor Em N\\u00f3s / Engano - Ao Vivo\", \"album\": \"De Volta Pro Amanh\\u00e3, Vol. 3 (Ao Vivo)\", \"album_type\": \"single\", \"release_date\": \"2018-03-16\"}, {\"name\": \"Estrela Maior - Ao Vivo\", \"album\": \"De Volta Pro Amanh\\u00e3, Vol. 3 (Ao Vivo)\", \"album_type\": \"single\", \"release_date\": \"2018-03-16\"}, {\"name\": \"Pot-Pourri: Em Suas M\\u00e3os / Disfar\\u00e7a / Fica Combinado Assim - Ao Vivo\", \"album\": \"De Volta Pro Amanh\\u00e3, Vol. 3 (Ao Vivo)\", \"album_type\": \"single\", \"release_date\": \"2018-03-16\"}, {\"name\": \"Pot-Pourri: Me Olha Nos Olhos / Futuro Prometido / Ainda Gosto de Voc\\u00ea - Ao Vivo\", \"album\": \"De Volta Pro Amanh\\u00e3, Vol. 3 (Ao Vivo)\", \"album_type\": \"single\", \"release_date\": \"2018-03-16\"}, {\"name\": \"Pot-Pourri: Cora\\u00e7\\u00e3o Deserto / Me Espera / Faz Assim / A Primeira Namorada - Ao Vivo\", \"album\": \"De Volta Pro Amanh\\u00e3, Vol. 3 (Ao Vivo)\", \"album_type\": \"single\", \"release_date\": \"2018-03-16\"}, {\"name\": \"Pot-Pourri: Tenho Medo / N\\u00e3o Tem Perd\\u00e3o - Ao Vivo\", \"album\": \"De Volta Pro Amanh\\u00e3, Vol. 3 (Ao Vivo)\", \"album_type\": \"single\", \"release_date\": \"2018-03-16\"}, {\"name\": \"Chave e Cadeado\", \"album\": \"Chave e Cadeado\", \"album_type\": \"single\", \"release_date\": \"2018-02-28\"}, {\"name\": \"Anjos Guardi\\u00f5es de Amor - Ac\\u00fastico\", \"album\": \"Anjos Guardi\\u00f5es de Amor (Ac\\u00fastico)\", \"album_type\": \"single\", \"release_date\": \"2017-12-08\"}, {\"name\": \"Eu J\\u00e1 Te Quis um Dia - Ac\\u00fastico\", \"album\": \"Eu J\\u00e1 Te Quis um Dia (Ac\\u00fastico)\", \"album_type\": \"single\", \"release_date\": \"2017-11-17\"}, {\"name\": \"Eu J\\u00e1 Te Quis um Dia - Voz e Viol\\u00e3o\", \"album\": \"Eu J\\u00e1 Te Quis um Dia (Voz e Viol\\u00e3o)\", \"album_type\": \"single\", \"release_date\": \"2017-11-17\"}, {\"name\": \"Anjos Guardi\\u00f5es de Amor - Ao Vivo\", \"album\": \"Anjos Guardi\\u00f5es de Amor (Ao Vivo)\", \"album_type\": \"single\", \"release_date\": \"2017-10-20\"}, {\"name\": \"Indiferen\\u00e7a - Ac\\u00fastico\", \"album\": \"Indiferen\\u00e7a (Ac\\u00fastico)\", \"album_type\": \"single\", \"release_date\": \"2017-04-07\"}, {\"name\": \"Dependente - Ac\\u00fastico\", \"album\": \"Dependente (Ac\\u00fastico) - Single\", \"album_type\": \"single\", \"release_date\": \"2016-10-14\"}, {\"name\": \"Dependente\", \"album\": \"Dependente - Single\", \"album_type\": \"single\", \"release_date\": \"2016-05-06\"}, {\"name\": \"Instigante\", \"album\": \"Instigante - Single\", \"album_type\": \"single\", \"release_date\": \"2014-09-08\"}, {\"name\": \"Guerra Fria (feat. Jorge & Mateus) - Remix Mister Jam\", \"album\": \"Guerra Fria (Remix Mister Jam) - Single\", \"album_type\": \"single\", \"release_date\": \"2014-04-07\"}, {\"name\": \"A\\u00ed Que Eu Gosto e Vou Pra Cima\", \"album\": \"Riscos e Certezas - Ep\", \"album_type\": \"single\", \"release_date\": \"2013-09-30\"}, {\"name\": \"T\\u00e1 Bom, Aham\", \"album\": \"Riscos e Certezas - Ep\", \"album_type\": \"single\", \"release_date\": \"2013-09-30\"}, {\"name\": \"Mais F\\u00e1cil (Easier) [feat. Brian Mcknight]\", \"album\": \"Riscos e Certezas - Ep\", \"album_type\": \"single\", \"release_date\": \"2013-09-30\"}, {\"name\": \"Pra Voc\\u00ea Escutar\", \"album\": \"Riscos e Certezas - Ep\", \"album_type\": \"single\", \"release_date\": \"2013-09-30\"}, {\"name\": \"Guerra Fria (feat. Jorge & Mateus)\", \"album\": \"Riscos e Certezas - Ep\", \"album_type\": \"single\", \"release_date\": \"2013-09-30\"}, {\"name\": \"Fofinha Del\\u00edcia (Excesso de Gostosura)\", \"album\": \"Riscos e Certezas - Ep\", \"album_type\": \"single\", \"release_date\": \"2013-09-30\"}, {\"name\": \"Mais F\\u00e1cil (Easier) [feat. Brian Mcknight]\", \"album\": \"Mais F\\u00e1cil (Easier) - Single\", \"album_type\": \"single\", \"release_date\": \"2013-09-09\"}, {\"name\": \"Fofinha Del\\u00edcia (Excesso de Gostosura)\", \"album\": \"Fofinha Del\\u00edcia (Excesso de Gostosura) - Single\", \"album_type\": \"single\", \"release_date\": \"2013-06-24\"}, {\"name\": \"Assim Voc\\u00ea Mata o Papai - Remix\", \"album\": \"Sorriso Maroto - Remix\", \"album_type\": \"single\", \"release_date\": \"2013-04-02\"}, {\"name\": \"Se Eu Te Pego, Te Envergo - Remix\", \"album\": \"Sorriso Maroto - Remix\", \"album_type\": \"single\", \"release_date\": \"2013-04-02\"}, {\"name\": \"Vai e Chora - Remix\", \"album\": \"Sorriso Maroto - Remix\", \"album_type\": \"single\", \"release_date\": \"2013-04-02\"}, {\"name\": \"Se Eu Te Pego, Te Envergo\", \"album\": \"Se Eu Te Pego, Te Envergo - Single\", \"album_type\": \"single\", \"release_date\": \"2012-05-17\"}, {\"name\": \"Assim Voc\\u00ea Mata O Papai\", \"album\": \"Assim Voc\\u00ea Mata O Papai\", \"album_type\": \"single\", \"release_date\": \"2012-01-31\"}, {\"name\": \"N\\u00e3o Mere\\u00e7o Ser Amante\", \"album\": \"Sinais - N\\u00e3o Mere\\u00e7o Ser Amante- Single\", \"album_type\": \"single\", \"release_date\": \"2011\"}, {\"name\": \"Cad\\u00ea Voc\\u00ea\", \"album\": \"Por Voc\\u00ea Ao Vivo - M\\u00fasicas Extras do Dvd - Ep\", \"album_type\": \"single\", \"release_date\": \"2010-10-01\"}, {\"name\": \"Cora\\u00e7\\u00e3o Deserto\", \"album\": \"Por Voc\\u00ea Ao Vivo - M\\u00fasicas Extras do Dvd - Ep\", \"album_type\": \"single\", \"release_date\": \"2010-10-01\"}, {\"name\": \"E Agora?\", \"album\": \"Por Voc\\u00ea Ao Vivo - M\\u00fasicas Extras do Dvd - Ep\", \"album_type\": \"single\", \"release_date\": \"2010-10-01\"}, {\"name\": \"Marque um Lugar\", \"album\": \"Por Voc\\u00ea Ao Vivo - M\\u00fasicas Extras do Dvd - Ep\", \"album_type\": \"single\", \"release_date\": \"2010-10-01\"}, {\"name\": \"Me Espera\", \"album\": \"Por Voc\\u00ea Ao Vivo - M\\u00fasicas Extras do Dvd - Ep\", \"album_type\": \"single\", \"release_date\": \"2010-10-01\"}, {\"name\": \"Nada de Pensar Em Despedida\", \"album\": \"Por Voc\\u00ea Ao Vivo - M\\u00fasicas Extras do Dvd - Ep\", \"album_type\": \"single\", \"release_date\": \"2010-10-01\"}, {\"name\": \"Preciso Viver\", \"album\": \"Por Voc\\u00ea Ao Vivo - M\\u00fasicas Extras do Dvd - Ep\", \"album_type\": \"single\", \"release_date\": \"2010-10-01\"}, {\"name\": \"Samba \\u00c9 Bom de Qualquer Jeito\", \"album\": \"Por Voc\\u00ea Ao Vivo - M\\u00fasicas Extras do Dvd - Ep\", \"album_type\": \"single\", \"release_date\": \"2010-10-01\"}, {\"name\": \"Na Cama - Live\", \"album\": \"Na Cama (Live)\", \"album_type\": \"single\", \"release_date\": \"2010-01-01\"}]}}, {\"mode\": \"vega-lite\"});\n",
              "</script>"
            ]
          },
          "metadata": {
            "tags": []
          },
          "execution_count": 154
        }
      ]
    },
    {
      "cell_type": "code",
      "metadata": {
        "id": "JrsigLjzwBRG",
        "outputId": "29967c81-c44e-43b2-99a8-e69215d3f0da",
        "colab": {
          "base_uri": "https://localhost:8080/",
          "height": 421
        }
      },
      "source": [
        "import spotipy\n",
        "from spotipy.oauth2 import SpotifyOAuth\n",
        "\n",
        "sp = spotipy.Spotify(auth_manager=SpotifyOAuth(client_id=\"SUACREDENCIAL\",\n",
        "                                               client_secret=\"SUACREDENCIAL\",\n",
        "                                               redirect_uri=\"http://SUACREDENCIAL.com\",\n",
        "                                               scope=\"user-top-read\"))\n",
        "\n",
        "ranges = ['short_term', 'medium_term', 'long_term']\n",
        "\n",
        "for sp_range in ranges:\n",
        "    print(\"range:\", sp_range)\n",
        "    results = sp.current_user_top_tracks(time_range=sp_range, limit=20)\n",
        "    for i, item in enumerate(results['items']):\n",
        "        print(i, item['name'], '//', item['artists'][0]['name'])\n",
        "    print()"
      ],
      "execution_count": null,
      "outputs": [
        {
          "output_type": "stream",
          "text": [
            "Couldn't read cache at: .cache\n"
          ],
          "name": "stderr"
        },
        {
          "output_type": "stream",
          "text": [
            "range: short_term\n",
            "Enter the URL you were redirected to: \n"
          ],
          "name": "stdout"
        },
        {
          "output_type": "error",
          "ename": "SpotifyOauthError",
          "evalue": "ignored",
          "traceback": [
            "\u001b[0;31m---------------------------------------------------------------------------\u001b[0m",
            "\u001b[0;31mSpotifyOauthError\u001b[0m                         Traceback (most recent call last)",
            "\u001b[0;32m<ipython-input-128-12eb7931e16b>\u001b[0m in \u001b[0;36m<module>\u001b[0;34m()\u001b[0m\n\u001b[1;32m     11\u001b[0m \u001b[0;32mfor\u001b[0m \u001b[0msp_range\u001b[0m \u001b[0;32min\u001b[0m \u001b[0mranges\u001b[0m\u001b[0;34m:\u001b[0m\u001b[0;34m\u001b[0m\u001b[0;34m\u001b[0m\u001b[0m\n\u001b[1;32m     12\u001b[0m     \u001b[0mprint\u001b[0m\u001b[0;34m(\u001b[0m\u001b[0;34m\"range:\"\u001b[0m\u001b[0;34m,\u001b[0m \u001b[0msp_range\u001b[0m\u001b[0;34m)\u001b[0m\u001b[0;34m\u001b[0m\u001b[0;34m\u001b[0m\u001b[0m\n\u001b[0;32m---> 13\u001b[0;31m     \u001b[0mresults\u001b[0m \u001b[0;34m=\u001b[0m \u001b[0msp\u001b[0m\u001b[0;34m.\u001b[0m\u001b[0mcurrent_user_top_tracks\u001b[0m\u001b[0;34m(\u001b[0m\u001b[0mtime_range\u001b[0m\u001b[0;34m=\u001b[0m\u001b[0msp_range\u001b[0m\u001b[0;34m,\u001b[0m \u001b[0mlimit\u001b[0m\u001b[0;34m=\u001b[0m\u001b[0;36m20\u001b[0m\u001b[0;34m)\u001b[0m\u001b[0;34m\u001b[0m\u001b[0;34m\u001b[0m\u001b[0m\n\u001b[0m\u001b[1;32m     14\u001b[0m     \u001b[0;32mfor\u001b[0m \u001b[0mi\u001b[0m\u001b[0;34m,\u001b[0m \u001b[0mitem\u001b[0m \u001b[0;32min\u001b[0m \u001b[0menumerate\u001b[0m\u001b[0;34m(\u001b[0m\u001b[0mresults\u001b[0m\u001b[0;34m[\u001b[0m\u001b[0;34m'items'\u001b[0m\u001b[0;34m]\u001b[0m\u001b[0;34m)\u001b[0m\u001b[0;34m:\u001b[0m\u001b[0;34m\u001b[0m\u001b[0;34m\u001b[0m\u001b[0m\n\u001b[1;32m     15\u001b[0m         \u001b[0mprint\u001b[0m\u001b[0;34m(\u001b[0m\u001b[0mi\u001b[0m\u001b[0;34m,\u001b[0m \u001b[0mitem\u001b[0m\u001b[0;34m[\u001b[0m\u001b[0;34m'name'\u001b[0m\u001b[0;34m]\u001b[0m\u001b[0;34m,\u001b[0m \u001b[0;34m'//'\u001b[0m\u001b[0;34m,\u001b[0m \u001b[0mitem\u001b[0m\u001b[0;34m[\u001b[0m\u001b[0;34m'artists'\u001b[0m\u001b[0;34m]\u001b[0m\u001b[0;34m[\u001b[0m\u001b[0;36m0\u001b[0m\u001b[0;34m]\u001b[0m\u001b[0;34m[\u001b[0m\u001b[0;34m'name'\u001b[0m\u001b[0;34m]\u001b[0m\u001b[0;34m)\u001b[0m\u001b[0;34m\u001b[0m\u001b[0;34m\u001b[0m\u001b[0m\n",
            "\u001b[0;32m/usr/local/lib/python3.6/dist-packages/spotipy/client.py\u001b[0m in \u001b[0;36mcurrent_user_top_tracks\u001b[0;34m(self, limit, offset, time_range)\u001b[0m\n\u001b[1;32m   1279\u001b[0m         \"\"\"\n\u001b[1;32m   1280\u001b[0m         return self._get(\n\u001b[0;32m-> 1281\u001b[0;31m             \u001b[0;34m\"me/top/tracks\"\u001b[0m\u001b[0;34m,\u001b[0m \u001b[0mtime_range\u001b[0m\u001b[0;34m=\u001b[0m\u001b[0mtime_range\u001b[0m\u001b[0;34m,\u001b[0m \u001b[0mlimit\u001b[0m\u001b[0;34m=\u001b[0m\u001b[0mlimit\u001b[0m\u001b[0;34m,\u001b[0m \u001b[0moffset\u001b[0m\u001b[0;34m=\u001b[0m\u001b[0moffset\u001b[0m\u001b[0;34m\u001b[0m\u001b[0;34m\u001b[0m\u001b[0m\n\u001b[0m\u001b[1;32m   1282\u001b[0m         )\n\u001b[1;32m   1283\u001b[0m \u001b[0;34m\u001b[0m\u001b[0m\n",
            "\u001b[0;32m/usr/local/lib/python3.6/dist-packages/spotipy/client.py\u001b[0m in \u001b[0;36m_get\u001b[0;34m(self, url, args, payload, **kwargs)\u001b[0m\n\u001b[1;32m    282\u001b[0m             \u001b[0mkwargs\u001b[0m\u001b[0;34m.\u001b[0m\u001b[0mupdate\u001b[0m\u001b[0;34m(\u001b[0m\u001b[0margs\u001b[0m\u001b[0;34m)\u001b[0m\u001b[0;34m\u001b[0m\u001b[0;34m\u001b[0m\u001b[0m\n\u001b[1;32m    283\u001b[0m \u001b[0;34m\u001b[0m\u001b[0m\n\u001b[0;32m--> 284\u001b[0;31m         \u001b[0;32mreturn\u001b[0m \u001b[0mself\u001b[0m\u001b[0;34m.\u001b[0m\u001b[0m_internal_call\u001b[0m\u001b[0;34m(\u001b[0m\u001b[0;34m\"GET\"\u001b[0m\u001b[0;34m,\u001b[0m \u001b[0murl\u001b[0m\u001b[0;34m,\u001b[0m \u001b[0mpayload\u001b[0m\u001b[0;34m,\u001b[0m \u001b[0mkwargs\u001b[0m\u001b[0;34m)\u001b[0m\u001b[0;34m\u001b[0m\u001b[0;34m\u001b[0m\u001b[0m\n\u001b[0m\u001b[1;32m    285\u001b[0m \u001b[0;34m\u001b[0m\u001b[0m\n\u001b[1;32m    286\u001b[0m     \u001b[0;32mdef\u001b[0m \u001b[0m_post\u001b[0m\u001b[0;34m(\u001b[0m\u001b[0mself\u001b[0m\u001b[0;34m,\u001b[0m \u001b[0murl\u001b[0m\u001b[0;34m,\u001b[0m \u001b[0margs\u001b[0m\u001b[0;34m=\u001b[0m\u001b[0;32mNone\u001b[0m\u001b[0;34m,\u001b[0m \u001b[0mpayload\u001b[0m\u001b[0;34m=\u001b[0m\u001b[0;32mNone\u001b[0m\u001b[0;34m,\u001b[0m \u001b[0;34m**\u001b[0m\u001b[0mkwargs\u001b[0m\u001b[0;34m)\u001b[0m\u001b[0;34m:\u001b[0m\u001b[0;34m\u001b[0m\u001b[0;34m\u001b[0m\u001b[0m\n",
            "\u001b[0;32m/usr/local/lib/python3.6/dist-packages/spotipy/client.py\u001b[0m in \u001b[0;36m_internal_call\u001b[0;34m(self, method, url, payload, params)\u001b[0m\n\u001b[1;32m    218\u001b[0m         \u001b[0;32mif\u001b[0m \u001b[0;32mnot\u001b[0m \u001b[0murl\u001b[0m\u001b[0;34m.\u001b[0m\u001b[0mstartswith\u001b[0m\u001b[0;34m(\u001b[0m\u001b[0;34m\"http\"\u001b[0m\u001b[0;34m)\u001b[0m\u001b[0;34m:\u001b[0m\u001b[0;34m\u001b[0m\u001b[0;34m\u001b[0m\u001b[0m\n\u001b[1;32m    219\u001b[0m             \u001b[0murl\u001b[0m \u001b[0;34m=\u001b[0m \u001b[0mself\u001b[0m\u001b[0;34m.\u001b[0m\u001b[0mprefix\u001b[0m \u001b[0;34m+\u001b[0m \u001b[0murl\u001b[0m\u001b[0;34m\u001b[0m\u001b[0;34m\u001b[0m\u001b[0m\n\u001b[0;32m--> 220\u001b[0;31m         \u001b[0mheaders\u001b[0m \u001b[0;34m=\u001b[0m \u001b[0mself\u001b[0m\u001b[0;34m.\u001b[0m\u001b[0m_auth_headers\u001b[0m\u001b[0;34m(\u001b[0m\u001b[0;34m)\u001b[0m\u001b[0;34m\u001b[0m\u001b[0;34m\u001b[0m\u001b[0m\n\u001b[0m\u001b[1;32m    221\u001b[0m \u001b[0;34m\u001b[0m\u001b[0m\n\u001b[1;32m    222\u001b[0m         \u001b[0;32mif\u001b[0m \u001b[0;34m\"content_type\"\u001b[0m \u001b[0;32min\u001b[0m \u001b[0margs\u001b[0m\u001b[0;34m[\u001b[0m\u001b[0;34m\"params\"\u001b[0m\u001b[0;34m]\u001b[0m\u001b[0;34m:\u001b[0m\u001b[0;34m\u001b[0m\u001b[0;34m\u001b[0m\u001b[0m\n",
            "\u001b[0;32m/usr/local/lib/python3.6/dist-packages/spotipy/client.py\u001b[0m in \u001b[0;36m_auth_headers\u001b[0;34m(self)\u001b[0m\n\u001b[1;32m    209\u001b[0m             \u001b[0;32mreturn\u001b[0m \u001b[0;34m{\u001b[0m\u001b[0;34m}\u001b[0m\u001b[0;34m\u001b[0m\u001b[0;34m\u001b[0m\u001b[0m\n\u001b[1;32m    210\u001b[0m         \u001b[0;32mtry\u001b[0m\u001b[0;34m:\u001b[0m\u001b[0;34m\u001b[0m\u001b[0;34m\u001b[0m\u001b[0m\n\u001b[0;32m--> 211\u001b[0;31m             \u001b[0mtoken\u001b[0m \u001b[0;34m=\u001b[0m \u001b[0mself\u001b[0m\u001b[0;34m.\u001b[0m\u001b[0mauth_manager\u001b[0m\u001b[0;34m.\u001b[0m\u001b[0mget_access_token\u001b[0m\u001b[0;34m(\u001b[0m\u001b[0mas_dict\u001b[0m\u001b[0;34m=\u001b[0m\u001b[0;32mFalse\u001b[0m\u001b[0;34m)\u001b[0m\u001b[0;34m\u001b[0m\u001b[0;34m\u001b[0m\u001b[0m\n\u001b[0m\u001b[1;32m    212\u001b[0m         \u001b[0;32mexcept\u001b[0m \u001b[0mTypeError\u001b[0m\u001b[0;34m:\u001b[0m\u001b[0;34m\u001b[0m\u001b[0;34m\u001b[0m\u001b[0m\n\u001b[1;32m    213\u001b[0m             \u001b[0mtoken\u001b[0m \u001b[0;34m=\u001b[0m \u001b[0mself\u001b[0m\u001b[0;34m.\u001b[0m\u001b[0mauth_manager\u001b[0m\u001b[0;34m.\u001b[0m\u001b[0mget_access_token\u001b[0m\u001b[0;34m(\u001b[0m\u001b[0;34m)\u001b[0m\u001b[0;34m\u001b[0m\u001b[0;34m\u001b[0m\u001b[0m\n",
            "\u001b[0;32m/usr/local/lib/python3.6/dist-packages/spotipy/oauth2.py\u001b[0m in \u001b[0;36mget_access_token\u001b[0;34m(self, code, as_dict, check_cache)\u001b[0m\n\u001b[1;32m    506\u001b[0m                     error_payload['error'], error_payload['error_description']),\n\u001b[1;32m    507\u001b[0m                 \u001b[0merror\u001b[0m\u001b[0;34m=\u001b[0m\u001b[0merror_payload\u001b[0m\u001b[0;34m[\u001b[0m\u001b[0;34m'error'\u001b[0m\u001b[0;34m]\u001b[0m\u001b[0;34m,\u001b[0m\u001b[0;34m\u001b[0m\u001b[0;34m\u001b[0m\u001b[0m\n\u001b[0;32m--> 508\u001b[0;31m                 error_description=error_payload['error_description'])\n\u001b[0m\u001b[1;32m    509\u001b[0m         \u001b[0mtoken_info\u001b[0m \u001b[0;34m=\u001b[0m \u001b[0mresponse\u001b[0m\u001b[0;34m.\u001b[0m\u001b[0mjson\u001b[0m\u001b[0;34m(\u001b[0m\u001b[0;34m)\u001b[0m\u001b[0;34m\u001b[0m\u001b[0;34m\u001b[0m\u001b[0m\n\u001b[1;32m    510\u001b[0m         \u001b[0mtoken_info\u001b[0m \u001b[0;34m=\u001b[0m \u001b[0mself\u001b[0m\u001b[0;34m.\u001b[0m\u001b[0m_add_custom_values_to_token_info\u001b[0m\u001b[0;34m(\u001b[0m\u001b[0mtoken_info\u001b[0m\u001b[0;34m)\u001b[0m\u001b[0;34m\u001b[0m\u001b[0;34m\u001b[0m\u001b[0m\n",
            "\u001b[0;31mSpotifyOauthError\u001b[0m: error: invalid_request, error_description: code must be supplied"
          ]
        }
      ]
    }
  ]
}